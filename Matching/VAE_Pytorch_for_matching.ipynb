{
  "nbformat": 4,
  "nbformat_minor": 0,
  "metadata": {
    "colab": {
      "name": "VAE Pytorch for matching.ipynb",
      "provenance": [],
      "collapsed_sections": []
    },
    "kernelspec": {
      "name": "python3",
      "display_name": "Python 3"
    }
  },
  "cells": [
    {
      "cell_type": "markdown",
      "metadata": {
        "id": "gJf0FvHP6YDE",
        "colab_type": "text"
      },
      "source": [
        "####  **Variational autoencoder for text matching via Pytorch**\n",
        "- Unsupervised sequence learning and semi-supervised learning for SNLI dataset are implemented."
      ]
    },
    {
      "cell_type": "code",
      "metadata": {
        "id": "z486md7U6R-S",
        "colab_type": "code",
        "colab": {}
      },
      "source": [
        "# packages and data import\n",
        "from torchtext import data\n",
        "from torchtext import datasets\n",
        "from torchtext.vocab import GloVe\n",
        "\n",
        "from nltk import word_tokenize\n",
        "import numpy as np\n",
        "\n",
        "import torch\n",
        "import torch.nn as nn\n",
        "import torch.nn.functional as F"
      ],
      "execution_count": 0,
      "outputs": []
    },
    {
      "cell_type": "code",
      "metadata": {
        "id": "RBpC548wsYtZ",
        "colab_type": "code",
        "outputId": "66ea74bb-d4f7-4b71-c296-5314233541e3",
        "colab": {
          "base_uri": "https://localhost:8080/",
          "height": 70
        }
      },
      "source": [
        "import nltk\n",
        "nltk.download('punkt')"
      ],
      "execution_count": 15,
      "outputs": [
        {
          "output_type": "stream",
          "text": [
            "[nltk_data] Downloading package punkt to /root/nltk_data...\n",
            "[nltk_data]   Package punkt is already up-to-date!\n"
          ],
          "name": "stdout"
        },
        {
          "output_type": "execute_result",
          "data": {
            "text/plain": [
              "True"
            ]
          },
          "metadata": {
            "tags": []
          },
          "execution_count": 15
        }
      ]
    },
    {
      "cell_type": "markdown",
      "metadata": {
        "id": "wZXvo00Gmehw",
        "colab_type": "text"
      },
      "source": [
        "#### **Glove NLP model from Stanford University**\n",
        "- GloVe: Global Vectors for Word Representation: \n",
        "  - https://nlp.stanford.edu/pubs/glove.pdf\n",
        "  - https://nlp.stanford.edu/projects/glove/\n",
        "  - https://nlp.stanford.edu/projects/snli/\n",
        "- Matrix P of word-word co-occurrence X:\n",
        "  - Entry Xij tabulate the number of times word j occurs in the context of word i. \n",
        "  - Pij = P(j|i) = Xij/Xi be the probability that word j appear in the context of word i\n",
        "-  Nearest neighbors measure\n",
        "  - The Euclidean distance (or cosine similarity) between two word vectors provides an effective method for measuring the linguistic or semantic similarity of the corresponding words. "
      ]
    },
    {
      "cell_type": "code",
      "metadata": {
        "id": "U-WpJ32u2By-",
        "colab_type": "code",
        "outputId": "09ce5343-b037-479f-b636-d83c4efe2077",
        "colab": {
          "base_uri": "https://localhost:8080/",
          "height": 125
        }
      },
      "source": [
        "!pip install json-lines"
      ],
      "execution_count": 0,
      "outputs": [
        {
          "output_type": "stream",
          "text": [
            "Collecting json-lines\n",
            "  Downloading https://files.pythonhosted.org/packages/7f/0f/79c96c0d26b276c583484fe8209e5ebbb416a920309568650325f6e1de73/json_lines-0.5.0-py2.py3-none-any.whl\n",
            "Requirement already satisfied: six in /usr/local/lib/python3.6/dist-packages (from json-lines) (1.12.0)\n",
            "Installing collected packages: json-lines\n",
            "Successfully installed json-lines-0.5.0\n"
          ],
          "name": "stdout"
        }
      ]
    },
    {
      "cell_type": "code",
      "metadata": {
        "id": "sSzzvXrc2FOC",
        "colab_type": "code",
        "outputId": "ddcb4c9e-def7-4994-a574-53078c9c3688",
        "colab": {
          "base_uri": "https://localhost:8080/",
          "height": 72
        }
      },
      "source": [
        "import json_lines\n",
        "\n",
        "with open('snli_1.0_dev.jsonl', 'rb') as f: # opening file in binary(rb) mode    \n",
        "   for item in json_lines.reader(f):\n",
        "       print(item) #or use print(item['X']) for printing specific data\n",
        "       break\n",
        "with open('snli_1.0_test.jsonl', 'rb') as f: # opening file in binary(rb) mode    \n",
        "   for item in json_lines.reader(f):\n",
        "       print(item) #or use print(item['X']) for printing specific data\n",
        "       break"
      ],
      "execution_count": 0,
      "outputs": [
        {
          "output_type": "stream",
          "text": [
            "{'annotator_labels': ['neutral', 'entailment', 'neutral', 'neutral', 'neutral'], 'captionID': '4705552913.jpg#2', 'gold_label': 'neutral', 'pairID': '4705552913.jpg#2r1n', 'sentence1': 'Two women are embracing while holding to go packages.', 'sentence1_binary_parse': '( ( Two women ) ( ( are ( embracing ( while ( holding ( to ( go packages ) ) ) ) ) ) . ) )', 'sentence1_parse': '(ROOT (S (NP (CD Two) (NNS women)) (VP (VBP are) (VP (VBG embracing) (SBAR (IN while) (S (NP (VBG holding)) (VP (TO to) (VP (VB go) (NP (NNS packages)))))))) (. .)))', 'sentence2': 'The sisters are hugging goodbye while holding to go packages after just eating lunch.', 'sentence2_binary_parse': '( ( The sisters ) ( ( are ( ( hugging goodbye ) ( while ( holding ( to ( ( go packages ) ( after ( just ( eating lunch ) ) ) ) ) ) ) ) ) . ) )', 'sentence2_parse': '(ROOT (S (NP (DT The) (NNS sisters)) (VP (VBP are) (VP (VBG hugging) (NP (UH goodbye)) (PP (IN while) (S (VP (VBG holding) (S (VP (TO to) (VP (VB go) (NP (NNS packages)) (PP (IN after) (S (ADVP (RB just)) (VP (VBG eating) (NP (NN lunch))))))))))))) (. .)))'}\n",
            "{'annotator_labels': ['neutral', 'contradiction', 'contradiction', 'neutral', 'neutral'], 'captionID': '2677109430.jpg#1', 'gold_label': 'neutral', 'pairID': '2677109430.jpg#1r1n', 'sentence1': 'This church choir sings to the masses as they sing joyous songs from the book at a church.', 'sentence1_binary_parse': '( ( This ( church choir ) ) ( ( ( sings ( to ( the masses ) ) ) ( as ( they ( ( sing ( joyous songs ) ) ( from ( ( the book ) ( at ( a church ) ) ) ) ) ) ) ) . ) )', 'sentence1_parse': '(ROOT (S (NP (DT This) (NN church) (NN choir)) (VP (VBZ sings) (PP (TO to) (NP (DT the) (NNS masses))) (SBAR (IN as) (S (NP (PRP they)) (VP (VBP sing) (NP (JJ joyous) (NNS songs)) (PP (IN from) (NP (NP (DT the) (NN book)) (PP (IN at) (NP (DT a) (NN church))))))))) (. .)))', 'sentence2': 'The church has cracks in the ceiling.', 'sentence2_binary_parse': '( ( The church ) ( ( has ( cracks ( in ( the ceiling ) ) ) ) . ) )', 'sentence2_parse': '(ROOT (S (NP (DT The) (NN church)) (VP (VBZ has) (NP (NP (NNS cracks)) (PP (IN in) (NP (DT the) (NN ceiling))))) (. .)))'}\n"
          ],
          "name": "stdout"
        }
      ]
    },
    {
      "cell_type": "markdown",
      "metadata": {
        "id": "tUMwtclv3WC2",
        "colab_type": "text"
      },
      "source": [
        "#### **Details for torchtext data class**\n",
        "- https://torchtext.readthedocs.io/en/latest/data.html\n",
        "- data.Field: defines a datatype together with instructions for converting to Tensor.\n",
        "  - Field class models common text processing datatypes that can be represented by tensors. It holds a Vocab object that defines the set of possible values for elements of the field and their corresponding numerical representations. The Field object also holds other parameters relating to how a datatype should be numericalized, such as a tokenization method and the kind of Tensor that should be produced."
      ]
    },
    {
      "cell_type": "markdown",
      "metadata": {
        "id": "VsyUTJbfHuwU",
        "colab_type": "text"
      },
      "source": [
        "#### **Additional: torchtext data experiment**\n",
        "- https://towardsdatascience.com/use-torchtext-to-load-nlp-datasets-part-i-5da6f1c89d84\n",
        "- data source: https://www.kaggle.com/c/jigsaw-toxic-comment-classification-challenge/data\n",
        "- Another complete tutorial: https://mlexplained.com/2018/02/08/a-comprehensive-tutorial-to-torchtext/"
      ]
    },
    {
      "cell_type": "code",
      "metadata": {
        "id": "X6_OqUIe6sOH",
        "colab_type": "code",
        "colab": {}
      },
      "source": [
        "# data\n",
        "class SNLI():\n",
        "  def __init__(self, args):\n",
        "    # batch_first: whether to produce tensors with the batch dimension first\n",
        "    # tokenize: function used to tokenize strings using this field into sequential examples. If “spacy”, the SpaCy tokenizer is used\n",
        "    # fix_length: fixed length that all examples using this field will be padded to\n",
        "    self.TEXT = data.Field(batch_first=True, tokenize=word_tokenize, lower=True, fix_length=29)\n",
        "    # sequential:specify that this column holds sequences\n",
        "    self.LABEL = data.Field(sequential=False, unk_token=None)\n",
        "    # https://torchtext.readthedocs.io/en/latest/datasets.html#snli\n",
        "    self.train, self.dev, self.test = datasets.SNLI.splits(self.TEXT, self.LABEL)\n",
        "\n",
        "    # construct the Vocab object for this field from one or more datasets.\n",
        "    # build the vocabulary so we can convert tokens/words into integer numbers later\n",
        "    self.TEXT.build_vocab(self.train, self.dev, self.test, vectors=GloVe(name='840B', dim=300))\n",
        "    self.LABEL.build_vocab(self.train)\n",
        "\n",
        "    # BucketIterator: defines an iterator that batches examples of similar lengths together\n",
        "    # device: device to create batches on. Use -1 for CPU and None for the currently active GPU device\n",
        "    self.train_iter, self.dev_iter, self.test_iter = data.BucketIterator.splits((self.train, self.dev, self.test), \n",
        "                                                                                batch_size=args.batch_size, device=args.gpu)"
      ],
      "execution_count": 0,
      "outputs": []
    },
    {
      "cell_type": "code",
      "metadata": {
        "id": "Pl7kd6ut6sGp",
        "colab_type": "code",
        "colab": {}
      },
      "source": [
        "TEXT = data.Field(batch_first=True, tokenize=word_tokenize, lower=True, fix_length=29)\n",
        "LABEL = data.Field(sequential=False, unk_token=None)\n",
        "train, dev, test = datasets.SNLI.splits(TEXT, LABEL)"
      ],
      "execution_count": 0,
      "outputs": []
    },
    {
      "cell_type": "code",
      "metadata": {
        "id": "l3_5YHo0GIV6",
        "colab_type": "code",
        "outputId": "af0dc723-5a33-4018-cf92-c895e246d2f9",
        "colab": {
          "base_uri": "https://localhost:8080/",
          "height": 230
        }
      },
      "source": [
        "# dev\n",
        "print(dev[0])\n",
        "print(len(dev))\n",
        "print(dev[0].__dict__.keys())\n",
        "print(dev[0].premise)\n",
        "print(dev[0].hypothesis)\n",
        "print(dev[0].label)\n",
        "# train and test\n",
        "print(train[0].__dict__.keys())\n",
        "print(len(train))\n",
        "print(train[0].label)\n",
        "print(test[0].__dict__.keys())\n",
        "print(len(test))\n",
        "print(test[0].label)"
      ],
      "execution_count": 0,
      "outputs": [
        {
          "output_type": "stream",
          "text": [
            "<torchtext.data.example.Example object at 0x7fcd70f96320>\n",
            "9842\n",
            "dict_keys(['premise', 'hypothesis', 'label'])\n",
            "['two', 'women', 'are', 'embracing', 'while', 'holding', 'to', 'go', 'packages', '.']\n",
            "['the', 'sisters', 'are', 'hugging', 'goodbye', 'while', 'holding', 'to', 'go', 'packages', 'after', 'just', 'eating', 'lunch', '.']\n",
            "neutral\n",
            "dict_keys(['premise', 'hypothesis', 'label'])\n",
            "549367\n",
            "neutral\n",
            "dict_keys(['premise', 'hypothesis', 'label'])\n",
            "9824\n",
            "neutral\n"
          ],
          "name": "stdout"
        }
      ]
    },
    {
      "cell_type": "markdown",
      "metadata": {
        "id": "KsLpNLta-H1H",
        "colab_type": "text"
      },
      "source": [
        "#### **torch.nn.Conv2d**\n",
        "- https://pytorch.org/docs/stable/nn.html"
      ]
    },
    {
      "cell_type": "code",
      "metadata": {
        "id": "MpD9tE_b_s7a",
        "colab_type": "code",
        "outputId": "97dc047b-af56-484f-b58c-a349c45fcc9e",
        "colab": {
          "base_uri": "https://localhost:8080/",
          "height": 401
        }
      },
      "source": [
        "# Kernel size explanation\n",
        "from IPython.display import Image\n",
        "Image(\"kernel size.PNG\")"
      ],
      "execution_count": 0,
      "outputs": [
        {
          "output_type": "execute_result",
          "data": {
            "image/png": "[encoded data removed]",
            "text/plain": [
              "<IPython.core.display.Image object>"
            ]
          },
          "metadata": {
            "tags": []
          },
          "execution_count": 37
        }
      ]
    },
    {
      "cell_type": "code",
      "metadata": {
        "id": "cpxzMybwAF0M",
        "colab_type": "code",
        "outputId": "69c8c243-e4df-4e92-a8af-ef8f1687b90f",
        "colab": {
          "base_uri": "https://localhost:8080/",
          "height": 264
        }
      },
      "source": [
        "from IPython.display import Image\n",
        "Image(\"stride.PNG\")\n",
        "# stride controls how the filter convolves around the input volume"
      ],
      "execution_count": 0,
      "outputs": [
        {
          "output_type": "execute_result",
          "data": {
            "image/png": "[encoded data removed]",
            "text/plain": [
              "<IPython.core.display.Image object>"
            ]
          },
          "metadata": {
            "tags": []
          },
          "execution_count": 38
        }
      ]
    },
    {
      "cell_type": "code",
      "metadata": {
        "id": "5vrqIAdbFuz6",
        "colab_type": "code",
        "outputId": "4ab003d3-6ffc-407f-ad01-316b4e138049",
        "colab": {
          "base_uri": "https://localhost:8080/",
          "height": 212
        }
      },
      "source": [
        "# squeeze and unsqueeze: delete and add dimensions at certain location - index starts from zero\n",
        "a = torch.rand(2, 3)\n",
        "print(a.shape)\n",
        "print(a)\n",
        "b = torch.unsqueeze(a, 1)\n",
        "print(b.shape)\n",
        "print(b)\n",
        "c = torch.unsqueeze(b, 0)\n",
        "print(c.shape)\n",
        "print(c)"
      ],
      "execution_count": 17,
      "outputs": [
        {
          "output_type": "stream",
          "text": [
            "torch.Size([2, 3])\n",
            "tensor([[0.2117, 0.9329, 0.8882],\n",
            "        [0.2283, 0.5948, 0.2738]])\n",
            "torch.Size([2, 1, 3])\n",
            "tensor([[[0.2117, 0.9329, 0.8882]],\n",
            "\n",
            "        [[0.2283, 0.5948, 0.2738]]])\n",
            "torch.Size([1, 2, 1, 3])\n",
            "tensor([[[[0.2117, 0.9329, 0.8882]],\n",
            "\n",
            "         [[0.2283, 0.5948, 0.2738]]]])\n"
          ],
          "name": "stdout"
        }
      ]
    },
    {
      "cell_type": "markdown",
      "metadata": {
        "id": "6ZLg89pPmQaP",
        "colab_type": "text"
      },
      "source": [
        "#### **Basic Convolution Encoder and Decoder class**"
      ]
    },
    {
      "cell_type": "code",
      "metadata": {
        "id": "J56u7kdR8QOa",
        "colab_type": "code",
        "colab": {}
      },
      "source": [
        "# Module class encoder and decoder:\n",
        "# torch.nn.Module: Base class for all neural network modules.\n",
        "# torch.nn.Conv2d(in_channels, out_channels, kernel_size, stride=1, padding=0, dilation=1, groups=1, bias=True, padding_mode='zeros')\n",
        "# Applies a 2D convolution over an input signal composed of several input planes.\n",
        "\n",
        "class ConvolutionEncoder(nn.Module):\n",
        "\tdef __init__(self, args):\n",
        "\t\tsuper(ConvolutionEncoder, self).__init__()\n",
        "  # kernel_size (int or tuple): Size of the convolving kernel\n",
        "  # stride (int or tuple, optional): Stride of the convolution. Default: 1\n",
        "\t\tself.conv1 = nn.Conv2d(1, args.feature_maps[0], (args.filter_size, args.word_dim), stride=args.stride)\n",
        "\t\tself.conv2 = nn.Conv2d(args.feature_maps[0], args.feature_maps[1], (args.filter_size, 1), stride=args.stride)\n",
        "\t\tself.conv3 = nn.Conv2d(args.feature_maps[1], args.feature_maps[2], (args.filter_size, 1), stride=args.stride)\n",
        "    # rectifier(activation function) defined as the positive part of its argument\n",
        "\t\tself.relu = nn.ReLU()\n",
        "\n",
        "\tdef forward(self, x):\n",
        "\t\t# reshape for convolution layer\n",
        "\t\tx.unsqueeze_(1)\n",
        "\t\th1 = self.relu(self.conv1(x))\n",
        "\t\th2 = self.relu(self.conv2(h1))\n",
        "\t\th3 = self.relu(self.conv3(h2))\n",
        "\t\t# (batch, feature_maps[2])\n",
        "\t\th3.squeeze_()\n",
        "\t\tif len(h3.size()) < 2:\n",
        "\t\t\th3.unsqueeze_(0)\n",
        "\t\treturn h3\n",
        "\n",
        "class DeconvolutionDecoder(nn.Module):\n",
        "\tdef __init__(self, args):\n",
        "\t\tsuper(DeconvolutionDecoder, self).__init__()\n",
        "\t\tself.deconv1 = nn.ConvTranspose2d(args.latent_size, args.feature_maps[1], (args.filter_size, 1), stride=args.stride)\n",
        "\t\tself.deconv2 = nn.ConvTranspose2d(args.feature_maps[1], args.feature_maps[0], (args.filter_size, 1), stride=args.stride)\n",
        "\t\tself.deconv3 = nn.ConvTranspose2d(args.feature_maps[0], 1, (args.filter_size, args.word_dim), stride=args.stride)\n",
        "\t\tself.relu = nn.ReLU()\n",
        "\n",
        "\tdef forward(self, z):\n",
        "\t\t# reshape for deconvolution layer\n",
        "\t\tz = z.unsqueeze(-1).unsqueeze(-1)\n",
        "\t\th2 = self.relu(self.deconv1(z))\n",
        "\t\th1 = self.relu(self.deconv2(h2))\n",
        "\t\tx_hat = self.relu(self.deconv3(h1))\n",
        "\t\t# (batch, seq_len, word_dim)\n",
        "\t\tx_hat.squeeze_()\n",
        "\t\tif len(x_hat.size()) < 3:\n",
        "\t\t\tx_hat.unsqueeze_(0)\n",
        "\t\treturn x_hat"
      ],
      "execution_count": 0,
      "outputs": []
    },
    {
      "cell_type": "code",
      "metadata": {
        "id": "CzQR8XM4K9gv",
        "colab_type": "code",
        "outputId": "57d163df-063b-43a3-ec1f-bb159bc2969b",
        "colab": {
          "base_uri": "https://localhost:8080/",
          "height": 123
        }
      },
      "source": [
        "# nn.Linear: applies a linear transformation to the incoming data - y=xA^T+b\n",
        "m = nn.Linear(20, 30)\n",
        "input_ = torch.randn(128, 20)\n",
        "output = m(input_)\n",
        "print(output.size())\n",
        "\n",
        "# nn.Dropout: \n",
        "# During training, randomly zeroes some of the elements of the input\n",
        "# tensor with probability :attr:`p` using samples from a Bernoulli distribution\n",
        "m = nn.Dropout(p=0.4)\n",
        "input_ = torch.randn(5, 5)\n",
        "output = m(input_)\n",
        "print(output)"
      ],
      "execution_count": 19,
      "outputs": [
        {
          "output_type": "stream",
          "text": [
            "torch.Size([128, 30])\n",
            "tensor([[ 3.6193,  0.0000, -0.8486, -1.2999,  0.0000],\n",
            "        [-0.9898, -0.9549, -0.6381,  2.6899, -0.0000],\n",
            "        [-0.9433, -3.6226,  0.0000,  0.0000,  2.7049],\n",
            "        [-0.0000, -0.2302, -0.0000, -0.6319, -0.1670],\n",
            "        [ 0.4955, -0.0000,  1.4237,  2.5574,  0.2916]])\n"
          ],
          "name": "stdout"
        }
      ]
    },
    {
      "cell_type": "code",
      "metadata": {
        "id": "M8PHV6IzVf1A",
        "colab_type": "code",
        "outputId": "67a62281-2ec9-4b5c-ea16-c4c6d7a8fff6",
        "colab": {
          "base_uri": "https://localhost:8080/",
          "height": 461
        }
      },
      "source": [
        "## torch.bmm: batch matrix-multiplication\n",
        "cc=torch.randn((2,2,5))\n",
        "print(cc)\n",
        "dd=torch.reshape(cc,(2,5,2))\n",
        "print(dd)\n",
        "e=torch.bmm(cc,dd)\n",
        "print(e)\n",
        "e.size()\n",
        "# decompose \n",
        "print(torch.mm(cc[0,:,:], dd[0,:,:]))\n",
        "print(torch.mm(cc[1,:,:], dd[1,:,:]))"
      ],
      "execution_count": 20,
      "outputs": [
        {
          "output_type": "stream",
          "text": [
            "tensor([[[ 0.2927,  0.3490, -2.4887, -2.2404,  2.2300],\n",
            "         [-1.2330, -1.4926,  0.3051, -1.5265, -0.5048]],\n",
            "\n",
            "        [[ 1.9837,  0.1778, -0.0176, -0.0604,  0.2230],\n",
            "         [ 0.5170, -0.6095, -0.6086, -0.8372, -1.1075]]])\n",
            "tensor([[[ 0.2927,  0.3490],\n",
            "         [-2.4887, -2.2404],\n",
            "         [ 2.2300, -1.2330],\n",
            "         [-1.4926,  0.3051],\n",
            "         [-1.5265, -0.5048]],\n",
            "\n",
            "        [[ 1.9837,  0.1778],\n",
            "         [-0.0176, -0.0604],\n",
            "         [ 0.2230,  0.5170],\n",
            "         [-0.6095, -0.6086],\n",
            "         [-0.8372, -1.1075]]])\n",
            "tensor([[[-6.3929,  0.5797],\n",
            "         [ 7.0830,  2.3267]],\n",
            "\n",
            "        [[ 3.7781,  0.1226],\n",
            "         [ 2.3380,  1.5501]]])\n",
            "tensor([[-6.3929,  0.5797],\n",
            "        [ 7.0830,  2.3267]])\n",
            "tensor([[3.7781, 0.1226],\n",
            "        [2.3380, 1.5501]])\n"
          ],
          "name": "stdout"
        }
      ]
    },
    {
      "cell_type": "code",
      "metadata": {
        "id": "2mb6ZdpycxWR",
        "colab_type": "code",
        "outputId": "42988c2c-a88c-4aa9-efb3-c8cb18a3a9a8",
        "colab": {
          "base_uri": "https://localhost:8080/",
          "height": 496
        }
      },
      "source": [
        "# torch.unsqueeze_(-1).expand()\n",
        "a = torch.Tensor([[0,1,2],[3,4,5],[6,7,8]])\n",
        "print(a.shape)\n",
        "print(a)\n",
        "a.unsqueeze_(-1)\n",
        "print(a.shape)\n",
        "print(a)\n",
        "a = a.expand(3, 3, 10)\n",
        "print(a)"
      ],
      "execution_count": 21,
      "outputs": [
        {
          "output_type": "stream",
          "text": [
            "torch.Size([3, 3])\n",
            "tensor([[0., 1., 2.],\n",
            "        [3., 4., 5.],\n",
            "        [6., 7., 8.]])\n",
            "torch.Size([3, 3, 1])\n",
            "tensor([[[0.],\n",
            "         [1.],\n",
            "         [2.]],\n",
            "\n",
            "        [[3.],\n",
            "         [4.],\n",
            "         [5.]],\n",
            "\n",
            "        [[6.],\n",
            "         [7.],\n",
            "         [8.]]])\n",
            "tensor([[[0., 0., 0., 0., 0., 0., 0., 0., 0., 0.],\n",
            "         [1., 1., 1., 1., 1., 1., 1., 1., 1., 1.],\n",
            "         [2., 2., 2., 2., 2., 2., 2., 2., 2., 2.]],\n",
            "\n",
            "        [[3., 3., 3., 3., 3., 3., 3., 3., 3., 3.],\n",
            "         [4., 4., 4., 4., 4., 4., 4., 4., 4., 4.],\n",
            "         [5., 5., 5., 5., 5., 5., 5., 5., 5., 5.]],\n",
            "\n",
            "        [[6., 6., 6., 6., 6., 6., 6., 6., 6., 6.],\n",
            "         [7., 7., 7., 7., 7., 7., 7., 7., 7., 7.],\n",
            "         [8., 8., 8., 8., 8., 8., 8., 8., 8., 8.]]])\n"
          ],
          "name": "stdout"
        }
      ]
    },
    {
      "cell_type": "markdown",
      "metadata": {
        "id": "6oIeL_Wim2Yb",
        "colab_type": "text"
      },
      "source": [
        "#### **DeCon VAE and jointed DeConVAE optimization**"
      ]
    },
    {
      "cell_type": "code",
      "metadata": {
        "id": "2p15y2qiHuOj",
        "colab_type": "code",
        "colab": {}
      },
      "source": [
        "class DeConvVAE(nn.Module):\n",
        "\tdef __init__(self, args, data):\n",
        "\t\tsuper(DeConvVAE, self).__init__()\n",
        "\t\tself.args = args\n",
        "\t\tself.encoder = ConvolutionEncoder(args)\n",
        "\t\t# Gaussian distribution assumption for latent variables \n",
        "\t\tself.fc_mu = nn.Linear(args.feature_maps[2], args.latent_size)\n",
        "\t\tself.fc_logvar\t= nn.Linear(args.feature_maps[2], args.latent_size)\n",
        "\t\tself.decoder = DeconvolutionDecoder(args)\n",
        "\t\tself.dropout = nn.Dropout(args.dropout)\n",
        "\n",
        "\t# follow unsupervised sequence learning formula (4) in paper\n",
        "\t# generate latent variable through encoder network\n",
        "\tdef reparameterize(self, mu, logvar):\n",
        "\t\tif self.training:\n",
        "\t\t\tstd = torch.exp(0.5 * logvar)\n",
        "\t \t\t# Returns a tensor with the same size as :attr:`input` that is filled with\n",
        "\t\t\t# random numbers from a normal distribution with mean 0 and variance 1\n",
        "\t\t\teps = torch.randn_like(std)\n",
        "\t\t\treturn eps.mul(std).add_(mu)\n",
        "\t\telse:\n",
        "\t\t\treturn mu\n",
        "\n",
        "\tdef forward(self, x, word_emb):\n",
        "\t\t# Encode\n",
        "\t\th = self.encoder(self.dropout(x))\n",
        "\t\tmu = self.fc_mu(self.dropout(h))\n",
        "\t\tlogvar = self.fc_logvar(self.dropout(h))\n",
        "\t\t# Sample\n",
        "\t\tz = self.reparameterize(mu, logvar)\n",
        "\t\t# Decode\n",
        "\t\tx_hat = self.decoder(z)\n",
        "\t\t# normalize\n",
        "\t\t# dim (int, 2-tuple of python:ints, 2-list of python:ints, optional)\n",
        "\t\t# If it is an int, vector norm will be calculated, if it is 2-tuple of ints, matrix norm will be calculated\n",
        "\t\tnorm_x_hat = torch.norm(x_hat, 2, dim=2, keepdim=True) # vector norm\n",
        "\t\trec_x_hat = x_hat / norm_x_hat\n",
        "\t\tnorm_w = torch.norm(word_emb.weight.data, 2, dim=1, keepdim=True)\n",
        "\t\trec_w = (word_emb.weight.data / (norm_w + 1e-20)).t()\n",
        "\t\t# compute probability\n",
        "\t\t# word vector has turned into words bag proportion\n",
        "\t\tprob_logits = torch.bmm(rec_x_hat, rec_w.unsqueeze(0).expand(rec_x_hat.size(0), *rec_w.size())) / self.args.tau\n",
        "\t\tlog_prob = F.log_softmax(prob_logits, dim=2)\n",
        "\t\treturn log_prob, mu, logvar, z\n",
        "\n",
        "\tdef generate(self, sample_num, word_emb):\n",
        "\t\tlatent_size = self.args.latent_size\n",
        "\t\t# the code can run on gpu (or) cpu, we can use the gpu if available\n",
        "\t\tdevice = torch.device(self.args.device)\n",
        "\t\t# Sample - standard normal distribution\n",
        "\t\tz = torch.cat([torch.randn(latent_size).unsqueeze_(0) for i in range(sample_num)], dim=0)\n",
        "\t\tz = z.to(device)\n",
        "\t\t# Decode\n",
        "\t\tx_hat  = self.decoder(z)\n",
        "\t\t# normalize\n",
        "\t\tnorm_x_hat = torch.norm(x_hat, 2, dim=2, keepdim=True)\n",
        "\t\trec_x_hat = x_hat / norm_x_hat\n",
        "\t\tnorm_w = torch.norm(word_emb.weight.data, 2, dim=1, keepdim=True)\n",
        "\t\trec_w = (word_emb.weight.data / (norm_w + 1e-20)).t()\n",
        "\t\t# compute probability\n",
        "\t\tprob_logits = torch.bmm(rec_x_hat, rec_w.unsqueeze(0).expand(rec_x_hat.size(0), *rec_w.size())) / self.args.tau\n",
        "\t\tlog_prob = F.log_softmax(prob_logits, dim=2)\n",
        "\t\treturn log_prob"
      ],
      "execution_count": 0,
      "outputs": []
    },
    {
      "cell_type": "code",
      "metadata": {
        "id": "WhiWlP1FI0uU",
        "colab_type": "code",
        "colab": {}
      },
      "source": [
        "class NN4VAE(nn.Module):\n",
        "\tdef __init__(self, args, data):\n",
        "\t\tsuper(NN4VAE, self).__init__()\n",
        "\t\tself.args = args\n",
        "    # vocab_size is the number of words in your train, val and test set\n",
        "    # vector_size is the dimension of the word vectors you are using\n",
        "\t\tself.word_emb = nn.Embedding(args.word_vocab_size, args.word_dim)\n",
        "\t\t# initialize word embedding with GloVe (first item - \"word\")\n",
        "    # pretrained_weights is a numpy array of size (vocab_size, vector_size) and \n",
        "    # pretrained_weights[i] retrieves the word vector of i-th word in the vocabulary\n",
        "    # embedding weight:\n",
        "    # https://github.com/pytorch/pytorch/blob/master/torch/nn/modules/sparse.py#L127-L158\n",
        "\t\tself.word_emb.weight.data.copy_(data.TEXT.vocab.vectors)\n",
        "\t\t# fine-tune the word embedding\n",
        "\t\tself.word_emb.weight.requires_grad = True\n",
        "\t\t# <unk> vectors is randomly initialized\n",
        "    # uniform distribution U(a,b)\n",
        "\t\tnn.init.uniform_(self.word_emb.weight.data[0], -0.05, 0.05)\n",
        "\t\tself.vae = DeConvVAE(args, data)\n",
        "\n",
        "\tdef forward(self, x):\n",
        "\t\t# word embedding\n",
        "\t\tx = self.word_emb(x)\n",
        "\t\tlog_prob, mu, logvar, z = self.vae(x, self.word_emb)\n",
        "\t\treturn log_prob, mu, logvar, z\n",
        "\n",
        "\tdef generate(self, sample_num):\n",
        "\t\treturn self.vae.generate(sample_num, self.word_emb)"
      ],
      "execution_count": 0,
      "outputs": []
    },
    {
      "cell_type": "code",
      "metadata": {
        "id": "nsk78oHcHuMc",
        "colab_type": "code",
        "colab": {}
      },
      "source": [
        "class NN4SNLI(nn.Module):\n",
        "\tdef __init__(self, args, data):\n",
        "\t\tsuper(NN4SNLI, self).__init__()\n",
        "\t\tself.args = args\n",
        "\t\tself.word_emb = nn.Embedding(args.word_vocab_size, args.word_dim)\n",
        "\t\t# initialize word embedding with GloVe\n",
        "\t\tself.word_emb.weight.data.copy_(data.TEXT.vocab.vectors)\n",
        "\t\t# fine-tune the word embedding\n",
        "\t\tself.word_emb.weight.requires_grad = True\n",
        "\t\t# <unk> vectors is randomly initialized\n",
        "\t\tnn.init.uniform_(self.word_emb.weight.data[0], -0.05, 0.05)\n",
        "\t\tself.vae = DeConvVAE(args, data)\n",
        "\t\n",
        "\t\tself.fc_1 = nn.Linear(4*args.latent_size, args.hidden_size)\n",
        "\t\tself.fc_2 = nn.Linear(args.hidden_size, args.hidden_size)\n",
        "\t\tself.fc_out = nn.Linear(args.hidden_size, args.class_size)\n",
        "\t\tself.relu = nn.ReLU()\n",
        "\t\n",
        "\t# joint optimization to learn both reconstruction and matching heuristics m to probability\n",
        "\tdef forward(self, batch):\n",
        "\t\tp = batch.premise\n",
        "\t\th = batch.hypothesis\n",
        "\t\t# (batch, seq_len, word_dim)\n",
        "\t\tp_x = self.word_emb(p)\n",
        "\t\th_x = self.word_emb(h)\n",
        "\t\t# VAE\n",
        "\t\tp_log_prob, p_mu, p_logvar, z_p = self.vae(p_x, self.word_emb)\n",
        "\t\th_log_prob, h_mu, h_logvar, z_h = self.vae(h_x, self.word_emb)\n",
        "\t\t# matching layer\n",
        "\t\tm = torch.cat([z_p, z_h, z_p-z_h, z_p*z_h], dim=-1)\n",
        "\t\t# fully-connected layers\n",
        "\t\tout = self.relu(self.fc_1(m))\n",
        "\t\tout = self.relu(self.fc_2(out))\n",
        "\t\tout = self.fc_out(out)\n",
        "\t\treturn out, p_log_prob, p_mu, p_logvar, h_log_prob, h_mu, h_logvar"
      ],
      "execution_count": 0,
      "outputs": []
    },
    {
      "cell_type": "markdown",
      "metadata": {
        "id": "1FKLvzWynW_d",
        "colab_type": "text"
      },
      "source": [
        "#### **Training Modules**"
      ]
    },
    {
      "cell_type": "code",
      "metadata": {
        "id": "92A3UvOjpwmO",
        "colab_type": "code",
        "outputId": "1b93c170-0d20-47ac-8fcc-3b492e461c53",
        "colab": {
          "base_uri": "https://localhost:8080/",
          "height": 105
        }
      },
      "source": [
        "!pip install tensorboardX"
      ],
      "execution_count": 25,
      "outputs": [
        {
          "output_type": "stream",
          "text": [
            "Requirement already satisfied: tensorboardX in /usr/local/lib/python3.6/dist-packages (1.9)\n",
            "Requirement already satisfied: numpy in /usr/local/lib/python3.6/dist-packages (from tensorboardX) (1.17.4)\n",
            "Requirement already satisfied: protobuf>=3.8.0 in /usr/local/lib/python3.6/dist-packages (from tensorboardX) (3.10.0)\n",
            "Requirement already satisfied: six in /usr/local/lib/python3.6/dist-packages (from tensorboardX) (1.12.0)\n",
            "Requirement already satisfied: setuptools in /usr/local/lib/python3.6/dist-packages (from protobuf>=3.8.0->tensorboardX) (41.6.0)\n"
          ],
          "name": "stdout"
        }
      ]
    },
    {
      "cell_type": "code",
      "metadata": {
        "id": "NZfbu9uGpQWF",
        "colab_type": "code",
        "colab": {}
      },
      "source": [
        "import argparse\n",
        "import copy\n",
        "import os\n",
        "\n",
        "from torch import nn, optim\n",
        "import torch.nn.functional as F\n",
        "from tensorboardX import SummaryWriter\n",
        "from time import gmtime, strftime"
      ],
      "execution_count": 0,
      "outputs": []
    },
    {
      "cell_type": "code",
      "metadata": {
        "id": "xSDZE9HEqLVC",
        "colab_type": "code",
        "colab": {}
      },
      "source": [
        "def count_parameters(model):\n",
        "  # sum of number of elements in each parameter\n",
        "\treturn sum(p.numel() for p in model.parameters() if p.requires_grad)"
      ],
      "execution_count": 0,
      "outputs": []
    },
    {
      "cell_type": "code",
      "metadata": {
        "id": "4rrRk1L5qf93",
        "colab_type": "code",
        "colab": {
          "base_uri": "https://localhost:8080/",
          "height": 34
        },
        "outputId": "d7103a76-7788-4aa0-e150-95de23f48920"
      },
      "source": [
        "# A quick KL divergence test func\n",
        "def KL(a, b):\n",
        "    a = np.asarray(a, dtype=np.float)\n",
        "    b = np.asarray(b, dtype=np.float)\n",
        "    return np.sum(np.where(a != 0, a*np.log(a/b), 0))\n",
        "values1 = [1.346112,1.337432,1.246655]\n",
        "values2 = [1.033836,1.082015,1.117323]\n",
        "print(KL(values1, values2))"
      ],
      "execution_count": 29,
      "outputs": [
        {
          "output_type": "stream",
          "text": [
            "0.7752796240788413\n"
          ],
          "name": "stdout"
        }
      ]
    },
    {
      "cell_type": "code",
      "metadata": {
        "id": "wCTk6mGtHuH7",
        "colab_type": "code",
        "colab": {}
      },
      "source": [
        "# VAE reconstruction loss\n",
        "def compute_cross_entropy(log_prob, target):\n",
        "\t# compute reconstruction loss using cross entropy\n",
        "\t# negative log likelihood loss: https://ljvmiranda921.github.io/notebook/2017/08/13/softmax-and-the-negative-log-likelihood/\n",
        "\tloss = [F.nll_loss(sentence_emb_matrix, word_ids, size_average=False) for sentence_emb_matrix, word_ids in zip(log_prob, target)]\n",
        "\taverage_loss = sum([torch.sum(l) for l in loss]) / log_prob.size()[0]\n",
        "\treturn average_loss\n",
        "\n",
        "def loss_function(log_prob, target, mu, logvar):\n",
        "\treconst = compute_cross_entropy(log_prob, target)\n",
        "\t# https://arxiv.org/pdf/1312.6114.pdf\n",
        "\t# see Appendix B from VAE paper:\n",
        "  # Kingma and Welling. Auto-Encoding Variational Bayes. ICLR, 2014\n",
        "\tKLD = -0.5 * torch.sum(1 + logvar - mu.pow(2) - logvar.exp(), dim=-1).mean()\n",
        "\treturn reconst, KLD"
      ],
      "execution_count": 0,
      "outputs": []
    },
    {
      "cell_type": "markdown",
      "metadata": {
        "id": "-tBX3ZFE7BEr",
        "colab_type": "text"
      },
      "source": [
        "#### **Tensorboard in Google Colab**\n",
        "- Tutorial: https://www.dlology.com/blog/quick-guide-to-run-tensorboard-in-google-colab/"
      ]
    },
    {
      "cell_type": "code",
      "metadata": {
        "id": "UASidMFZ6UXL",
        "colab_type": "code",
        "colab": {
          "base_uri": "https://localhost:8080/",
          "height": 265
        },
        "outputId": "dea89435-31e5-4d15-ace6-df7877b11be4"
      },
      "source": [
        "!wget https://bin.equinox.io/c/4VmDzA7iaHb/ngrok-stable-linux-amd64.zip\n",
        "!unzip ngrok-stable-linux-amd64.zip"
      ],
      "execution_count": 57,
      "outputs": [
        {
          "output_type": "stream",
          "text": [
            "--2019-12-04 21:57:45--  https://bin.equinox.io/c/4VmDzA7iaHb/ngrok-stable-linux-amd64.zip\n",
            "Resolving bin.equinox.io (bin.equinox.io)... 34.203.32.42, 52.86.66.223, 34.237.57.234, ...\n",
            "Connecting to bin.equinox.io (bin.equinox.io)|34.203.32.42|:443... connected.\n",
            "HTTP request sent, awaiting response... 200 OK\n",
            "Length: 13773305 (13M) [application/octet-stream]\n",
            "Saving to: ‘ngrok-stable-linux-amd64.zip.1’\n",
            "\n",
            "ngrok-stable-linux- 100%[===================>]  13.13M  38.3MB/s    in 0.3s    \n",
            "\n",
            "2019-12-04 21:57:45 (38.3 MB/s) - ‘ngrok-stable-linux-amd64.zip.1’ saved [13773305/13773305]\n",
            "\n",
            "Archive:  ngrok-stable-linux-amd64.zip\n",
            "replace ngrok? [y]es, [n]o, [A]ll, [N]one, [r]ename: y\n",
            "  inflating: ngrok                   \n"
          ],
          "name": "stdout"
        }
      ]
    },
    {
      "cell_type": "code",
      "metadata": {
        "id": "hkgqrQBA6UVH",
        "colab_type": "code",
        "colab": {
          "base_uri": "https://localhost:8080/",
          "height": 34
        },
        "outputId": "5f5c2700-4cab-448b-ec30-fa84a92af842"
      },
      "source": [
        "LOG_DIR = './'\n",
        "get_ipython().system_raw(\n",
        "    'tensorboard --logdir {} --host 0.0.0.0 --port 6006 &'\n",
        "    .format(LOG_DIR))\n",
        "\n",
        "get_ipython().system_raw('./ngrok http 6006 &')\n",
        "\n",
        "! curl -s http://localhost:4040/api/tunnels | python3 -c \\\n",
        "    \"import sys, json; print(json.load(sys.stdin)['tunnels'][0]['public_url'])\""
      ],
      "execution_count": 58,
      "outputs": [
        {
          "output_type": "stream",
          "text": [
            "https://d22e635a.ngrok.io\n"
          ],
          "name": "stdout"
        }
      ]
    },
    {
      "cell_type": "code",
      "metadata": {
        "id": "TVcyN5jd00h-",
        "colab_type": "code",
        "colab": {}
      },
      "source": [
        "# Epochs: One Epoch is when an ENTIRE dataset is passed forward and backward through the neural network only ONCE\n",
        "# Batch Size: Total number of training examples present in a single batch\n",
        "# Iterations: Iterations is the number of batches needed to complete one epoch\n",
        "\n",
        "def train(args, data):\n",
        "  model = NN4VAE(args, data)\n",
        "  model.to(torch.device(args.device))\n",
        "\n",
        "  parameters = filter(lambda p: p.requires_grad, model.parameters())\n",
        "  optimizer = optim.Adam(parameters, lr=args.learning_rate)\n",
        "  print(\"number of all parameters: \" + str(count_parameters(model)))\n",
        "  writer = SummaryWriter(log_dir='runs/' + args.model_time)\n",
        "\n",
        "  # model.train() tells your model that you are training the model. \n",
        "  # So effectively layers like dropout, batchnorm etc. \n",
        "  # which behave different on the train and test procedures know what is going on and hence can behave accordingly.\n",
        "  # More detailed:\n",
        "  # It sets the mode to train (see source code). \n",
        "  # You can call either model.eval() or model.train(mode=False) to tell that you are testing. \n",
        "  # It is somewhat intuitive to expect train function to train model but it does not do that. It just sets the mode.\n",
        "  model.train()\n",
        "\n",
        "  # initialization\n",
        "  train_reconst, train_KLD = 0, 0\n",
        "  loss, size, last_epoch = 0, 0, -1\n",
        "  iterator = data.train_iter\n",
        "\n",
        "  for i, batch in enumerate(iterator):\n",
        "    # generate epoch samples till args.epoch\n",
        "    present_epoch = int(iterator.epoch)\n",
        "    if present_epoch == args.epoch:\n",
        "      break\n",
        "    if present_epoch > last_epoch:\n",
        "      print('epoch:', present_epoch + 1)\n",
        "      generate(model, args, data, sample_num=10)\n",
        "    last_epoch = present_epoch\n",
        "    # batch samples generate\n",
        "    batch_text = torch.cat([batch.premise, batch.hypothesis], dim=0)\n",
        "    log_prob, mu, logvar, _ = model(batch_text)\n",
        "\n",
        "    optimizer.zero_grad()\n",
        "    reconst, KLD = loss_function(log_prob, batch_text, mu, logvar)\n",
        "    batch_loss = reconst + KLD\n",
        "    loss += batch_loss.item()\n",
        "    # batch_loss.backward() computes dloss/dx for every parameter x which has requires_grad=True\n",
        "    # These are accumulated into x.grad for every parameter x\n",
        "    # train the model based on both reconstruction and KLD loss\n",
        "    batch_loss.backward()\n",
        "    # optimizer.step() updates the value of x using the gradient x.grad\n",
        "    optimizer.step()\n",
        "\n",
        "    train_reconst += reconst.item()\n",
        "    train_KLD += KLD.item()\n",
        "    size += 1\n",
        "\n",
        "    writer.add_scalar('./', KLD.item(), size)\n",
        "    if (i + 1) % args.print_freq == 0:\n",
        "      train_reconst /= size\n",
        "      train_KLD /= size\n",
        "      loss /= size\n",
        "      # dev and test loss-reconstruct-KLD calculate\n",
        "      dev_loss, dev_reconst, dev_KLD = test(model, data, mode='dev')\n",
        "      test_loss, test_reconst, test_KLD = test(model, data)\n",
        "\n",
        "      c = (i + 1) // args.print_freq\n",
        "      writer.add_scalar('loss/train', loss, c)\n",
        "      writer.add_scalar('reconstruction loss/train', train_reconst, c)\n",
        "      writer.add_scalar('loss/dev', dev_loss, c)\n",
        "      writer.add_scalar('reconstruction loss/dev', dev_reconst, c)\n",
        "      writer.add_scalar('KL_divergence/dev', dev_KLD, c)\n",
        "      writer.add_scalar('loss/test', test_loss, c)\n",
        "      writer.add_scalar('reconstruction loss/test', test_reconst, c)\n",
        "      writer.add_scalar('KL_divergence/test', test_KLD, c)\n",
        "      print(f'train loss: {loss:.5f} / train reconstruction loss: {train_reconst:.5f} / train KL divergence: {train_KLD:.5f}')\n",
        "      print(f'dev loss: {dev_loss:.5f} / dev reconstruction loss: {dev_reconst:.5f} / dev KL divergence: {dev_KLD:.5f}')\n",
        "      print(f'test loss: {test_loss:.5f} / test reconstruction loss: {test_reconst:.5f} / test KL divergence: {test_KLD:.5f}')\n",
        "      # reconstuct an example from test set\n",
        "      example(model, args, data)\n",
        "      # turn to next epoch and initialize\n",
        "      train_reconst, train_KLD, loss, size = 0, 0, 0, 0\n",
        "      model.train()\n",
        "  writer.close()\n",
        "  return model"
      ],
      "execution_count": 0,
      "outputs": []
    },
    {
      "cell_type": "code",
      "metadata": {
        "id": "N09HICr0w-0E",
        "colab_type": "code",
        "colab": {}
      },
      "source": [
        "# SNLI model contains matching heuristics\n",
        "def snli_train(args, data):\n",
        "\tmodel = NN4SNLI(args, data)\n",
        "\tmodel.to(torch.device(args.device))\n",
        "\n",
        "\tparameters = filter(lambda p: p.requires_grad, model.parameters())\n",
        "\toptimizer = optim.Adam(parameters, lr=args.learning_rate)\n",
        "  # CrossEntropyLoss() useful when training a classification problem with C classes\n",
        "\tcriterion = nn.CrossEntropyLoss()\n",
        "\tprint(\"number of all parameters: \" + str(count_parameters(model)))\n",
        "\twriter = SummaryWriter(log_dir='runs/' + args.model_time)\n",
        "\n",
        "\tmodel.train()\n",
        "\tacc, loss, size, last_epoch = 0, 0, 0, -1\n",
        "\ttrain_reconst, train_KLD, vae_size = 0, 0, 0\n",
        "\tmax_dev_acc, max_test_acc = 0, 0\n",
        "  # alpha corresponds to relative weights control for generative loss and sequence matching\n",
        "\talpha = torch.Tensor([-0.1]).to(torch.device(args.device))\n",
        "\n",
        "\titerator = data.train_iter\n",
        "\tfor i, batch in enumerate(iterator):\n",
        "\t\tpresent_epoch = int(iterator.epoch)\n",
        "\t\tif present_epoch == args.epoch:\n",
        "\t\t\tbreak\n",
        "\t\tif present_epoch > last_epoch:\n",
        "\t\t\tprint('epoch:', present_epoch + 1)\n",
        "\t\t\tif alpha < 1:\n",
        "\t\t\t\talpha += 0.1\n",
        "\t\tlast_epoch = present_epoch\n",
        "    # pred here returns the sequence matching heuristics measure\n",
        "\t\tpred, p_log_prob, p_mu, p_logvar, h_log_prob, h_mu, h_logvar = model(batch)\n",
        "\n",
        "\t\toptimizer.zero_grad()\n",
        "    # proportional cross entropy classification error \n",
        "\t\tbatch_loss = alpha*criterion(pred, batch.label)\n",
        "    # two VAE reconstruction error\n",
        "\t\tp_reconst, p_KLD = loss_function(p_log_prob, batch.premise, p_mu, p_logvar)\n",
        "\t\th_reconst, h_KLD = loss_function(h_log_prob, batch.hypothesis, h_mu, h_logvar)\n",
        "\t\tbatch_loss += p_reconst + h_reconst + p_KLD + h_KLD\n",
        "\t\tloss += batch_loss.item()\n",
        "    # sum batch_loss and differential\n",
        "\t\tbatch_loss.backward()\n",
        "\t\toptimizer.step()\n",
        "\n",
        "\t\ttrain_reconst += p_reconst.item() + h_reconst.item()\n",
        "\t\ttrain_KLD += p_KLD.item() + h_KLD.item()\n",
        "\t\tvae_size += 2\n",
        "    # accuracy records\n",
        "\t\t_, pred = pred.max(dim=1)\n",
        "\t\tacc += (pred == batch.label).sum().float()\n",
        "\t\tsize += len(pred)\n",
        "\n",
        "\t\tif (i + 1) % args.print_freq == 0:\n",
        "\t\t\tacc /= size\n",
        "\t\t\tacc = acc.cpu().item()\n",
        "\t\t\tloss /= vae_size\n",
        "\t\t\ttrain_reconst /= vae_size\n",
        "\t\t\ttrain_KLD /= vae_size\n",
        "\t\t\tdev_loss, dev_acc = snli_test(model, data, mode='dev')\n",
        "\t\t\ttest_loss, test_acc = snli_test(model, data)\n",
        "   \n",
        "\t\t\tc = (i + 1) // args.print_freq\n",
        "\t\t\twriter.add_scalar('loss/train', loss, c)\n",
        "\t\t\twriter.add_scalar('acc/train', acc, c)\n",
        "\t\t\twriter.add_scalar('reconstruction loss/train', train_reconst, c)\n",
        "\t\t\twriter.add_scalar('KL_divergence/train', train_KLD, c)\n",
        "\t\t\twriter.add_scalar('loss/dev', dev_loss, c)\n",
        "\t\t\twriter.add_scalar('acc/dev', dev_acc, c)\n",
        "\t\t\twriter.add_scalar('loss/test', test_loss, c)\n",
        "\t\t\twriter.add_scalar('acc/test', test_acc, c)\n",
        "\t\t\tprint(f'train loss: {loss:.5f} / train reconstruction loss: {train_reconst:.5f} / train KL divergence: {train_KLD:.5f}')\n",
        "\t\t\tprint(f'dev loss: {dev_loss:.3f} / test loss: {test_loss:.3f}'f' / train acc: {acc:.3f} / dev acc: {dev_acc:.3f} / test acc: {test_acc:.3f}')\n",
        "      # overall model updates\n",
        "\t\t\tif dev_acc > max_dev_acc:\n",
        "\t\t\t\tmax_dev_acc = dev_acc\n",
        "\t\t\t\tmax_test_acc = test_acc\n",
        "\t\t\t\tbest_model = copy.deepcopy(model)\n",
        "\t\t\tacc, loss, size = 0, 0, 0\n",
        "\t\t\tvae_size = 0\n",
        "\t\t\tmodel.train()\n",
        "\twriter.close()\n",
        "\tprint(f'max dev acc: {max_dev_acc:.3f} / max test acc: {max_test_acc:.3f}')\n",
        "\treturn best_model"
      ],
      "execution_count": 0,
      "outputs": []
    },
    {
      "cell_type": "markdown",
      "metadata": {
        "id": "pym18m35neKx",
        "colab_type": "text"
      },
      "source": [
        "#### **Test Modules**"
      ]
    },
    {
      "cell_type": "code",
      "metadata": {
        "id": "D6yS8B_yHuCq",
        "colab_type": "code",
        "colab": {}
      },
      "source": [
        "from random import randint"
      ],
      "execution_count": 0,
      "outputs": []
    },
    {
      "cell_type": "code",
      "metadata": {
        "id": "6Aw7gshcoQE8",
        "colab_type": "code",
        "colab": {
          "base_uri": "https://localhost:8080/",
          "height": 70
        },
        "outputId": "3ff1d3ec-367c-45c1-ac54-b4c999cb1deb"
      },
      "source": [
        "# Usage of torch.no_grad()\n",
        "x = torch.randn(3, requires_grad=True)\n",
        "print(x.requires_grad)\n",
        "print((x ** 2).requires_grad)\n",
        "# temporarily set all the requires_grad flag to false\n",
        "# not PyTorch to calculate the gradients of the new defined variables update their values\n",
        "with torch.no_grad():\n",
        "    print((x ** 2).requires_grad)"
      ],
      "execution_count": 64,
      "outputs": [
        {
          "output_type": "stream",
          "text": [
            "True\n",
            "True\n",
            "False\n"
          ],
          "name": "stdout"
        }
      ]
    },
    {
      "cell_type": "code",
      "metadata": {
        "id": "5ObnkDvUnrJ4",
        "colab_type": "code",
        "colab": {}
      },
      "source": [
        "# Test module corresponding to NN4VAE\n",
        "def test(model, data, mode='test'):\n",
        "\twith torch.no_grad():\n",
        "\t\tif mode == 'dev':\n",
        "\t\t\titerator = iter(data.dev_iter)\n",
        "\t\telse:\n",
        "\t\t\titerator = iter(data.test_iter)\n",
        "\t \t# eval() it indicates the model that nothing new is to be learnt and the model is used for testing\n",
        "\t\tmodel.eval()\n",
        "\t\ttest_reconst, test_KLD = 0, 0\n",
        "\t\tloss, size = 0, 0\n",
        "\n",
        "\t\tfor batch in iterator:\n",
        "\t\t\tbatch_text = torch.cat([batch.premise, batch.hypothesis], dim=0)\n",
        "\t\t\tlog_prob, mu, logvar, _ = model(batch_text)\n",
        "\t\t\treconst, KLD = loss_function(log_prob, batch_text, mu, logvar)\n",
        "\t\t\tbatch_loss = reconst + KLD\n",
        "\t\t\tloss += batch_loss.item()\n",
        "\t\t\ttest_reconst += reconst.item()\n",
        "\t\t\ttest_KLD += KLD.item()\n",
        "\t\t\tsize += 1\n",
        "\t\ttest_reconst /= size\n",
        "\t\ttest_KLD /= size\n",
        "\t\tloss /= size\n",
        "\t\treturn loss, test_reconst, test_KLD"
      ],
      "execution_count": 0,
      "outputs": []
    },
    {
      "cell_type": "code",
      "metadata": {
        "id": "VnAg0sGnnrHH",
        "colab_type": "code",
        "colab": {}
      },
      "source": [
        "# SNLI_TEST module correspondig to NN4VAESNLI\n",
        "def snli_test(model, data, mode='test'):\n",
        "\twith torch.no_grad():\n",
        "\t\tif mode == 'dev':\n",
        "\t\t\titerator = iter(data.dev_iter)\n",
        "\t\telse:\n",
        "\t\t\titerator = iter(data.test_iter)\n",
        "\t\tcriterion = nn.CrossEntropyLoss()\n",
        "\t\tmodel.eval()\n",
        "\t\tacc, loss, size = 0, 0, 0\n",
        "\t\tfor batch in iterator:\n",
        "\t\t\tpred, _, _, _, _, _, _ = model(batch)\n",
        "\t\t\tbatch_loss = criterion(pred, batch.label)\n",
        "\t\t\tloss += batch_loss.item()\n",
        "\t\t\t_, pred = pred.max(dim=1)\n",
        "\t\t\tacc += (pred == batch.label).sum().float()\n",
        "\t\t\tsize += len(pred)\n",
        "\t\tacc /= size\n",
        "\t\tacc = acc.cpu().item()\n",
        "\t\treturn loss, acc"
      ],
      "execution_count": 0,
      "outputs": []
    },
    {
      "cell_type": "code",
      "metadata": {
        "id": "-WMRubC5G3rE",
        "colab_type": "code",
        "colab": {}
      },
      "source": [
        "# reconstuct an example from test set\n",
        "# class Vocab(object):\n",
        "    \"\"\"Defines a vocabulary object that will be used to numericalize a field.\n",
        "    Attributes:\n",
        "        freqs: A collections.Counter object holding the frequencies of tokens\n",
        "            in the data used to build the Vocab.\n",
        "        stoi: A collections.defaultdict instance mapping token strings to\n",
        "            numerical identifiers.\n",
        "        itos: A list of token strings indexed by their numerical identifiers.\n",
        "    \"\"\"\n",
        "def example(model, args, data):\n",
        "\ti = randint(0, len(data.test.examples))\n",
        "\te = data.test.examples[i]\n",
        "\tprint(e.premise)\n",
        "\tp = torch.ones(29, dtype=torch.long).to(torch.device(args.device))\n",
        "\tfor i in range(len(e.premise)):\n",
        "\t\tif i < 29:\n",
        "\t\t\tp[i] = data.TEXT.vocab.stoi[e.premise[i]]\n",
        "\tmodel.eval()\n",
        "\tlog_prob, mu, logvar, _ = model(p.unsqueeze(0))\n",
        "\t_, predict_index = torch.max(log_prob, 2)\n",
        "\tp_predict = [data.TEXT.vocab.itos[word] for word in predict_index[0]]\n",
        "\tprint(p_predict)"
      ],
      "execution_count": 0,
      "outputs": []
    },
    {
      "cell_type": "code",
      "metadata": {
        "id": "AqLmeRtGG3pT",
        "colab_type": "code",
        "colab": {}
      },
      "source": [
        "def snli_example(model, args, data):\n",
        "\ti = randint(0, len(data.test.examples))\n",
        "\te = data.test.examples[i]\n",
        "\tprint(e.premise)\n",
        "\tprint(e.hypothesis)\n",
        "\tp = torch.ones(29, dtype=torch.long).to(torch.device(args.device))\n",
        "\th = torch.ones(29, dtype=torch.long).to(torch.device(args.device))\n",
        "\tfor i in range(len(e.premise)):\n",
        "\t\tif i < 29:\n",
        "\t\t\tp[i] = data.TEXT.vocab.stoi[e.premise[i]]\n",
        "\tfor i in range(len(e.hypothesis)):\n",
        "\t\tif i < 29:\n",
        "\t\t\th[i] = data.TEXT.vocab.stoi[e.hypothesis[i]]\n",
        "\texample = object\n",
        "\tsetattr(example, 'premise', p.unsqueeze(0))\n",
        "\tsetattr(example, 'hypothesis', h.unsqueeze(0))\n",
        "\tmodel.eval()\n",
        "\tpred, p_log_prob, p_mu, p_logvar, z_p, h_log_prob, h_mu, h_logvar, z_h = model(example)\n",
        "\t_, p_predict_index = torch.max(p_log_prob, 2)\n",
        "\t_, h_predict_index = torch.max(h_log_prob, 2)\n",
        "\tp_predict = [data.TEXT.vocab.itos[word] for word in p_predict_index[0]]\n",
        "\th_predict = [data.TEXT.vocab.itos[word] for word in h_predict_index[0]]\n",
        "\tprint(p_predict)\n",
        "\tprint(h_predict)"
      ],
      "execution_count": 0,
      "outputs": []
    },
    {
      "cell_type": "code",
      "metadata": {
        "id": "ryWwk_uzG3nP",
        "colab_type": "code",
        "colab": {}
      },
      "source": [
        "# generate sentences\n",
        "def generate(model, args, data, sample_num):\n",
        "\tlog_prob = model.generate(sample_num)\n",
        "\t_, predict_index = torch.max(log_prob, 2)\n",
        "\tfor sentence in predict_index:\n",
        "\t\tpredict = [data.TEXT.vocab.itos[word] for word in sentence]\n",
        "\t\tprint(predict)"
      ],
      "execution_count": 0,
      "outputs": []
    },
    {
      "cell_type": "markdown",
      "metadata": {
        "id": "eXd7UmvDEoB2",
        "colab_type": "text"
      },
      "source": [
        "#### **Main Function Training process**"
      ]
    },
    {
      "cell_type": "code",
      "metadata": {
        "id": "pzl1LtGxJh9v",
        "colab_type": "code",
        "colab": {}
      },
      "source": [
        "def main():\n",
        "  parser = argparse.ArgumentParser()\n",
        "  parser.add_argument('--batch-size', default=16, type=int)\n",
        "  parser.add_argument('--data-type', default='SNLI')\n",
        "  parser.add_argument('--dropout', default=0.3, type=float)\n",
        "  parser.add_argument('--epoch', default=20, type=int)\n",
        "  parser.add_argument('--gpu', default=-1, type=int)\n",
        "  parser.add_argument('--learning-rate', default=3e-4, type=float)\n",
        "  parser.add_argument('--print-freq', default=3000, type=int)\n",
        "  parser.add_argument('--word-dim', default=300, type=int)\n",
        "  parser.add_argument('--filter-size', default=5, type=int)\n",
        "  parser.add_argument('--stride', default=2, type=int)\n",
        "  parser.add_argument('--latent-size', default=500, type=int)\n",
        "  parser.add_argument('--tau', default=0.01, type=float)\n",
        "  parser.add_argument('--hidden-size', default=500, type=int)\n",
        "  parser.add_argument('--mode', default='VAE', help=\"available mode: VAE, SNLI\")\n",
        "  args = parser.parse_args(args=[])\n",
        "  print(argparse)\n",
        "\n",
        "  print('loading SNLI data...')\n",
        "  data = SNLI(args)\n",
        "\n",
        "  setattr(args, 'word_vocab_size', len(data.TEXT.vocab))\n",
        "  setattr(args, 'class_size', len(data.LABEL.vocab))\n",
        "  setattr(args, 'model_time', strftime('%H:%M:%S', gmtime()))\n",
        "  setattr(args, 'feature_maps', [300, 600, 500])\n",
        "  if args.gpu > -1:\n",
        "    setattr(args, 'device', \"cuda:0\")\n",
        "  else:\n",
        "    setattr(args, 'device', \"cpu\")\n",
        "  # Start training\n",
        "  print('training start!')\n",
        "  if args.mode == 'VAE':\n",
        "    best_model = train(args, data)\n",
        "  else:\n",
        "    best_model = snli_train(args, data)\n",
        "  # Model save\n",
        "  if not os.path.exists('saved_models'):\n",
        "    os.makedirs('saved_models')\n",
        "  if args.mode == 'VAE':\n",
        "    torch.save(best_model.state_dict(), f'saved_models/DeConv_VAE_{args.data_type}_{args.model_time}.pt')\n",
        "  else:\n",
        "    torch.save(best_model.state_dict(), f'saved_models/DeConv_VAE_SNLI_{args.data_type}_{args.model_time}.pt')\n",
        "  print('training finished!')"
      ],
      "execution_count": 0,
      "outputs": []
    },
    {
      "cell_type": "code",
      "metadata": {
        "id": "PkbCD26KTqIw",
        "colab_type": "code",
        "colab": {}
      },
      "source": [
        "main()"
      ],
      "execution_count": 0,
      "outputs": []
    },
    {
      "cell_type": "code",
      "metadata": {
        "id": "Eu2wQEjzTRpd",
        "colab_type": "code",
        "colab": {
          "base_uri": "https://localhost:8080/",
          "height": 143
        },
        "outputId": "4d4b4727-a2e0-469b-c274-3dfe3b223a3f"
      },
      "source": [
        "from google.colab import drive\n",
        "drive.mount('/content/drive')\n",
        "%cd /content/drive/My\\ Drive"
      ],
      "execution_count": 124,
      "outputs": [
        {
          "output_type": "stream",
          "text": [
            "Go to this URL in a browser: https://accounts.google.com/o/oauth2/auth?client_id=947318989803-6bn6qk8qdgf4n4g3pfee6491hc0brc4i.apps.googleusercontent.com&redirect_uri=urn%3aietf%3awg%3aoauth%3a2.0%3aoob&response_type=code&scope=email%20https%3a%2f%2fwww.googleapis.com%2fauth%2fdocs.test%20https%3a%2f%2fwww.googleapis.com%2fauth%2fdrive%20https%3a%2f%2fwww.googleapis.com%2fauth%2fdrive.photos.readonly%20https%3a%2f%2fwww.googleapis.com%2fauth%2fpeopleapi.readonly\n",
            "\n",
            "Enter your authorization code:\n",
            "··········\n",
            "Mounted at /content/drive\n",
            "/content/drive/My Drive\n"
          ],
          "name": "stdout"
        }
      ]
    }
  ]
}