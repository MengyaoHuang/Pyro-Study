{
  "nbformat": 4,
  "nbformat_minor": 0,
  "metadata": {
    "colab": {
      "name": "Householder Flows .ipynb",
      "provenance": [],
      "collapsed_sections": [],
      "machine_shape": "hm"
    },
    "kernelspec": {
      "name": "python3",
      "display_name": "Python 3"
    }
  },
  "cells": [
    {
      "cell_type": "markdown",
      "metadata": {
        "id": "tw0vlGi88gNb",
        "colab_type": "text"
      },
      "source": [
        "#### **Normalizing Flow Test cases:**\n",
        "- Tutorial mentioned in email: \n",
        "  - http://akosiorek.github.io/ml/2018/04/03/norm_flows.html\n",
        "- Ritchie Vink's blog: (A lot of inspirations and experiments) \n",
        "  - https://www.ritchievink.com/blog/2019/11/12/another-normalizing-flow-inverse-autoregressive-flows/"
      ]
    },
    {
      "cell_type": "code",
      "metadata": {
        "id": "QSeIm0xQsPWD",
        "colab_type": "code",
        "colab": {}
      },
      "source": [
        "!pip install pyro-ppl"
      ],
      "execution_count": 0,
      "outputs": []
    },
    {
      "cell_type": "markdown",
      "metadata": {
        "id": "vRVrz41i2GHr",
        "colab_type": "text"
      },
      "source": [
        "- Normalizing flow (Planar flow): https://www.ritchievink.com/blog/2019/10/11/sculpting-distributions-with-normalizing-flows/"
      ]
    },
    {
      "cell_type": "code",
      "metadata": {
        "id": "NsssJeONqFYI",
        "colab_type": "code",
        "colab": {}
      },
      "source": [
        "import os\n",
        "from functools import partial\n",
        "import torch\n",
        "import numpy as np\n",
        "import pandas as pd\n",
        "import seaborn as sns\n",
        "import matplotlib.pyplot as plt\n",
        "\n",
        "import pyro\n",
        "import pyro.distributions as dist\n",
        "from scipy import stats\n",
        "import torch.nn as nn\n",
        "from torch import distributions as dist\n",
        "\n",
        "# for CI testing\n",
        "smoke_test = ('CI' in os.environ)\n",
        "assert pyro.__version__.startswith('1.2.1')\n",
        "pyro.enable_validation(True)\n",
        "pyro.set_rng_seed(1)\n",
        "pyro.enable_validation(True)\n",
        "\n",
        "# Set matplotlib settings\n",
        "%matplotlib inline\n",
        "plt.style.use('default')"
      ],
      "execution_count": 0,
      "outputs": []
    },
    {
      "cell_type": "code",
      "metadata": {
        "id": "5fu3SjESqcIw",
        "colab_type": "code",
        "colab": {}
      },
      "source": [
        "# implement some other improvements related to normalizing flow in PyTorch\n",
        "# Planar flows\n",
        "# define Planar class\n",
        "class Planar(nn.Module):\n",
        "    def __init__(self, size=1, init_sigma=0.01):\n",
        "        super().__init__()\n",
        "        # f(z) = z + uh(w^Tz + b) - initialized parameters for Planar Flow\n",
        "        self.u = nn.Parameter(torch.randn(1, size).normal_(0, init_sigma))\n",
        "        self.w = nn.Parameter(torch.randn(1, size).normal_(0, init_sigma))\n",
        "        self.b = nn.Parameter(torch.zeros(1))\n",
        "\n",
        "    @property\n",
        "    def normalized_u(self):\n",
        "        # Needed for invertibility condition.\n",
        "        # See Appendix A.1\n",
        "        # Rezende et al. Variational Inference with Normalizing Flows\n",
        "        # https://arxiv.org/pdf/1505.05770.pdf\n",
        "        # softplus\n",
        "        def m(x):\n",
        "            return -1 + torch.log(1 + torch.exp(x))\n",
        "        wtu = torch.matmul(self.w, self.u.t())\n",
        "        w_div_w2 = self.w / torch.norm(self.w)\n",
        "        return self.u + (m(wtu) - wtu) * w_div_w2\n",
        "    def psi(self, z):\n",
        "        # ψ(z) =h′(w^tz+b)w -See eq(11)\n",
        "        # Rezende et al. Variational Inference with Normalizing Flows\n",
        "        # https://arxiv.org/pdf/1505.05770.pdf\n",
        "        return self.h_prime(z @ self.w.t() + self.b) @ self.w\n",
        "\n",
        "    # The function h() needs to be a smooth non-linear function (tanh() maybe)\n",
        "    def h(self, x):\n",
        "        return torch.tanh(x)\n",
        "    def h_prime(self, z):\n",
        "        return 1 - torch.tanh(z) ** 2\n",
        "        \n",
        "    # do transformation and log(abs(det)) for single flow\n",
        "    def forward(self, z):\n",
        "        if isinstance(z, tuple):\n",
        "            z, accumulating_ldj = z\n",
        "        else:\n",
        "            z, accumulating_ldj = z, 0\n",
        "        psi = self.psi(z)\n",
        "        u = self.normalized_u\n",
        "        # determinant of jacobian\n",
        "        det = (1 + psi @ u.t())\n",
        "        # log |det Jac|\n",
        "        ldj = torch.log(torch.abs(det) + 1e-6)\n",
        "        # # f(z) = z + uh(w^Tz + b)\n",
        "        wzb = z @ self.w.t() + self.b\n",
        "        fz = z + (u * self.h(wzb))\n",
        "        return fz, ldj + accumulating_ldj"
      ],
      "execution_count": 0,
      "outputs": []
    },
    {
      "cell_type": "code",
      "metadata": {
        "id": "yg67j7kW42-g",
        "colab_type": "code",
        "outputId": "2e07a394-e8bb-4257-9cde-40df8fc4313c",
        "colab": {
          "base_uri": "https://localhost:8080/",
          "height": 51
        }
      },
      "source": [
        "print(nn.Parameter(torch.randn(5, ).normal_(1, 0.01)))"
      ],
      "execution_count": 10,
      "outputs": [
        {
          "output_type": "stream",
          "text": [
            "Parameter containing:\n",
            "tensor([0.9983, 0.9848, 1.0038, 0.9897, 0.9944], requires_grad=True)\n"
          ],
          "name": "stdout"
        }
      ]
    },
    {
      "cell_type": "code",
      "metadata": {
        "id": "dcKFeFqhqj-J",
        "colab_type": "code",
        "colab": {}
      },
      "source": [
        "class Flow(nn.Module):\n",
        "    def __init__(self, dim=2, n_flows=10):\n",
        "        super().__init__()\n",
        "        self.flow = nn.Sequential(*[Planar(dim) for _ in range(n_flows)])\n",
        "        self.mu = nn.Parameter(torch.randn(dim, ).normal_(0, 0.01))\n",
        "        self.log_var = nn.Parameter(torch.randn(dim, ).normal_(1, 0.01))\n",
        "    def forward(self, shape):\n",
        "        std = torch.exp(0.5 * self.log_var)\n",
        "        eps = torch.randn(shape)  # unit gaussian\n",
        "        # Each layer of latent variables is dependent on the layer above in a non-linear way\n",
        "        # the Lth Gaussian distribution is not dependent on any other random variables. \n",
        "        # The prior over latent variables is a unit Gaussian p(z)=N(0,I)\n",
        "        z0 = self.mu + eps * std\n",
        "        zk, ldj = self.flow(z0)\n",
        "        return z0, zk, ldj, self.mu, self.log_var"
      ],
      "execution_count": 0,
      "outputs": []
    },
    {
      "cell_type": "code",
      "metadata": {
        "id": "lm45LB3Wmlhn",
        "colab_type": "code",
        "colab": {}
      },
      "source": [
        "def target_density(z):\n",
        "    z1, z2 = z[..., 0], z[..., 1]\n",
        "    norm = (z1**2 + z2**2)**0.5\n",
        "    exp1 = torch.exp(-0.2 * ((z1 - 2) / 0.8) ** 2)\n",
        "    exp2 = torch.exp(-0.2 * ((z1 + 2) / 0.8) ** 2)\n",
        "    u = 0.5 * ((norm - 4) / 0.4) ** 2 - torch.log(exp1 + exp2)\n",
        "    return torch.exp(-u)\n",
        "\n",
        "def det_loss(mu, log_var, z_0, z_k, ldj, beta):\n",
        "    # Note that I assume uniform prior here.\n",
        "    # So P(z) is constant and not modelled in this loss function\n",
        "    batch_size = z_0.size(0)\n",
        "    # Qz0\n",
        "    log_qz0 = dist.Normal(mu, torch.exp(0.5 * log_var)).log_prob(z_0)\n",
        "    # Qzk = Qz0 + sum(log det jac)\n",
        "    log_qzk = log_qz0.sum() - ldj.sum()\n",
        "    # P(x|z)\n",
        "    nll = -torch.log(target_density(z_k) + 1e-7).sum() * beta\n",
        "    return (log_qzk + nll) / batch_size\n",
        "\n",
        "def train_flow(flow, shape, epochs=1000):\n",
        "    optim = torch.optim.Adam(flow.parameters(), lr=1e-2)\n",
        "    for i in range(epochs):\n",
        "        z0, zk, ldj, mu, log_var = flow(shape=shape)\n",
        "        loss = det_loss(mu=mu, log_var=log_var, z_0=z0, z_k=zk, ldj=ldj, beta=1)\n",
        "        loss.backward()\n",
        "        optim.step()\n",
        "        optim.zero_grad()\n",
        "        if i % 200 == 0:\n",
        "            print(loss.item())"
      ],
      "execution_count": 0,
      "outputs": []
    },
    {
      "cell_type": "code",
      "metadata": {
        "id": "RXMXTl_8qt_4",
        "colab_type": "code",
        "outputId": "ba316d3b-0797-4aa6-fea0-1b491072cf04",
        "colab": {
          "base_uri": "https://localhost:8080/",
          "height": 334
        }
      },
      "source": [
        "x1 = np.linspace(-7.5, 7.5)\n",
        "x2 = np.linspace(-7.5, 7.5)\n",
        "x1_s, x2_s = np.meshgrid(x1, x2)\n",
        "x_field = np.concatenate([x1_s[..., None], x2_s[..., None]], axis=-1)\n",
        "x_field = torch.tensor(x_field, dtype=torch.float)\n",
        "\n",
        "plt.figure(figsize=(3, 3))\n",
        "plt.title(\"Target distribution\")\n",
        "plt.xlabel('$z_1$')\n",
        "plt.ylabel('$z_2$')\n",
        "plt.contourf(x1_s, x2_s, target_density(x_field))\n",
        "plt.show()"
      ],
      "execution_count": 6,
      "outputs": [
        {
          "output_type": "display_data",
          "data": {
            "image/png": "[encoded data removed]",
            "text/plain": [
              "<Figure size 300x300 with 1 Axes>"
            ]
          },
          "metadata": {
            "tags": []
          }
        }
      ]
    },
    {
      "cell_type": "code",
      "metadata": {
        "id": "RWoYi-2i9XBf",
        "colab_type": "code",
        "colab": {}
      },
      "source": [
        "def show_samples(s):\n",
        "  plt.figure(figsize=(3, 3))\n",
        "  plt.scatter(s[:, 0], s[:, 1], alpha=0.1)\n",
        "  plt.show()"
      ],
      "execution_count": 0,
      "outputs": []
    },
    {
      "cell_type": "code",
      "metadata": {
        "id": "xxJmAVnjq2qD",
        "colab_type": "code",
        "outputId": "fd0dc941-049b-4d49-96c8-ee5962d93357",
        "colab": {
          "base_uri": "https://localhost:8080/",
          "height": 442
        }
      },
      "source": [
        "flow = Flow(dim=2, n_flows=10)\n",
        "shape = (1000, 2)\n",
        "train_flow(flow, shape, epochs=5000)\n",
        "z0, zk, ldj, mu, log_var = flow((5000, 2))"
      ],
      "execution_count": 11,
      "outputs": [
        {
          "output_type": "stream",
          "text": [
            "6.92289924621582\n",
            "-1.4125239849090576\n",
            "-1.7216870784759521\n",
            "-1.8565168380737305\n",
            "-2.08664870262146\n",
            "-2.1896309852600098\n",
            "-2.3531808853149414\n",
            "-2.4720332622528076\n",
            "-2.580113410949707\n",
            "-2.578324794769287\n",
            "-2.615509033203125\n",
            "-2.6315841674804688\n",
            "-2.639942169189453\n",
            "-2.6703219413757324\n",
            "-2.65594220161438\n",
            "-2.6710424423217773\n",
            "-2.636899948120117\n",
            "-2.6876792907714844\n",
            "-2.6913931369781494\n",
            "-2.657528877258301\n",
            "-2.6324076652526855\n",
            "-2.6214118003845215\n",
            "-2.6641907691955566\n",
            "-2.67655348777771\n",
            "-2.6689515113830566\n"
          ],
          "name": "stdout"
        }
      ]
    },
    {
      "cell_type": "code",
      "metadata": {
        "id": "VZG4vh9K9dWh",
        "colab_type": "code",
        "outputId": "c57a9e71-28fd-42dd-ed3d-b9caf3b3e101",
        "colab": {
          "base_uri": "https://localhost:8080/",
          "height": 291
        }
      },
      "source": [
        "show_samples(zk.data)"
      ],
      "execution_count": 12,
      "outputs": [
        {
          "output_type": "display_data",
          "data": {
            "image/png": "[encoded data removed]",
            "text/plain": [
              "<Figure size 300x300 with 1 Axes>"
            ]
          },
          "metadata": {
            "tags": []
          }
        }
      ]
    },
    {
      "cell_type": "code",
      "metadata": {
        "id": "HtuOcAoVOFKn",
        "colab_type": "code",
        "colab": {}
      },
      "source": [
        ""
      ],
      "execution_count": 0,
      "outputs": []
    },
    {
      "cell_type": "markdown",
      "metadata": {
        "id": "-C516s2Y-uKi",
        "colab_type": "text"
      },
      "source": [
        "#### **Test with Pyro**\n",
        "- Official Tutorial Conditional Transform Planar in Pyro: https://pyro4ci.readthedocs.io/en/latest/_modules/pyro/distributions/transforms/planar.html\n",
        "- Blog: https://bmazoure.github.io/posts/nf-in-pyro/\n",
        "- Mathematical: (Flow-based deep generative models) https://lilianweng.github.io/lil-log/2018/10/13/flow-based-deep-generative-models.html"
      ]
    },
    {
      "cell_type": "code",
      "metadata": {
        "id": "YIRcHtuDAZLI",
        "colab_type": "code",
        "colab": {}
      },
      "source": [
        "from pyro.nn import AutoRegressiveNN\n",
        "from pyro import distributions\n",
        "import pyro, torch\n",
        "import numpy as np\n",
        "import matplotlib.pyplot as plt\n",
        "from pyro.optim import Adam\n",
        "from pyro.infer import SVI, Trace_ELBO, JitTrace_ELBO, TraceGraph_ELBO\n",
        "%matplotlib inline\n",
        "\n",
        "from torch.distributions.multivariate_normal import MultivariateNormal as mvn\n",
        "import seaborn as sns\n",
        "import torch.nn as nn\n",
        "from torch import distributions as dist\n",
        "\n",
        "torch.manual_seed(0)\n",
        "np.random.seed(0)"
      ],
      "execution_count": 0,
      "outputs": []
    },
    {
      "cell_type": "markdown",
      "metadata": {
        "id": "8qeVZnZzf0oo",
        "colab_type": "text"
      },
      "source": [
        "#### **Radial Flow, SylvesterFlow and PlanarFlow:**"
      ]
    },
    {
      "cell_type": "code",
      "metadata": {
        "id": "ow7Fduw_s5AI",
        "colab_type": "code",
        "outputId": "88875e94-7932-4508-a7d2-1b4091200372",
        "colab": {
          "base_uri": "https://localhost:8080/",
          "height": 34
        }
      },
      "source": [
        "import pyro.distributions.transforms.radial as Radial\n",
        "import pyro.distributions.transforms.sylvester as Sylvester\n",
        "import pyro.distributions.transforms.planar as Planar\n",
        "# RadialFlow\n",
        "base_dist = dist.Normal(torch.zeros(1), torch.ones(1))\n",
        "transform = Radial(1)\n",
        "pyro.module(\"my_transform\", transform)  # doctest: +SKIP\n",
        "flow_dist = dist.TransformedDistribution(base_dist, [transform])\n",
        "flow_dist.sample()  # doctest: +SKIP"
      ],
      "execution_count": 14,
      "outputs": [
        {
          "output_type": "execute_result",
          "data": {
            "text/plain": [
              "tensor([0.5589])"
            ]
          },
          "metadata": {
            "tags": []
          },
          "execution_count": 14
        }
      ]
    },
    {
      "cell_type": "code",
      "metadata": {
        "id": "jBcm1o0IfpOW",
        "colab_type": "code",
        "outputId": "07052c6f-60d5-4378-c0dd-a548f44ca86f",
        "colab": {
          "base_uri": "https://localhost:8080/",
          "height": 34
        }
      },
      "source": [
        "# PlanarFlow\n",
        "base_dist = dist.Normal(torch.zeros(1), torch.ones(1))\n",
        "transform = Planar(1)\n",
        "pyro.module(\"my_transform\", transform)  # doctest: +SKIP\n",
        "flow_dist = dist.TransformedDistribution(base_dist, [transform])\n",
        "flow_dist.sample()  # doctest: +SKIP"
      ],
      "execution_count": 15,
      "outputs": [
        {
          "output_type": "execute_result",
          "data": {
            "text/plain": [
              "tensor([0.0887])"
            ]
          },
          "metadata": {
            "tags": []
          },
          "execution_count": 15
        }
      ]
    },
    {
      "cell_type": "code",
      "metadata": {
        "id": "4w6i2oswT4SK",
        "colab_type": "code",
        "outputId": "74e8fd18-4e39-4b53-898c-6b2769a85ede",
        "colab": {
          "base_uri": "https://localhost:8080/",
          "height": 34
        }
      },
      "source": [
        "# SylvesterFlow\n",
        "# Here needs another parameter count_transforms other than input dimension\n",
        "base_dist = dist.Normal(torch.zeros(1), torch.ones(1))\n",
        "transform = Sylvester(1, count_transforms=1)\n",
        "pyro.module(\"my_transform\", transform)  # doctest: +SKIP\n",
        "flow_dist = dist.TransformedDistribution(base_dist, [transform])\n",
        "flow_dist.sample()  # doctest: +SKIP"
      ],
      "execution_count": 16,
      "outputs": [
        {
          "output_type": "execute_result",
          "data": {
            "text/plain": [
              "tensor([0.6035])"
            ]
          },
          "metadata": {
            "tags": []
          },
          "execution_count": 16
        }
      ]
    },
    {
      "cell_type": "code",
      "metadata": {
        "id": "hCX82GpmvnzQ",
        "colab_type": "code",
        "outputId": "87c0c6d0-59a7-4074-83af-9385aa29840e",
        "colab": {
          "base_uri": "https://localhost:8080/",
          "height": 34
        }
      },
      "source": [
        "import pyro.distributions.transforms.householder as Householder\n",
        "# HouseholderFlow\n",
        "base_dist = dist.Normal(torch.zeros(1), torch.ones(1))\n",
        "flow = Householder(1, count_transforms=1)\n",
        "pyro.module(\"my_flow\", flow) # doctest: +SKIP\n",
        "flow_dist = dist.TransformedDistribution(base_dist, flow)\n",
        "flow_dist.sample()  # doctest: +SKIP"
      ],
      "execution_count": 9,
      "outputs": [
        {
          "output_type": "execute_result",
          "data": {
            "text/plain": [
              "tensor([-0.2072])"
            ]
          },
          "metadata": {
            "tags": []
          },
          "execution_count": 9
        }
      ]
    },
    {
      "cell_type": "code",
      "metadata": {
        "id": "SsdgwQH518wQ",
        "colab_type": "code",
        "outputId": "e5e2acff-481c-4a5e-d5da-82e2143fb0e3",
        "colab": {
          "base_uri": "https://localhost:8080/",
          "height": 34
        }
      },
      "source": [
        "import pyro.distributions.transforms.affine_autoregressive as AffineAutoregressive\n",
        "base_dist = dist.Normal(torch.zeros(2), torch.ones(2))\n",
        "transform = AffineAutoregressive(2)\n",
        "pyro.module(\"my_transform\", transform)  # doctest: +SKIP\n",
        "flow_dist = dist.TransformedDistribution(base_dist, [transform])\n",
        "flow_dist.sample()  # doctest: +SKIP"
      ],
      "execution_count": 42,
      "outputs": [
        {
          "output_type": "execute_result",
          "data": {
            "text/plain": [
              "tensor([-2.0064, -1.1276])"
            ]
          },
          "metadata": {
            "tags": []
          },
          "execution_count": 42
        }
      ]
    },
    {
      "cell_type": "code",
      "metadata": {
        "id": "oZCl9JplO10O",
        "colab_type": "code",
        "colab": {}
      },
      "source": [
        ""
      ],
      "execution_count": 0,
      "outputs": []
    },
    {
      "cell_type": "code",
      "metadata": {
        "id": "hGYE3d4kePA5",
        "colab_type": "code",
        "outputId": "c0669d90-4aa6-44c3-d9e3-e6c6be5bc879",
        "colab": {
          "base_uri": "https://localhost:8080/",
          "height": 51
        }
      },
      "source": [
        "# some pre-test\n",
        "# lambda function\n",
        "base_dist=lambda dim:distributions.Normal(torch.zeros(dim), torch.ones(dim))\n",
        "print(base_dist(2))\n",
        "print(np.random.randint(low=0,high=10000,size=1)[0])"
      ],
      "execution_count": 19,
      "outputs": [
        {
          "output_type": "stream",
          "text": [
            "Normal(loc: torch.Size([2]), scale: torch.Size([2]))\n",
            "2732\n"
          ],
          "name": "stdout"
        }
      ]
    },
    {
      "cell_type": "code",
      "metadata": {
        "id": "P2z2Pe3FePDq",
        "colab_type": "code",
        "colab": {}
      },
      "source": [
        "# Model: p(x,z) has to be from torch.distributions or extended by Pyro transforms\n",
        "# Guide: q(z|x) the variational approximation to the true posterior. This is the NF.\n",
        "\n",
        "# The below class simply allows to combine multiple NF layers (of the same kind/hyperparameters). \n",
        "# However, it would be possible to mix, say, affine layers with radial and followed by IAF.\n",
        "class NormalizingFlow(nn.Module):\n",
        "  # RadialFlow: \n",
        "  def __init__(self, dim, n_flows, base_dist, flow_type):\n",
        "    super(NormalizingFlow, self).__init__()\n",
        "    self.dim = dim\n",
        "    self.n_flows = n_flows\n",
        "    self.base_dist = base_dist\n",
        "    self.uuid = np.random.randint(low=0,high=10000,size=1)[0]\n",
        "\n",
        "    # Initialize all flows\n",
        "    # shared dimentions for all layers in normalizing flows\n",
        "    self.nfs = []\n",
        "    for f in range(n_flows):\n",
        "      nf = flow_type\n",
        "      self.nfs.append(nf)\n",
        "    # This step assumes that nfs={f_i}_{i=1}^N and that base_dist=N(0,I)\n",
        "    # Then register the (biejctive) transformation Z=nfs(eps), eps~base_dist\n",
        "    # class TransformedDistribution(base_distribution, transforms, validate_args=None)\n",
        "    self.nf_dist = distributions.TransformedDistribution(self.base_dist, self.nfs)\n",
        "    self._register()\n",
        "\n",
        "  def _register(self):\n",
        "    # Register all N flows with Pyro\n",
        "    for f in range(self.n_flows):\n",
        "      nf_module = pyro.module(\"%d_nf_%d\" %(self.uuid,f), self.nfs[f])\n",
        "\n",
        "  def target(self, x, p_qz):\n",
        "    # p(x,z), but x is not required if there is a true density function (p_z in this case)\n",
        "    # 1. Sample Z ~ p_z\n",
        "    # 2. Score it's likelihood against p_z\n",
        "    with pyro.plate(\"data\", x.shape[0]):\n",
        "      p = p_z()\n",
        "      z = pyro.sample(\"latent\",p)\n",
        "      pyro.sample(\"obs\", p, obs=x.reshape(-1, self.dim))\n",
        "  \n",
        "  def model(self,x,p_z):\n",
        "      # q(z|x) once again x is not required\n",
        "      # 1. Sample Z ~ nfs(eps), eps ~ N(0,I)\n",
        "      # This is the NN being trained\n",
        "      self._register()\n",
        "      with pyro.plate(\"data\", x.shape[0]):\n",
        "        pyro.sample(\"latent\", self.nf_dist)\n",
        "\n",
        "  def sample(self,n):\n",
        "      # Sample a batch of (n,dim)  \n",
        "      # Bug: in IAF and IAFStable, the dimensions throw an error (todo)\n",
        "      return self.nf_dist.sample(torch.Size([n]))\n",
        "\n",
        "  def log_prob(self,z):\n",
        "      return self.nf_dist.log_prob(z)"
      ],
      "execution_count": 0,
      "outputs": []
    },
    {
      "cell_type": "code",
      "metadata": {
        "id": "mkBa5AQ2jM6i",
        "colab_type": "code",
        "colab": {}
      },
      "source": [
        "# There are some flows missing available inverse functions\n",
        "# https://pyro4ci.readthedocs.io/en/latest/distributions.html\n",
        "\n",
        "base_dist = lambda dim:distributions.Normal(torch.zeros(dim), torch.ones(dim))\n",
        "# flow = lambda dim:distributions.transforms.radial(dim)\n",
        "# flow = lambda dim:distributions.transforms.householder(dim, count_transforms=dim)\n",
        "# flow = lambda dim:distributions.transforms.affine_autoregressive(dim)\n",
        "flow = lambda dim:Householder(dim, count_transforms=dim)\n",
        "dim = 2\n",
        "n_flows = 5\n",
        "nf_obj = NormalizingFlow(dim=dim, n_flows=n_flows, base_dist=base_dist(dim), flow_type=flow(dim))"
      ],
      "execution_count": 0,
      "outputs": []
    },
    {
      "cell_type": "code",
      "metadata": {
        "id": "tPdgYX94VbBB",
        "colab_type": "code",
        "outputId": "5ced72c4-f5e3-4412-9ed5-6a332fc720a9",
        "colab": {
          "base_uri": "https://localhost:8080/",
          "height": 119
        }
      },
      "source": [
        "# return a batch of (n,dim)\n",
        "print(nf_obj.sample(5))\n",
        "print(nf_obj.sample(5).shape)"
      ],
      "execution_count": 23,
      "outputs": [
        {
          "output_type": "stream",
          "text": [
            "tensor([[-0.2445,  0.6006],\n",
            "        [ 1.6749,  0.4683],\n",
            "        [-1.1221,  0.6400],\n",
            "        [ 0.0274, -0.0905],\n",
            "        [-0.8327, -0.9966]])\n",
            "torch.Size([5, 2])\n"
          ],
          "name": "stdout"
        }
      ]
    },
    {
      "cell_type": "code",
      "metadata": {
        "id": "ecAu6au0-Iqv",
        "colab_type": "code",
        "outputId": "53cb4469-6f80-4142-b0a1-28f8bdea15d2",
        "colab": {
          "base_uri": "https://localhost:8080/",
          "height": 265
        }
      },
      "source": [
        "# We can sample eps from N(0,I) and then pass it through an untrained NF to visualize the output.\n",
        "samples = nf_obj.sample(1000).numpy()\n",
        "sns.kdeplot(data=samples[:,0],data2=samples[:,1],n_levels=60, shade=True)\n",
        "plt.show()"
      ],
      "execution_count": 24,
      "outputs": [
        {
          "output_type": "display_data",
          "data": {
            "image/png": "[encoded data removed]",
            "text/plain": [
              "<Figure size 432x288 with 1 Axes>"
            ]
          },
          "metadata": {
            "tags": []
          }
        }
      ]
    },
    {
      "cell_type": "code",
      "metadata": {
        "id": "vo4kEneRdZyl",
        "colab_type": "code",
        "outputId": "25b09025-9c71-410c-bb59-c78b09f6a32d",
        "colab": {
          "base_uri": "https://localhost:8080/",
          "height": 265
        }
      },
      "source": [
        "def p_z(mu1=torch.FloatTensor([1,1]),\n",
        "        mu2=torch.FloatTensor([-2,-2]),\n",
        "        Sigma1 = torch.FloatTensor([1,1]),\n",
        "        Sigma2 = torch.FloatTensor([1,1]),\n",
        "        component_logits = torch.FloatTensor([0.5,0.5]) # mixture weights\n",
        "       ):\n",
        "    dist = distributions.MixtureOfDiagNormals(locs=torch.stack([mu1,mu2],axis=0),\n",
        "                                       coord_scale=torch.stack([Sigma1,Sigma2],axis=0),\n",
        "                                       component_logits=component_logits)\n",
        "    return dist\n",
        "\n",
        "samples = p_z().sample(torch.Size([1000])).numpy()\n",
        "sns.kdeplot(data=samples[:,0],data2=samples[:,1],n_levels=60, shade=True,cmap=\"Reds\")\n",
        "plt.show()"
      ],
      "execution_count": 25,
      "outputs": [
        {
          "output_type": "display_data",
          "data": {
            "image/png": "[encoded data removed]",
            "text/plain": [
              "<Figure size 432x288 with 1 Axes>"
            ]
          },
          "metadata": {
            "tags": []
          }
        }
      ]
    },
    {
      "cell_type": "code",
      "metadata": {
        "id": "PudLgbAxOFDd",
        "colab_type": "code",
        "outputId": "17532634-2f3c-4aa0-8ca3-3b03ea9cf045",
        "colab": {
          "base_uri": "https://localhost:8080/",
          "height": 187
        }
      },
      "source": [
        "# https://github.com/pyro-ppl/pyro/issues/2076\n",
        "# there is a bug when composing a transform with an analytic inverse to one without.\n",
        "# The inverse of Tanh is calculated analytically, which then differs (in reference) from the value stored in the cache of the Sylvester transform.\n",
        "\n",
        "adam_params = {\"lr\": 0.2, \"betas\": (0.90, 0.999)}\n",
        "optimizer = Adam(adam_params)\n",
        "\n",
        "# setup the inference algorithm\n",
        "svi = SVI(nf_obj.target, nf_obj.model, optimizer, loss=Trace_ELBO())\n",
        "n_steps = 5000 # number of batches\n",
        "dist = p_z() # true distribution\n",
        "# do gradient steps\n",
        "losses = []\n",
        "for step in range(n_steps):\n",
        "    data = dist.rsample(torch.Size([128])) # using a batch of 128 new data points every step\n",
        "    loss = svi.step(data, p_z) # analogous to opt.step() in PyTorch\n",
        "    losses.append(loss)\n",
        "    if step % 500 == 0:\n",
        "        print(loss)"
      ],
      "execution_count": 26,
      "outputs": [
        {
          "output_type": "stream",
          "text": [
            "562.6680603027344\n",
            "583.379638671875\n",
            "572.3600463867188\n",
            "576.3845520019531\n",
            "585.1875305175781\n",
            "584.5341186523438\n",
            "559.7158813476562\n",
            "567.4950561523438\n",
            "554.5603332519531\n",
            "565.0013122558594\n"
          ],
          "name": "stdout"
        }
      ]
    },
    {
      "cell_type": "code",
      "metadata": {
        "id": "orv6X7fXkGQQ",
        "colab_type": "code",
        "outputId": "04d59642-38ac-4a69-dd3d-ba144ead48df",
        "colab": {
          "base_uri": "https://localhost:8080/",
          "height": 1000
        }
      },
      "source": [
        "# observe tranformed flows \n",
        "for f in range(n_flows+1):\n",
        "    intermediate_nf = distributions.TransformedDistribution(nf_obj.base_dist, nf_obj.nfs[:f])\n",
        "    samples = intermediate_nf.sample(torch.Size([500])).numpy()\n",
        "    sns.kdeplot(data=samples[:,0],data2=samples[:,1],n_levels=60, shade=True)\n",
        "    plt.figure(figsize=(3, 3))\n",
        "    plt.show()"
      ],
      "execution_count": 27,
      "outputs": [
        {
          "output_type": "display_data",
          "data": {
            "image/png": "[encoded data removed]",
            "text/plain": [
              "<Figure size 432x288 with 1 Axes>"
            ]
          },
          "metadata": {
            "tags": []
          }
        },
        {
          "output_type": "display_data",
          "data": {
            "text/plain": [
              "<Figure size 216x216 with 0 Axes>"
            ]
          },
          "metadata": {
            "tags": []
          }
        },
        {
          "output_type": "display_data",
          "data": {
            "image/png": "[encoded data removed]",
            "text/plain": [
              "<Figure size 432x288 with 1 Axes>"
            ]
          },
          "metadata": {
            "tags": []
          }
        },
        {
          "output_type": "display_data",
          "data": {
            "text/plain": [
              "<Figure size 216x216 with 0 Axes>"
            ]
          },
          "metadata": {
            "tags": []
          }
        },
        {
          "output_type": "display_data",
          "data": {
            "image/png": "[encoded data removed]",
            "text/plain": [
              "<Figure size 432x288 with 1 Axes>"
            ]
          },
          "metadata": {
            "tags": []
          }
        },
        {
          "output_type": "display_data",
          "data": {
            "text/plain": [
              "<Figure size 216x216 with 0 Axes>"
            ]
          },
          "metadata": {
            "tags": []
          }
        },
        {
          "output_type": "display_data",
          "data": {
            "image/png": "[encoded data removed]",
            "text/plain": [
              "<Figure size 432x288 with 1 Axes>"
            ]
          },
          "metadata": {
            "tags": []
          }
        },
        {
          "output_type": "display_data",
          "data": {
            "text/plain": [
              "<Figure size 216x216 with 0 Axes>"
            ]
          },
          "metadata": {
            "tags": []
          }
        },
        {
          "output_type": "display_data",
          "data": {
            "image/png": "[encoded data removed]",
            "text/plain": [
              "<Figure size 432x288 with 1 Axes>"
            ]
          },
          "metadata": {
            "tags": []
          }
        },
        {
          "output_type": "display_data",
          "data": {
            "text/plain": [
              "<Figure size 216x216 with 0 Axes>"
            ]
          },
          "metadata": {
            "tags": []
          }
        },
        {
          "output_type": "display_data",
          "data": {
            "image/png": "[encoded data removed]",
            "text/plain": [
              "<Figure size 432x288 with 1 Axes>"
            ]
          },
          "metadata": {
            "tags": []
          }
        },
        {
          "output_type": "display_data",
          "data": {
            "text/plain": [
              "<Figure size 216x216 with 0 Axes>"
            ]
          },
          "metadata": {
            "tags": []
          }
        }
      ]
    },
    {
      "cell_type": "code",
      "metadata": {
        "id": "m9vZjKXZJvIG",
        "colab_type": "code",
        "outputId": "22b121e1-e223-411f-e335-d961f65dfade",
        "colab": {
          "base_uri": "https://localhost:8080/",
          "height": 1000
        }
      },
      "source": [
        "# check parameters within flows if possible\n",
        "# the storage of parameters in Normalizing flows is exactly the same \n",
        "for key, value in pyro.get_param_store().items():    \n",
        "    print(f\"{key}:\\n{value}\\n\")"
      ],
      "execution_count": 28,
      "outputs": [
        {
          "output_type": "stream",
          "text": [
            "my_transform$$$x0:\n",
            "Parameter containing:\n",
            "tensor([-0.8230], requires_grad=True)\n",
            "\n",
            "my_transform$$$alpha_prime:\n",
            "Parameter containing:\n",
            "tensor([-0.0075], requires_grad=True)\n",
            "\n",
            "my_transform$$$beta_prime:\n",
            "Parameter containing:\n",
            "tensor([0.5364], requires_grad=True)\n",
            "\n",
            "my_transform$$$bias:\n",
            "Parameter containing:\n",
            "tensor([0.], requires_grad=True)\n",
            "\n",
            "my_transform$$$u:\n",
            "Parameter containing:\n",
            "tensor([-0.0887], requires_grad=True)\n",
            "\n",
            "my_transform$$$w:\n",
            "Parameter containing:\n",
            "tensor([0.7929], requires_grad=True)\n",
            "\n",
            "my_transform$$$u_unnormed:\n",
            "Parameter containing:\n",
            "tensor([[0.2646]], requires_grad=True)\n",
            "\n",
            "my_transform$$$R_dense:\n",
            "Parameter containing:\n",
            "tensor([[-0.0066]], requires_grad=True)\n",
            "\n",
            "my_transform$$$S_dense:\n",
            "Parameter containing:\n",
            "tensor([[-0.0041]], requires_grad=True)\n",
            "\n",
            "my_transform$$$R_diag:\n",
            "Parameter containing:\n",
            "tensor([-0.0020], requires_grad=True)\n",
            "\n",
            "my_transform$$$S_diag:\n",
            "Parameter containing:\n",
            "tensor([-0.0096], requires_grad=True)\n",
            "\n",
            "my_transform$$$b:\n",
            "Parameter containing:\n",
            "tensor([-0.0030], requires_grad=True)\n",
            "\n",
            "my_flow$$$u_unnormed:\n",
            "Parameter containing:\n",
            "tensor([[-0.4355]], requires_grad=True)\n",
            "\n",
            "my_transform$$$arn.layers.0.weight:\n",
            "Parameter containing:\n",
            "tensor([[ 0.5872, -0.1455],\n",
            "        [ 0.5291, -0.1140],\n",
            "        [ 0.0748,  0.6403],\n",
            "        [-0.6560, -0.4452],\n",
            "        [-0.1790, -0.2756],\n",
            "        [ 0.6109, -0.4583],\n",
            "        [-0.3255, -0.4940]], requires_grad=True)\n",
            "\n",
            "my_transform$$$arn.layers.0.bias:\n",
            "Parameter containing:\n",
            "tensor([-0.6622, -0.4128,  0.6078,  0.3155,  0.3427,  0.0372, -0.3625],\n",
            "       requires_grad=True)\n",
            "\n",
            "my_transform$$$arn.layers.1.weight:\n",
            "Parameter containing:\n",
            "tensor([[ 0.0639, -0.3529, -0.2731, -0.1949,  0.2385,  0.2216, -0.1676],\n",
            "        [-0.0136,  0.2417,  0.3757,  0.1500,  0.0511,  0.2534, -0.2225],\n",
            "        [ 0.0704, -0.2930, -0.2620, -0.1953,  0.1710,  0.1520, -0.2239],\n",
            "        [ 0.1142,  0.2075, -0.0477,  0.0144,  0.0876,  0.2345,  0.3629]],\n",
            "       requires_grad=True)\n",
            "\n",
            "my_transform$$$arn.layers.1.bias:\n",
            "Parameter containing:\n",
            "tensor([-0.2913, -0.1385,  0.1485,  0.3132], requires_grad=True)\n",
            "\n",
            "9845_nf_0$$$u_unnormed:\n",
            "Parameter containing:\n",
            "tensor([[ -1.4091, -12.9938],\n",
            "        [ -6.0850,  10.7642]], requires_grad=True)\n",
            "\n",
            "9845_nf_1$$$u_unnormed:\n",
            "Parameter containing:\n",
            "tensor([[ -1.4091, -12.9938],\n",
            "        [ -6.0850,  10.7642]], requires_grad=True)\n",
            "\n",
            "9845_nf_2$$$u_unnormed:\n",
            "Parameter containing:\n",
            "tensor([[ -1.4091, -12.9938],\n",
            "        [ -6.0850,  10.7642]], requires_grad=True)\n",
            "\n",
            "9845_nf_3$$$u_unnormed:\n",
            "Parameter containing:\n",
            "tensor([[ -1.4091, -12.9938],\n",
            "        [ -6.0850,  10.7642]], requires_grad=True)\n",
            "\n",
            "9845_nf_4$$$u_unnormed:\n",
            "Parameter containing:\n",
            "tensor([[ -1.4091, -12.9938],\n",
            "        [ -6.0850,  10.7642]], requires_grad=True)\n",
            "\n"
          ],
          "name": "stdout"
        }
      ]
    },
    {
      "cell_type": "markdown",
      "metadata": {
        "id": "zDF-EuCp_nD-",
        "colab_type": "text"
      },
      "source": [
        "#### **Now Try to combine this Flows with Previous BCCA**\n"
      ]
    },
    {
      "cell_type": "code",
      "metadata": {
        "id": "mIacKYxYkGIO",
        "colab_type": "code",
        "colab": {}
      },
      "source": [
        "import numpy as np\n",
        "import math\n",
        "from scipy.stats import ortho_group\n",
        "\n",
        "# We use the pyro.generic interface to support dynamic choice of backend.\n",
        "from pyro.generic import pyro_backend\n",
        "from pyro.generic import distributions as dist\n",
        "from pyro.generic import infer, optim, pyro\n",
        "\n",
        "import pyro.distributions as dist\n",
        "from pyro.infer import SVI, Trace_ELBO\n",
        "# arguments used to instantiate PyTorch optimizers for all the parameters\n",
        "from pyro.optim import Adam\n",
        "# Prediction\n",
        "from pyro.infer import Predictive\n",
        "\n",
        "import torch\n",
        "import pyro\n",
        "import pyro.optim\n",
        "import pyro.infer\n",
        "import pyro.contrib.autoguide as autoguide\n",
        "import numpy as np\n",
        "import time as tm\n",
        "\n",
        "from pyro.poutine import trace\n",
        "from pprint import pprint\n",
        "from torch.distributions import constraints"
      ],
      "execution_count": 0,
      "outputs": []
    },
    {
      "cell_type": "code",
      "metadata": {
        "id": "2-fJ16qBkGCo",
        "colab_type": "code",
        "colab": {}
      },
      "source": [
        "# data generation\n",
        "N = 100 # sample size in each fake dataset\n",
        "D = [6, 8] # columns size for two datasets\n",
        "K = 10 # no. of latent dimensions prior(actual K is unknown in model)\n",
        "K_est = 10 # of shared LF to be estimated (actual K is unknown in model)\n",
        "J = [4, 2] # unshared latent factors dimensions\n",
        "eps = 0.1 # non-CCA iid error scale"
      ],
      "execution_count": 0,
      "outputs": []
    },
    {
      "cell_type": "code",
      "metadata": {
        "id": "8KIvXvbE_11_",
        "colab_type": "code",
        "outputId": "862860aa-0e9e-4bf4-b9a1-b3dcd5f43f57",
        "colab": {
          "base_uri": "https://localhost:8080/",
          "height": 34
        }
      },
      "source": [
        "## shared/common factors ##\n",
        "Z_shared = np.zeros((K, N))\n",
        "# update by row \n",
        "Z_shared[0,] = np.sin(np.array([i for i in range(1, N+1)])/N/20)\n",
        "Z_shared[1,] = np.cos(np.array([i for i in range(1, N+1)])/N/20)\n",
        "Z_shared[2,] = np.random.normal(0, 1, N)\n",
        "Z_shared[3,] = 2*np.array([i for i in range(1, N+1)])/N - 0.5\n",
        "\n",
        "m = ortho_group.rvs(dim=J[0]) # orthonormal matrix\n",
        "Sig_1 = np.matmul(np.matmul(m, np.diag(10*np.random.random(J[0]))), np.transpose(m))\n",
        "n = ortho_group.rvs(dim=J[1])\n",
        "Sig_2 = np.matmul(np.matmul(n, np.diag(10*np.random.random(J[1]))), np.transpose(n))\n",
        "\n",
        "# generate unshared factors\n",
        "Z_1 = np.transpose(np.random.multivariate_normal([0]*J[0], Sig_1, N))\n",
        "Z_2 = np.transpose(np.random.multivariate_normal([0]*J[1], Sig_2, N))\n",
        "\n",
        "A_1 = np.random.randint(-10, 10, size=(D[0], K))\n",
        "A_2 = np.random.randint(-10, 10, size=(D[1], K)) + 0.5\n",
        "# generate weight matrix for Z unshared\n",
        "B_1 = np.random.randint(-10, 0, size=(D[0], J[0]))/10\n",
        "B_2 = np.random.randint(0, 10, size=(D[1], J[1]))/10\n",
        "\n",
        "X_1 = np.transpose(np.random.normal(0, eps, D[0]*N).reshape((D[0], N)) + np.matmul(A_1, Z_shared) + np.matmul(B_1, Z_1))\n",
        "X_2 = np.transpose(np.random.normal(0, eps, D[1]*N).reshape((D[1], N)) + np.matmul(A_2, Z_shared) + np.matmul(B_2, Z_2))\n",
        "data = np.concatenate((X_1, X_2), axis=1)\n",
        "\n",
        "data = torch.tensor(data)\n",
        "data = data.transpose_(0, 1)\n",
        "N = data.shape[1] # no. of observations\n",
        "print(N)"
      ],
      "execution_count": 53,
      "outputs": [
        {
          "output_type": "stream",
          "text": [
            "100\n"
          ],
          "name": "stdout"
        }
      ]
    },
    {
      "cell_type": "code",
      "metadata": {
        "id": "cGHi2wscSZzH",
        "colab_type": "code",
        "colab": {}
      },
      "source": [
        "# Combination of BCCA and Affine Autoregressive Flows Module\n",
        "class BCCA_AffineAutoregressive(nn.Module):\n",
        "  def __init__(self, n_flows, base_dist, flow_type, z_dim=N):\n",
        "    super(BCCA_AffineAutoregressive, self).__init__()\n",
        "    self.z_dim = z_dim\n",
        "    self.n_flows = n_flows\n",
        "    self.base_dist = base_dist\n",
        "    self.uuid = np.random.randint(low=0,high=10000,size=1)[0]\n",
        "\n",
        "    # Initialize all flows\n",
        "    # shared dimentions for all layers in normalizing fl\n",
        "    self.nfs = []\n",
        "    for f in range(n_flows):\n",
        "      nf = flow_type\n",
        "      self.nfs.append(nf)\n",
        "    self.nf_dist = distributions.TransformedDistribution(self.base_dist, self.nfs)\n",
        "    self._register()\n",
        "\n",
        "  def _register(self):\n",
        "    # Register all N flows with Pyro\n",
        "    for f in range(self.n_flows):\n",
        "      nf_module = pyro.module(\"%d_nf_%d\" %(self.uuid,f), self.nfs[f])\n",
        "  \n",
        "  # sampling and log_prob calculation\n",
        "  def sample(self,n):\n",
        "      # Sample a batch of (n,dim)  \n",
        "      return self.nf_dist.sample(torch.Size([n]))\n",
        "  def log_prob(self,z):\n",
        "      # log_prob = [self.nf_dist.log_prob(z[i]) for i in range(z.shape[0])]\n",
        "      return self.nf_dist.log_prob(z)\n",
        "      # return sum(log_prob)\n",
        "\n",
        "  # Now define model and guide function\n",
        "  def model(self, data):\n",
        "    # data here may not be required \n",
        "    tau = pyro.sample('tau', dist.Gamma(torch.tensor(0.1), torch.tensor(0.1)).expand([K, 2]).independent(2))  \n",
        "    sig = pyro.sample('sig', dist.Gamma(torch.tensor(0.1), torch.tensor(0.1)).expand([2]).independent(1)) \n",
        "    Z = pyro.sample(\"Z\", dist.Normal(0.0, 1.0).expand([K, self.z_dim]).independent(2))\n",
        "    # weight matrix\n",
        "    W1 = pyro.sample(\"W1\", dist.Normal(torch.tensor(0.0), tau[:, 0].sqrt().reciprocal()).expand_by([D[0]]).independent(2)) # D[0]*K\n",
        "    W2 = pyro.sample(\"W2\", dist.Normal(torch.tensor(0.0), tau[:, 1].sqrt().reciprocal()).expand_by([D[1]]).independent(2)) # D[1]*K\n",
        "    # dataset sampling\n",
        "    pyro.sample(\"dataset_1\", dist.Normal(torch.mm(W1, Z), sig[0]).independent(2), obs=data[:D[0], :])\n",
        "    pyro.sample(\"dataset_2\", dist.Normal(torch.mm(W2, Z), sig[1]).independent(2), obs=data[D[0]:, :])\n",
        "\n",
        "  def guide_flexible(self, data):\n",
        "    # again data here may not be required \n",
        "    # Sample Z from Normalizing flows\n",
        "    # This is the NN being trained\n",
        "    self._register()\n",
        "    valid_range = constraints.greater_than(0.0)\n",
        "\n",
        "    tau_alpha = pyro.param(\"tau_alpha\", torch.tensor(0.).expand([K, 2])) # positive\n",
        "    tau_beta = pyro.param(\"tau_beta\", torch.tensor(1.).expand([K, 2]), constraint=valid_range) # positive\n",
        "    tau_q = pyro.sample('tau', dist.LogNormal(tau_alpha, tau_beta).independent(2))\n",
        "\n",
        "    sig_location = pyro.param(\"sig_location\", torch.tensor(0.).expand([2])) # positive\n",
        "    sig_scale = pyro.param(\"sig_scale\", torch.tensor(1.).expand([2]), constraint=valid_range) # positive \n",
        "    pyro.sample('sig', dist.LogNormal(sig_location, sig_scale).independent(1))\n",
        "    # use the Flows to get the parameters used to define q(z|x)\n",
        "    # be careful about the dimension\n",
        "    pyro.sample(\"Z\", self.nf_dist.expand([K]).independent(1))\n",
        "\n",
        "    W1_mean = pyro.param(\"W1_mean\", torch.tensor(0.0).expand([D[0], K]))\n",
        "    W2_mean = pyro.param(\"W2_mean\", torch.tensor(0.0).expand([D[1], K]))\n",
        "    pyro.sample(\"W1\", dist.Normal(W1_mean, tau_q[:, 0].sqrt().reciprocal()).independent(2)) # D[0]*K\n",
        "    pyro.sample(\"W2\", dist.Normal(W2_mean, tau_q[:, 1].sqrt().reciprocal()).independent(2)) # D[1]*K"
      ],
      "execution_count": 0,
      "outputs": []
    },
    {
      "cell_type": "code",
      "metadata": {
        "id": "qkVtqo0HtFRs",
        "colab_type": "code",
        "colab": {}
      },
      "source": [
        "from pyro.poutine import trace\n",
        "from pprint import pprint\n",
        "from pyro.poutine import replay\n",
        "\n",
        "dim = N\n",
        "n_flows = 5\n",
        "base_dist = lambda dim:distributions.Normal(torch.zeros(dim), torch.ones(dim))\n",
        "# flow = lambda dim:distributions.transforms.affine_autoregressive(dim)\n",
        "flow = lambda dim:Householder(dim)\n",
        "nf_obj = BCCA_AffineAutoregressive(n_flows=n_flows, base_dist=base_dist(dim), flow_type=flow(dim))"
      ],
      "execution_count": 0,
      "outputs": []
    },
    {
      "cell_type": "code",
      "metadata": {
        "id": "xfkn63pgE58i",
        "colab_type": "code",
        "colab": {
          "base_uri": "https://localhost:8080/",
          "height": 34
        },
        "outputId": "de0d3d1e-c478-47c4-dc02-1798607e93a6"
      },
      "source": [
        "Test = pyro.sample(\"Test\", nf_obj.nf_dist.expand([K]).independent(1))\n",
        "Test.shape"
      ],
      "execution_count": 56,
      "outputs": [
        {
          "output_type": "execute_result",
          "data": {
            "text/plain": [
              "torch.Size([10, 100])"
            ]
          },
          "metadata": {
            "tags": []
          },
          "execution_count": 56
        }
      ]
    },
    {
      "cell_type": "code",
      "metadata": {
        "id": "3pgyGoe3SZaY",
        "colab_type": "code",
        "outputId": "c418be83-058b-44b0-aca3-abc5c9ea4f32",
        "colab": {
          "base_uri": "https://localhost:8080/",
          "height": 408
        }
      },
      "source": [
        "adam_params = {\"lr\": 0.05, \"betas\": (0.90, 0.999)}\n",
        "optimizer = Adam(adam_params)\n",
        "\n",
        "# training with given max steps\n",
        "# parameters setup\n",
        "NUM_STEPS = 15000\n",
        "BACK_STEPS = 1000\n",
        "decay_threshold = 1e-5\n",
        "losses = []\n",
        "\n",
        "pyro.clear_param_store()\n",
        "start = tm.time()\n",
        "for step in range(NUM_STEPS):\n",
        "    losses.append(svi.step(data))\n",
        "    if step > BACK_STEPS:\n",
        "      # quite stable over BACK_STEPS steps\n",
        "      if np.abs((losses[step-BACK_STEPS] - losses[step])/losses[step-BACK_STEPS]) <= decay_threshold:\n",
        "        print('Losses converged with ll %.3f at iteration %d'%(losses[-1], step))\n",
        "        break\n",
        "    if step % 100 == 0:\n",
        "        print(f\"step: {step:>5}, ELBO loss: {losses[step]:.2f}\")\n",
        "print(f\"\\nfinished in {tm.time() - start:.2f} seconds\")"
      ],
      "execution_count": 67,
      "outputs": [
        {
          "output_type": "stream",
          "text": [
            "step:     0, ELBO loss: 372672.73\n",
            "step:   100, ELBO loss: 17532.06\n",
            "step:   200, ELBO loss: 15245.10\n",
            "step:   300, ELBO loss: 7858.15\n",
            "step:   400, ELBO loss: 6013.08\n",
            "step:   500, ELBO loss: 5283.53\n",
            "step:   600, ELBO loss: 5320.13\n",
            "step:   700, ELBO loss: 6095.31\n",
            "step:   800, ELBO loss: 5511.41\n",
            "step:   900, ELBO loss: 6338.01\n",
            "step:  1000, ELBO loss: 5315.36\n",
            "step:  1100, ELBO loss: 5185.97\n",
            "step:  1200, ELBO loss: 5551.91\n",
            "step:  1300, ELBO loss: 5529.85\n",
            "step:  1400, ELBO loss: 5330.00\n",
            "step:  1500, ELBO loss: 5338.47\n",
            "step:  1600, ELBO loss: 5300.90\n",
            "step:  1700, ELBO loss: 5413.30\n",
            "step:  1800, ELBO loss: 5342.02\n",
            "step:  1900, ELBO loss: 5211.13\n",
            "Losses converged with ll 5197.135 at iteration 1950\n",
            "\n",
            "finished in 183.72 seconds\n"
          ],
          "name": "stdout"
        }
      ]
    },
    {
      "cell_type": "code",
      "metadata": {
        "id": "Mp08sJkm_1o_",
        "colab_type": "code",
        "colab": {}
      },
      "source": [
        "samples_dic = Predictive(nf_obj.model, guide=nf_obj.guide_flexible, num_samples=1000)(data)\n",
        "Z_hat = samples_dic['Z'].mean(0) \n",
        "tau_hat = samples_dic['tau'].mean(0)\n",
        "sig_hat = samples_dic['sig'].mean(0) \n",
        "W1_hat = samples_dic['W1'].mean(0)\n",
        "W2_hat = samples_dic['W2'].mean(0)"
      ],
      "execution_count": 0,
      "outputs": []
    },
    {
      "cell_type": "code",
      "metadata": {
        "id": "31qvEk4iGz-v",
        "colab_type": "code",
        "colab": {
          "base_uri": "https://localhost:8080/",
          "height": 306
        },
        "outputId": "d3f6571a-561e-4aba-f66e-57b49441e78f"
      },
      "source": [
        "# error\n",
        "# reconstruct datasets\n",
        "X_1_hat = torch.mm(W1_hat, Z_hat) # D[0]*N\n",
        "X_2_hat = torch.mm(W2_hat, Z_hat) # D[1]*N\n",
        "print(\"Reconstruction loss on shared components - MSE\")\n",
        "X_1_shared_loss = np.mean((np.transpose(np.matmul(A_1, Z_shared)) - np.transpose(X_1_hat.detach().numpy()))**2)\n",
        "print(\"X_1_shared_loss: \", X_1_shared_loss)\n",
        "X_2_shared_loss = np.mean((np.transpose(np.matmul(A_2, Z_shared)) - np.transpose(X_2_hat.detach().numpy()))**2)\n",
        "print(\"X_2_shared_loss: \", X_2_shared_loss)\n",
        "print(\"Automatic relevance detection (ARD) \")\n",
        "print(\"Large tau == irrelevant latent component for dataset\")\n",
        "print(\"Sections 4.1, 4.2\")\n",
        "print(tau_hat)\n",
        "print(sig_hat)"
      ],
      "execution_count": 69,
      "outputs": [
        {
          "output_type": "stream",
          "text": [
            "Reconstruction loss on shared components - MSE\n",
            "X_1_shared_loss:  69.95213219412261\n",
            "X_2_shared_loss:  85.77840553657842\n",
            "Automatic relevance detection (ARD) \n",
            "Large tau == irrelevant latent component for dataset\n",
            "Sections 4.1, 4.2\n",
            "tensor([[4.7506, 6.6851],\n",
            "        [4.6646, 5.9056],\n",
            "        [3.2172, 5.7942],\n",
            "        [6.6533, 4.3757],\n",
            "        [5.7728, 2.6091],\n",
            "        [5.6857, 6.6360],\n",
            "        [6.4227, 7.9308],\n",
            "        [4.7441, 3.8885],\n",
            "        [5.6396, 8.3948],\n",
            "        [4.8810, 7.6960]], grad_fn=<MeanBackward1>)\n",
            "tensor([10.2070, 10.2161], grad_fn=<MeanBackward1>)\n"
          ],
          "name": "stdout"
        }
      ]
    },
    {
      "cell_type": "code",
      "metadata": {
        "id": "ciBj55pyLgwP",
        "colab_type": "code",
        "colab": {
          "base_uri": "https://localhost:8080/",
          "height": 1000
        },
        "outputId": "a4a8025f-fa30-4183-f908-9733fcf80742"
      },
      "source": [
        "for key, value in pyro.get_param_store().items():    \n",
        "    print(f\"{key}:\\n{value}\\n\")"
      ],
      "execution_count": 70,
      "outputs": [
        {
          "output_type": "stream",
          "text": [
            "7964_nf_0$$$u_unnormed:\n",
            "Parameter containing:\n",
            "tensor([[-2.7692,  0.9287,  1.7701,  ...,  1.3151,  1.6996, -5.0007],\n",
            "        [-3.6426,  3.7768,  4.1148,  ..., -3.4713, -4.0942, -2.5238],\n",
            "        [ 4.2900,  1.1796,  2.6323,  ...,  7.7664,  3.4039, -0.0735],\n",
            "        ...,\n",
            "        [-4.2673,  5.2904,  6.4634,  ...,  3.4974, -2.1948, -2.4798],\n",
            "        [-3.9960,  0.2750, -2.2126,  ..., -7.8873, -7.4591,  1.6788],\n",
            "        [ 0.6216, -2.8539, -1.1318,  ...,  2.5846, -2.5488,  5.9350]],\n",
            "       requires_grad=True)\n",
            "\n",
            "7964_nf_1$$$u_unnormed:\n",
            "Parameter containing:\n",
            "tensor([[-2.7692,  0.9287,  1.7701,  ...,  1.3151,  1.6996, -5.0007],\n",
            "        [-3.6426,  3.7768,  4.1148,  ..., -3.4713, -4.0942, -2.5238],\n",
            "        [ 4.2900,  1.1796,  2.6323,  ...,  7.7664,  3.4039, -0.0735],\n",
            "        ...,\n",
            "        [-4.2673,  5.2904,  6.4634,  ...,  3.4974, -2.1948, -2.4798],\n",
            "        [-3.9960,  0.2750, -2.2126,  ..., -7.8873, -7.4591,  1.6788],\n",
            "        [ 0.6216, -2.8539, -1.1318,  ...,  2.5846, -2.5488,  5.9350]],\n",
            "       requires_grad=True)\n",
            "\n",
            "7964_nf_2$$$u_unnormed:\n",
            "Parameter containing:\n",
            "tensor([[-2.7692,  0.9287,  1.7701,  ...,  1.3151,  1.6996, -5.0007],\n",
            "        [-3.6426,  3.7768,  4.1148,  ..., -3.4713, -4.0942, -2.5238],\n",
            "        [ 4.2900,  1.1796,  2.6323,  ...,  7.7664,  3.4039, -0.0735],\n",
            "        ...,\n",
            "        [-4.2673,  5.2904,  6.4634,  ...,  3.4974, -2.1948, -2.4798],\n",
            "        [-3.9960,  0.2750, -2.2126,  ..., -7.8873, -7.4591,  1.6788],\n",
            "        [ 0.6216, -2.8539, -1.1318,  ...,  2.5846, -2.5488,  5.9350]],\n",
            "       requires_grad=True)\n",
            "\n",
            "7964_nf_3$$$u_unnormed:\n",
            "Parameter containing:\n",
            "tensor([[-2.7692,  0.9287,  1.7701,  ...,  1.3151,  1.6996, -5.0007],\n",
            "        [-3.6426,  3.7768,  4.1148,  ..., -3.4713, -4.0942, -2.5238],\n",
            "        [ 4.2900,  1.1796,  2.6323,  ...,  7.7664,  3.4039, -0.0735],\n",
            "        ...,\n",
            "        [-4.2673,  5.2904,  6.4634,  ...,  3.4974, -2.1948, -2.4798],\n",
            "        [-3.9960,  0.2750, -2.2126,  ..., -7.8873, -7.4591,  1.6788],\n",
            "        [ 0.6216, -2.8539, -1.1318,  ...,  2.5846, -2.5488,  5.9350]],\n",
            "       requires_grad=True)\n",
            "\n",
            "7964_nf_4$$$u_unnormed:\n",
            "Parameter containing:\n",
            "tensor([[-2.7692,  0.9287,  1.7701,  ...,  1.3151,  1.6996, -5.0007],\n",
            "        [-3.6426,  3.7768,  4.1148,  ..., -3.4713, -4.0942, -2.5238],\n",
            "        [ 4.2900,  1.1796,  2.6323,  ...,  7.7664,  3.4039, -0.0735],\n",
            "        ...,\n",
            "        [-4.2673,  5.2904,  6.4634,  ...,  3.4974, -2.1948, -2.4798],\n",
            "        [-3.9960,  0.2750, -2.2126,  ..., -7.8873, -7.4591,  1.6788],\n",
            "        [ 0.6216, -2.8539, -1.1318,  ...,  2.5846, -2.5488,  5.9350]],\n",
            "       requires_grad=True)\n",
            "\n",
            "tau_alpha:\n",
            "tensor([[1.3597, 1.7182],\n",
            "        [1.3769, 1.6310],\n",
            "        [1.0045, 1.5296],\n",
            "        [1.6596, 1.3041],\n",
            "        [1.5451, 0.7305],\n",
            "        [1.5651, 1.6571],\n",
            "        [1.5769, 1.8430],\n",
            "        [1.3677, 1.2183],\n",
            "        [1.5667, 1.8766],\n",
            "        [1.4759, 1.7254]], requires_grad=True)\n",
            "\n",
            "tau_beta:\n",
            "tensor([[0.6013, 0.6026],\n",
            "        [0.5501, 0.5417],\n",
            "        [0.6212, 0.6697],\n",
            "        [0.6879, 0.5672],\n",
            "        [0.6514, 0.6889],\n",
            "        [0.5332, 0.6947],\n",
            "        [0.7034, 0.7044],\n",
            "        [0.6036, 0.6188],\n",
            "        [0.5348, 0.7281],\n",
            "        [0.4232, 0.7840]], grad_fn=<AddBackward0>)\n",
            "\n",
            "sig_location:\n",
            "tensor([2.2297, 2.3081], requires_grad=True)\n",
            "\n",
            "sig_scale:\n",
            "tensor([0.4167, 0.2026], grad_fn=<AddBackward0>)\n",
            "\n",
            "W1_mean:\n",
            "tensor([[-0.0026,  0.0316,  0.0412, -0.0096, -0.0414,  0.0207, -0.0217,  0.0011,\n",
            "         -0.0213, -0.0197],\n",
            "        [-0.0423,  0.0226, -0.0704, -0.0048, -0.0083,  0.0377,  0.0354, -0.0321,\n",
            "          0.0146,  0.0226],\n",
            "        [ 0.0366, -0.0176, -0.0615, -0.0134,  0.0114,  0.0236,  0.0070,  0.0114,\n",
            "          0.0068, -0.0036],\n",
            "        [-0.0115, -0.0222,  0.0095, -0.0262,  0.0027,  0.0448, -0.0311, -0.0181,\n",
            "          0.0346,  0.0093],\n",
            "        [-0.0199, -0.0415,  0.0384, -0.0099, -0.0185,  0.0151,  0.0206,  0.0406,\n",
            "         -0.0400, -0.0300],\n",
            "        [-0.0029, -0.0070, -0.0031,  0.0040, -0.0292, -0.0440,  0.0070, -0.0548,\n",
            "         -0.0005, -0.0536]], requires_grad=True)\n",
            "\n",
            "W2_mean:\n",
            "tensor([[-0.0167,  0.1089,  0.0437,  0.0426, -0.0551,  0.0299, -0.0091,  0.0513,\n",
            "          0.0516, -0.0565],\n",
            "        [ 0.0264,  0.0412,  0.0619, -0.0894,  0.0167, -0.0028, -0.0068, -0.0452,\n",
            "          0.0965,  0.0015],\n",
            "        [ 0.0097,  0.0612,  0.0009,  0.0411, -0.0142,  0.0076, -0.0243, -0.0646,\n",
            "         -0.0591,  0.0044],\n",
            "        [-0.0097,  0.0394, -0.0162, -0.0050, -0.0099, -0.0011, -0.0354,  0.0179,\n",
            "         -0.0399, -0.0077],\n",
            "        [-0.0514, -0.0186,  0.0270, -0.0053, -0.1487, -0.0089,  0.0140, -0.0447,\n",
            "         -0.0136, -0.0434],\n",
            "        [-0.0281, -0.0293,  0.0333, -0.0148, -0.0153, -0.0580,  0.0736,  0.0313,\n",
            "         -0.0377, -0.1300],\n",
            "        [ 0.0040, -0.0100,  0.0683,  0.0893, -0.0165, -0.0472,  0.0591,  0.0313,\n",
            "         -0.0721,  0.0384],\n",
            "        [ 0.0347,  0.0316,  0.0533, -0.0079,  0.0041,  0.0253, -0.0202, -0.0061,\n",
            "         -0.0039,  0.0132]], requires_grad=True)\n",
            "\n"
          ],
          "name": "stdout"
        }
      ]
    }
  ]
}
