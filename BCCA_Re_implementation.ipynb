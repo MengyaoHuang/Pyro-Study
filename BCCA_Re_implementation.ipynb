{
  "nbformat": 4,
  "nbformat_minor": 0,
  "metadata": {
    "colab": {
      "name": "BCCA Re-implementation.ipynb",
      "provenance": [],
      "collapsed_sections": [],
      "toc_visible": true
    },
    "kernelspec": {
      "name": "python3",
      "display_name": "Python 3"
    }
  },
  "cells": [
    {
      "cell_type": "markdown",
      "metadata": {
        "id": "8YHIlV0LvdgE",
        "colab_type": "text"
      },
      "source": [
        "### **BCCA re-implementation**"
      ]
    },
    {
      "cell_type": "code",
      "metadata": {
        "id": "BBcCqGcCijoE",
        "colab_type": "code",
        "colab": {}
      },
      "source": [
        "# have to install first every time\n",
        "# install pyro in case here\n",
        "!pip install pyro-ppl"
      ],
      "execution_count": 0,
      "outputs": []
    },
    {
      "cell_type": "markdown",
      "metadata": {
        "id": "fs3NUVLnZUPS",
        "colab_type": "text"
      },
      "source": [
        "#### **Tensor Shape review**\n",
        "- https://pyro.ai/examples/tensor_shapes.html\n",
        "  - Distribution .sample().shape == batch_shape + event_shape.\n",
        "    - Indices over .batch_shape denote conditionally independent random variables.\n",
        "    - Indices over .event_shape denote dependent random variables (ie one draw from a distribution). \n",
        "    - the .log_prob() method only produces a single number for each event of shape .event_shape. Thus the total shape of .log_prob() is .batch_shape\n",
        "  - Distribution .log_prob(x).shape == batch_shape (but not event_shape!).\n",
        "  - Use .expand() to draw a batch of samples, or rely on plate to expand automatically.\n",
        "  - Use my_dist.to_event(1) to declare a dimension as dependent.\n",
        "  - Use with pyro.plate('name', size): to declare a dimension as conditionally independent.\n",
        "  - All dimensions must be declared either dependent or conditionally independent. \n",
        "  - Try to support batching on the left. This lets Pyro auto-parallelize.\n",
        "\n",
        "  - Note that the Distribution.sample() method also takes a sample_shape parameter that indexes over independent identically distributed (iid) random varables, so that\n",
        "\n",
        "    ```\n",
        "    x2 = d.sample(sample_shape)\n",
        "    assert x2.shape == sample_shape + batch_shape + event_shape\n",
        "    ```\n",
        "  - For example univariate distributions have empty event shape (because each number is an independent event). Distributions over vectors like MultiNormal have len(event_shape) == 1. Distributions over matrices like InverseWishart have len(event_shape) == 2."
      ]
    },
    {
      "cell_type": "code",
      "metadata": {
        "id": "v8ULnEGyeXuS",
        "colab_type": "code",
        "colab": {}
      },
      "source": [
        "import os\n",
        "import torch\n",
        "import pyro\n",
        "from torch.distributions import constraints\n",
        "from pyro.distributions import Bernoulli, Categorical, MultivariateNormal, Normal\n",
        "from pyro.distributions.util import broadcast_shape\n",
        "from pyro.infer import Trace_ELBO, TraceEnum_ELBO, config_enumerate\n",
        "import pyro.poutine as poutine\n",
        "from pyro.optim import Adam\n",
        "\n",
        "smoke_test = ('CI' in os.environ)\n",
        "# We'll ue this helper to check our models are correct.\n",
        "def test_model(model, guide, loss):\n",
        "    pyro.clear_param_store()\n",
        "    loss.loss(model, guide)"
      ],
      "execution_count": 0,
      "outputs": []
    },
    {
      "cell_type": "code",
      "metadata": {
        "id": "tvVE9m-ZSZY4",
        "colab_type": "code",
        "colab": {}
      },
      "source": [
        "# The simplest distribution shape is a single univariate distribution.\n",
        "d = Bernoulli(0.5)\n",
        "assert d.batch_shape == ()\n",
        "assert d.event_shape == ()\n",
        "x = d.sample()\n",
        "assert x.shape == ()\n",
        "assert d.log_prob(x).shape == ()"
      ],
      "execution_count": 0,
      "outputs": []
    },
    {
      "cell_type": "code",
      "metadata": {
        "id": "mB6_uF3sSZX6",
        "colab_type": "code",
        "colab": {}
      },
      "source": [
        "# Distributions can be batched by passing in batched parameters.\n",
        "d = Bernoulli(0.5 * torch.ones(3,4)) # conditionally independent random variables\n",
        "assert d.batch_shape == (3, 4)\n",
        "assert d.event_shape == () # no dependent variables\n",
        "x = d.sample()\n",
        "assert x.shape == (3, 4) # consistent with d shape\n",
        "assert d.log_prob(x).shape == (3, 4)"
      ],
      "execution_count": 0,
      "outputs": []
    },
    {
      "cell_type": "code",
      "metadata": {
        "id": "yDdWRSLISZW6",
        "colab_type": "code",
        "outputId": "cac36639-9393-4f1f-adaa-b8046d159ded",
        "colab": {
          "base_uri": "https://localhost:8080/",
          "height": 68
        }
      },
      "source": [
        "# Another way to batch distributions is via the .expand() method. \n",
        "# This only works if parameters are identical along the leftmost dimensions.\n",
        "d = Bernoulli(torch.tensor([0.1, 0.2, 0.3, 0.4])).expand([3, 4])\n",
        "assert d.batch_shape == (3, 4)\n",
        "assert d.event_shape == ()\n",
        "x = d.sample()\n",
        "assert x.shape == (3, 4)\n",
        "assert d.log_prob(x).shape == (3, 4)\n",
        "print(x)"
      ],
      "execution_count": 5,
      "outputs": [
        {
          "output_type": "stream",
          "text": [
            "tensor([[0., 0., 0., 1.],\n",
            "        [0., 0., 0., 1.],\n",
            "        [0., 1., 0., 1.]])\n"
          ],
          "name": "stdout"
        }
      ]
    },
    {
      "cell_type": "code",
      "metadata": {
        "id": "mn6KYRNLSZOk",
        "colab_type": "code",
        "outputId": "76043b6c-84a2-411a-e0a3-45546e84b368",
        "colab": {
          "base_uri": "https://localhost:8080/",
          "height": 34
        }
      },
      "source": [
        "# Multivariate distributions have nonempty .event_shape. For these distributions, the shapes of .sample() and .log_prob(x) differ:\n",
        "d = MultivariateNormal(torch.zeros(3), torch.eye(3, 3))\n",
        "assert d.batch_shape == ()\n",
        "assert d.event_shape == (3,)\n",
        "x = d.sample()\n",
        "assert x.shape == (3,)            # == batch_shape + event_shape\n",
        "assert d.log_prob(x).shape == ()  # == batch_shape\n",
        "print(x)"
      ],
      "execution_count": 6,
      "outputs": [
        {
          "output_type": "stream",
          "text": [
            "tensor([-0.4299,  1.3078, -0.8747])\n"
          ],
          "name": "stdout"
        }
      ]
    },
    {
      "cell_type": "code",
      "metadata": {
        "id": "N7h8eDvXh2Zf",
        "colab_type": "code",
        "outputId": "df81a265-c852-41ba-bc98-06a823433375",
        "colab": {
          "base_uri": "https://localhost:8080/",
          "height": 68
        }
      },
      "source": [
        "# Reshaping distributions - to_event(n)\n",
        "# In Pyro you can treat a univariate distribution as multivariate by calling the .to_event(n) property \n",
        "# where n is the number of batch dimensions (from the right) to declare as dependent.\n",
        "d = Bernoulli(0.5 * torch.ones(3,4)).to_event(2)\n",
        "assert d.batch_shape == ()\n",
        "assert d.event_shape == (3,4)\n",
        "x = d.sample()\n",
        "assert x.shape == (3, 4)\n",
        "assert d.log_prob(x).shape == ()\n",
        "print(x)"
      ],
      "execution_count": 7,
      "outputs": [
        {
          "output_type": "stream",
          "text": [
            "tensor([[0., 0., 0., 0.],\n",
            "        [0., 0., 0., 1.],\n",
            "        [0., 0., 0., 1.]])\n"
          ],
          "name": "stdout"
        }
      ]
    },
    {
      "cell_type": "code",
      "metadata": {
        "id": "2NTi9F7xh2YS",
        "colab_type": "code",
        "colab": {}
      },
      "source": [
        "\"\"\"\n",
        "Don't run this!\n",
        "\"\"\"\n",
        "# It is always safe to assume dependence\n",
        "# Often in Pyro we’ll declare some dimensions as dependent even though they are in fact independent, e.g.\n",
        "x = pyro.sample(\"x\", dist.Normal(0, 1).expand([10]).to_event(1))\n",
        "assert x.shape == (10,)\n",
        "# This is useful for two reasons: First it allows us to easily swap in a MultivariateNormal distribution later. \n",
        "# Second it simplifies the code a bit since we don’t need a plate (see below) as in\n",
        "with pyro.plate(\"x_plate\", 10):\n",
        "    x = pyro.sample(\"x\", dist.Normal(0, 1))  # .expand([10]) is automatic\n",
        "    assert x.shape == (10,)\n",
        "# The difference between these two versions is that the second version with plate informs Pyro that it can make use of conditional independence information when estimating gradients, \n",
        "# whereas in the first version Pyro must assume they are dependent (even though the normals are in fact conditionally independent). "
      ],
      "execution_count": 0,
      "outputs": []
    },
    {
      "cell_type": "code",
      "metadata": {
        "id": "cG4ja7aah2XG",
        "colab_type": "code",
        "colab": {}
      },
      "source": [
        "\"\"\"\n",
        "Don't run this!\n",
        "\"\"\"\n",
        "# Declaring independent dims with plate\n",
        "# Pyro models can use the context manager pyro.plate to declare that certain batch dimensions are independent. \n",
        "# An example of an independent dimension is the index over data in a minibatch: each datum should be independent of all others.\n",
        "\n",
        "# The simplest way to declare a dimension as independent is to declare the rightmost batch dimension as independent via a simple\n",
        "with pyro.plate(\"my_plate\"):\n",
        "    # within this context, batch dimension -1 is independent\n",
        "\n",
        "# We recommend always providing an optional size argument to aid in debugging shapes\n",
        "with pyro.plate(\"my_plate\", len(my_data)):\n",
        "    # within this context, batch dimension -1 is independent\n",
        "\n",
        "# per-pixel independence:\n",
        "with pyro.plate(\"x_axis\", 320):\n",
        "    # within this context, batch dimension -1 is independent\n",
        "    with pyro.plate(\"y_axis\", 200):\n",
        "        # within this context, batch dimensions -2 and -1 are independent"
      ],
      "execution_count": 0,
      "outputs": []
    },
    {
      "cell_type": "code",
      "metadata": {
        "id": "YZOZfRY1k6az",
        "colab_type": "code",
        "colab": {}
      },
      "source": [
        "def model1():\n",
        "    a = pyro.sample(\"a\", Normal(0, 1))\n",
        "    b = pyro.sample(\"b\", Normal(torch.zeros(2), 1).to_event(1)) # dependent\n",
        "    with pyro.plate(\"c_plate\", 2):\n",
        "        c = pyro.sample(\"c\", Normal(torch.zeros(2), 1)) # batch independent\n",
        "    with pyro.plate(\"d_plate\", 3):\n",
        "        d = pyro.sample(\"d\", Normal(torch.zeros(3,4,5), 1).to_event(2))\n",
        "    assert a.shape == ()       # batch_shape == ()     event_shape == ()\n",
        "    assert b.shape == (2,)     # batch_shape == ()     event_shape == (2,)\n",
        "    assert c.shape == (2,)     # batch_shape == (2,)   event_shape == ()\n",
        "    assert d.shape == (3,4,5)  # batch_shape == (3,)   event_shape == (4,5)\n",
        "\n",
        "    x_axis = pyro.plate(\"x_axis\", 3, dim=-2)\n",
        "    y_axis = pyro.plate(\"y_axis\", 2, dim=-3)\n",
        "    with x_axis:\n",
        "        x = pyro.sample(\"x\", Normal(0, 1))\n",
        "    with y_axis:\n",
        "        y = pyro.sample(\"y\", Normal(0, 1))\n",
        "    with x_axis, y_axis:\n",
        "        xy = pyro.sample(\"xy\", Normal(0, 1))\n",
        "        z = pyro.sample(\"z\", Normal(0, 1).expand([5]).to_event(1))\n",
        "    assert x.shape == (3, 1)        # batch_shape == (3,1)     event_shape == ()\n",
        "    assert y.shape == (2, 1, 1)     # batch_shape == (2,1,1)   event_shape == ()\n",
        "    assert xy.shape == (2, 3, 1)    # batch_shape == (2,3,1)   event_shape == ()\n",
        "    assert z.shape == (2, 3, 1, 5)  # batch_shape == (2,3,1)   event_shape == (5,)\n",
        "\n",
        "test_model(model1, model1, Trace_ELBO())"
      ],
      "execution_count": 0,
      "outputs": []
    },
    {
      "cell_type": "code",
      "metadata": {
        "id": "AVwaqFB7k6F4",
        "colab_type": "code",
        "outputId": "57cac3a4-5093-49d9-f291-72e22da47add",
        "colab": {
          "base_uri": "https://localhost:8080/",
          "height": 680
        }
      },
      "source": [
        "trace = poutine.trace(model1).get_trace()\n",
        "trace.compute_log_prob()  # optional, but allows printing of log_prob shapes\n",
        "print(trace.format_shapes())"
      ],
      "execution_count": 9,
      "outputs": [
        {
          "output_type": "stream",
          "text": [
            "Trace Shapes:            \n",
            " Param Sites:            \n",
            "Sample Sites:            \n",
            "       a dist       |    \n",
            "        value       |    \n",
            "     log_prob       |    \n",
            "       b dist       | 2  \n",
            "        value       | 2  \n",
            "     log_prob       |    \n",
            " c_plate dist       |    \n",
            "        value     2 |    \n",
            "     log_prob       |    \n",
            "       c dist     2 |    \n",
            "        value     2 |    \n",
            "     log_prob     2 |    \n",
            " d_plate dist       |    \n",
            "        value     3 |    \n",
            "     log_prob       |    \n",
            "       d dist     3 | 4 5\n",
            "        value     3 | 4 5\n",
            "     log_prob     3 |    \n",
            "  x_axis dist       |    \n",
            "        value     3 |    \n",
            "     log_prob       |    \n",
            "  y_axis dist       |    \n",
            "        value     2 |    \n",
            "     log_prob       |    \n",
            "       x dist   3 1 |    \n",
            "        value   3 1 |    \n",
            "     log_prob   3 1 |    \n",
            "       y dist 2 1 1 |    \n",
            "        value 2 1 1 |    \n",
            "     log_prob 2 1 1 |    \n",
            "      xy dist 2 3 1 |    \n",
            "        value 2 3 1 |    \n",
            "     log_prob 2 3 1 |    \n",
            "       z dist 2 3 1 | 5  \n",
            "        value 2 3 1 | 5  \n",
            "     log_prob 2 3 1 |    \n"
          ],
          "name": "stdout"
        }
      ]
    },
    {
      "cell_type": "code",
      "metadata": {
        "id": "N_fyhz7ck6Eb",
        "colab_type": "code",
        "colab": {}
      },
      "source": [
        "# Subsampling tensors inside a plate\n",
        "data = torch.arange(100.)\n",
        "\n",
        "def model2():\n",
        "    mean = pyro.param(\"mean\", torch.zeros(len(data)))\n",
        "    with pyro.plate(\"data\", len(data), subsample_size=10) as ind:\n",
        "        assert len(ind) == 10    # ind is a LongTensor that indexes the subsample.\n",
        "        batch = data[ind]        # Select a minibatch of data.\n",
        "        mean_batch = mean[ind]   # Take care to select the relevant per-datum parameters.\n",
        "        # Do stuff with batch:\n",
        "        x = pyro.sample(\"x\", Normal(mean_batch, 1), obs=batch)\n",
        "        assert len(x) == 10\n",
        "\n",
        "test_model(model2, guide=lambda: None, loss=Trace_ELBO())"
      ],
      "execution_count": 0,
      "outputs": []
    },
    {
      "cell_type": "markdown",
      "metadata": {
        "id": "OHBTsL6z9Q6q",
        "colab_type": "text"
      },
      "source": [
        "#### **Constraints review**\n",
        "- https://pytorch.org/docs/master/_modules/torch/distributions/constraints.html#Constraint.check\n",
        "- The following constraints are implemented:\n",
        "  - ``constraints.boolean``\n",
        "  - ``constraints.cat``\n",
        "  - ``constraints.dependent``\n",
        "  - ``constraints.greater_than(lower_bound)``\n",
        "  - ``constraints.integer_interval(lower_bound, upper_bound)``\n",
        "  - ``constraints.interval(lower_bound, upper_bound)``\n",
        "  - ``constraints.lower_cholesky``\n",
        "  - ``constraints.lower_triangular``\n",
        "  - ``constraints.nonnegative_integer``\n",
        "  - ``constraints.positive``\n",
        "  - ``constraints.positive_definite``\n",
        "  - ``constraints.positive_integer``\n",
        "  - ``constraints.real``\n",
        "  - ``constraints.real_vector``\n",
        "  - ``constraints.simplex``\n",
        "  - ``constraints.stack``\n",
        "  - ``constraints.unit_interval``"
      ]
    },
    {
      "cell_type": "code",
      "metadata": {
        "id": "BIEIDJ329Qbz",
        "colab_type": "code",
        "colab": {}
      },
      "source": [
        "# MAIN base Constraint class\n",
        "class Constraint(object):\n",
        "    \"\"\"\n",
        "    Abstract base class for constraints.\n",
        "    A constraint object represents a region over which a variable is valid,\n",
        "    e.g. within which a variable can be optimized.\n",
        "    \"\"\"\n",
        "    def check(self, value):\n",
        "        \"\"\"\n",
        "        Returns a byte tensor of `sample_shape + batch_shape` indicating\n",
        "        whether each event in value satisfies this constraint.\n",
        "        \"\"\"\n",
        "        raise NotImplementedError\n",
        "    def __repr__(self):\n",
        "        return self.__class__.__name__[1:] + '()'"
      ],
      "execution_count": 0,
      "outputs": []
    },
    {
      "cell_type": "code",
      "metadata": {
        "id": "_X47qwey9h6Y",
        "colab_type": "code",
        "colab": {}
      },
      "source": [
        "# DEPENDENCY\n",
        "# Check dependent constraints relationship\n",
        "class _Dependent(Constraint):\n",
        "    \"\"\"\n",
        "    Placeholder for variables whose support depends on other variables.\n",
        "    These variables obey no simple coordinate-wise constraints.\n",
        "    \"\"\"\n",
        "    def check(self, x):\n",
        "        raise ValueError('Cannot determine validity of dependent constraint')\n",
        "def is_dependent(constraint):\n",
        "    return isinstance(constraint, _Dependent)\n",
        "\n",
        "# Decorator to act dependent constraints when called a class\n",
        "class _DependentProperty(property, _Dependent):"
      ],
      "execution_count": 0,
      "outputs": []
    },
    {
      "cell_type": "code",
      "metadata": {
        "id": "uJzS5SFV9h4O",
        "colab_type": "code",
        "colab": {}
      },
      "source": [
        "# Some classes for constraints checking (incomplete)\n",
        "# Constrain to the two values 0 and 1\n",
        "class _Boolean(Constraint):\n",
        "    def check(self, value):\n",
        "        return (value == 0) | (value == 1)\n",
        "\n",
        "# Constrain to an integer interval between two values lower_bound and upper_bound\n",
        "class _IntegerInterval(Constraint):\n",
        "    def __init__(self, lower_bound, upper_bound):\n",
        "        self.lower_bound = lower_bound\n",
        "        self.upper_bound = upper_bound\n",
        "    def check(self, value):\n",
        "        return (value % 1 == 0) & (self.lower_bound <= value) & (value <= self.upper_bound)\n",
        "    def __repr__(self):\n",
        "        fmt_string = self.__class__.__name__[1:]\n",
        "        fmt_string += '(lower_bound={}, upper_bound={})'.format(self.lower_bound, self.upper_bound)\n",
        "        return fmt_string\n",
        "\n",
        "# Constrain to an integer interval (-inf, upper_bound]\n",
        "class _IntegerLessThan(Constraint):\n",
        "    def __init__(self, upper_bound):\n",
        "        self.upper_bound = upper_bound\n",
        "    def check(self, value):\n",
        "        return (value % 1 == 0) & (value <= self.upper_bound)\n",
        "    def __repr__(self):\n",
        "        fmt_string = self.__class__.__name__[1:]\n",
        "        fmt_string += '(upper_bound={})'.format(self.upper_bound)\n",
        "        return fmt_string"
      ],
      "execution_count": 0,
      "outputs": []
    },
    {
      "cell_type": "markdown",
      "metadata": {
        "id": "gMXX_LwR2tuj",
        "colab_type": "text"
      },
      "source": [
        "### **Bayesian CCA estimation step 1: fake data generation**"
      ]
    },
    {
      "cell_type": "code",
      "metadata": {
        "id": "F3RBMCW5-Phr",
        "colab_type": "code",
        "colab": {}
      },
      "source": [
        "import numpy as np\n",
        "import math\n",
        "from scipy.stats import ortho_group"
      ],
      "execution_count": 0,
      "outputs": []
    },
    {
      "cell_type": "code",
      "metadata": {
        "id": "i463M3mSxTbI",
        "colab_type": "code",
        "colab": {}
      },
      "source": [
        "# data generation\n",
        "N = 2000 # sample size in each fake dataset\n",
        "D = [6, 8] # columns size for two datasets\n",
        "K = 4 # shared latent factors dimentions\n",
        "K_est = 10 # of shared LF to be estimated (actual K is unknown in model)\n",
        "J = [4, 2] # unshared latent factors dimensions\n",
        "eps = 0.1 # non-CCA iid error scale"
      ],
      "execution_count": 0,
      "outputs": []
    },
    {
      "cell_type": "code",
      "metadata": {
        "id": "2OO2H1yPxTWh",
        "colab_type": "code",
        "outputId": "f7be18aa-3178-4ac6-c716-74731414d33d",
        "colab": {
          "base_uri": "https://localhost:8080/",
          "height": 170
        }
      },
      "source": [
        "## shared/common factors ##\n",
        "Z_shared = np.zeros((K, N))\n",
        "# update by row \n",
        "Z_shared[0,] = np.sin(np.array([i for i in range(1, N+1)])/N/20)\n",
        "Z_shared[1,] = np.cos(np.array([i for i in range(1, N+1)])/N/20)\n",
        "Z_shared[2,] = np.random.normal(0, 1, N)\n",
        "Z_shared[3,] = 2*np.array([i for i in range(1, N+1)])/N - 0.5\n",
        "print(\"Z_shared:\\n\", Z_shared)"
      ],
      "execution_count": 13,
      "outputs": [
        {
          "output_type": "stream",
          "text": [
            "Z_shared:\n",
            " [[ 2.50000000e-05  5.00000000e-05  7.49999999e-05 ...  4.99292317e-02\n",
            "   4.99542005e-02  4.99791693e-02]\n",
            " [ 1.00000000e+00  9.99999999e-01  9.99999997e-01 ...  9.98752758e-01\n",
            "   9.98751510e-01  9.98750260e-01]\n",
            " [-1.23955601e+00 -5.25402703e-01  2.70651563e-02 ...  2.07167584e+00\n",
            "  -4.53108886e-01 -1.31341298e+00]\n",
            " [-4.99000000e-01 -4.98000000e-01 -4.97000000e-01 ...  1.49800000e+00\n",
            "   1.49900000e+00  1.50000000e+00]]\n"
          ],
          "name": "stdout"
        }
      ]
    },
    {
      "cell_type": "code",
      "metadata": {
        "id": "7hFZAJa7_SX0",
        "colab_type": "code",
        "outputId": "0be0340d-0021-4c5d-f3e8-46949548e014",
        "colab": {
          "base_uri": "https://localhost:8080/",
          "height": 391
        }
      },
      "source": [
        "# generate Sigma and mimic R-package cluster steps\n",
        "# https://www.rdocumentation.org/packages/clusterGeneration/versions/1.3.4/topics/genPositiveDefMat\n",
        "# see Detail for formula data generation\n",
        "m = ortho_group.rvs(dim=J[0]) # orthonormal matrix\n",
        "Sig_1 = np.matmul(np.matmul(m, np.diag(10*np.random.random(J[0]))), np.transpose(m))\n",
        "print(\"Sig_1: \\n\", Sig_1)\n",
        "n = ortho_group.rvs(dim=J[1])\n",
        "Sig_2 = np.matmul(np.matmul(n, np.diag(10*np.random.random(J[1]))), np.transpose(n))\n",
        "print(\"Sig_2: \\n\", Sig_2)\n",
        "\n",
        "# generate unshared factors\n",
        "Z_1 = np.transpose(np.random.multivariate_normal([0]*J[0], Sig_1, N))\n",
        "print(\"Z_1: \\n\", Z_1)\n",
        "Z_2 = np.transpose(np.random.multivariate_normal([0]*J[1], Sig_2, N))\n",
        "print(\"Z_2: \\n\", Z_2)"
      ],
      "execution_count": 14,
      "outputs": [
        {
          "output_type": "stream",
          "text": [
            "Sig_1: \n",
            " [[ 2.03092704  0.14978922 -1.45729413  0.57319426]\n",
            " [ 0.14978922  2.32358425 -0.53154888  0.48645361]\n",
            " [-1.45729413 -0.53154888  3.85334813 -0.95278438]\n",
            " [ 0.57319426  0.48645361 -0.95278438  3.10224665]]\n",
            "Sig_2: \n",
            " [[ 4.66949863 -3.84689204]\n",
            " [-3.84689204  5.37554942]]\n",
            "Z_1: \n",
            " [[ 0.3174426  -0.58328294  0.85031772 ... -0.01370339 -2.09658944\n",
            "  -1.57542685]\n",
            " [ 0.78290698 -2.76413365  1.68551349 ... -0.7064084   2.723007\n",
            "   0.16793785]\n",
            " [-3.83164992  2.92578397 -1.6134011  ... -0.04953911  0.13763066\n",
            "   4.39645286]\n",
            " [ 3.45282799 -3.9722415   1.38768941 ... -1.6163824  -1.32259934\n",
            "  -3.78606488]]\n",
            "Z_2: \n",
            " [[-2.31458652  1.87053612  2.41557718 ... -2.43760344 -1.44414061\n",
            "  -0.75128412]\n",
            " [ 2.46251387 -3.80599093 -2.11868515 ...  1.45068981  4.59340482\n",
            "  -0.16672484]]\n"
          ],
          "name": "stdout"
        }
      ]
    },
    {
      "cell_type": "code",
      "metadata": {
        "id": "WBlX7lx9AfFd",
        "colab_type": "code",
        "outputId": "3b66a7b7-4fcc-4598-cbf0-ffacc701e4ed",
        "colab": {
          "base_uri": "https://localhost:8080/",
          "height": 561
        }
      },
      "source": [
        "# generate weight matrix for Z_shared\n",
        "A_1 = np.random.randint(-10, 10, size=(D[0], K))\n",
        "print(\"A_1: \\n\", A_1)\n",
        "A_2 = np.random.randint(-10, 10, size=(D[1], K)) + 0.5\n",
        "print(\"A_2: \\n\", A_2)\n",
        "# generate weight matrix for Z unshared\n",
        "B_1 = np.random.randint(-10, 0, size=(D[0], J[0]))/10\n",
        "print(\"B_1: \\n\", B_1)\n",
        "B_2 = np.random.randint(0, 10, size=(D[1], J[1]))/10\n",
        "print(\"B_2: \\n\", B_2)"
      ],
      "execution_count": 15,
      "outputs": [
        {
          "output_type": "stream",
          "text": [
            "A_1: \n",
            " [[  0   4  -5   8]\n",
            " [ -9  -9   0  -2]\n",
            " [  1  -2  -7  -1]\n",
            " [ -7   6   3   3]\n",
            " [ -9   5  -5   1]\n",
            " [-10 -10   0  -7]]\n",
            "A_2: \n",
            " [[ 6.5 -3.5 -4.5 -5.5]\n",
            " [-6.5 -1.5 -8.5  7.5]\n",
            " [ 3.5  4.5  5.5  3.5]\n",
            " [-3.5 -4.5  2.5 -9.5]\n",
            " [ 5.5 -5.5  7.5 -0.5]\n",
            " [-0.5  5.5  4.5 -7.5]\n",
            " [-9.5  2.5  3.5 -5.5]\n",
            " [ 1.5  1.5 -3.5 -2.5]]\n",
            "B_1: \n",
            " [[-0.1 -0.3 -0.7 -0.1]\n",
            " [-0.9 -0.8 -0.3 -0.3]\n",
            " [-1.  -1.  -0.7 -0.5]\n",
            " [-0.8 -0.4 -0.1 -0.2]\n",
            " [-0.7 -1.  -1.  -0.4]\n",
            " [-0.4 -0.6 -0.2 -0.4]]\n",
            "B_2: \n",
            " [[0.  0.4]\n",
            " [0.7 0.9]\n",
            " [0.6 0.4]\n",
            " [0.  0.5]\n",
            " [0.6 0.4]\n",
            " [0.1 0.2]\n",
            " [0.6 0.4]\n",
            " [0.8 0.5]]\n"
          ],
          "name": "stdout"
        }
      ]
    },
    {
      "cell_type": "code",
      "metadata": {
        "id": "uG2CbDITJE2A",
        "colab_type": "code",
        "outputId": "020a6c7b-65c7-4c6b-c570-499b686e68b4",
        "colab": {
          "base_uri": "https://localhost:8080/",
          "height": 510
        }
      },
      "source": [
        "# generate fake datasets\n",
        "## draw datasets, X1 and X2 - Eq. 2 ##\n",
        "X_1 = np.transpose(np.random.normal(0, eps, D[0]*N).reshape((D[0], N)) + np.matmul(A_1, Z_shared) + np.matmul(B_1, Z_1))\n",
        "print(\"X_1: \\n\", X_1)\n",
        "X_2 = np.transpose(np.random.normal(0, eps, D[1]*N).reshape((D[1], N)) + np.matmul(A_2, Z_shared) + np.matmul(B_2, Z_2))\n",
        "print(\"X_2: \\n\", X_2)\n",
        "# combine two sets \n",
        "data = np.concatenate((X_1, X_2), axis=1)\n",
        "print(\"Shape of combined dataset: \", data.shape)"
      ],
      "execution_count": 16,
      "outputs": [
        {
          "output_type": "stream",
          "text": [
            "X_1: \n",
            " [[  8.24885053  -8.59215874   6.97519544  -0.10777103  12.16361114\n",
            "   -7.68282585]\n",
            " [  1.90264192  -4.88034161   5.49613041   5.04909762   8.95668348\n",
            "   -3.68725317]\n",
            " [  0.31458133 -10.04859137  -3.79562399   3.12982866   3.32400546\n",
            "   -8.01108492]\n",
            " ...\n",
            " [  6.00364539 -11.32761705 -16.52689308  16.86633062  -2.95362385\n",
            "  -19.80659164]\n",
            " [ 17.67231193 -12.25099797  -0.31651347   9.68521183   7.33422247\n",
            "  -21.15267584]\n",
            " [ 19.9334755  -11.34265919   5.93957943   7.72923697  10.65472473\n",
            "  -19.70725139]]\n",
            "X_2: \n",
            " [[  5.73715072   5.84268952  -4.43061711 ...   3.98214859   0.54815737\n",
            "    6.39365383]\n",
            " [  0.04721308  -3.14151053  -0.48272673 ...   6.28258779   2.97566848\n",
            "    4.15987919]\n",
            " [ -1.85829937  -5.81940557   3.56523105 ...   9.09595725   5.93097486\n",
            "    3.19470539]\n",
            " ...\n",
            " [-20.23463883  -8.48863244  20.36695409 ...   3.65092964   0.17122398\n",
            "  -10.59615984]\n",
            " [ -7.63365619  16.41188248   8.45292094 ...  -6.91939262  -6.84942802\n",
            "    0.47143943]\n",
            " [ -5.6223215   19.81809697   2.17732679 ... -11.9699843  -11.21611344\n",
            "    1.72260732]]\n",
            "Shape of combined dataset:  (2000, 14)\n"
          ],
          "name": "stdout"
        }
      ]
    },
    {
      "cell_type": "markdown",
      "metadata": {
        "id": "PfJytRcsSQx0",
        "colab_type": "text"
      },
      "source": [
        "### **Bayesian CCA estimation step 2: Estimation**\n",
        "- Basically, the implementation steps follow previous Mini Pyro guidance here: \n",
        "  - https://github.com/MengyaoHuang/Pyro-Study/blob/master/Mini_Pyro.ipynb\n"
      ]
    },
    {
      "cell_type": "code",
      "metadata": {
        "id": "n7Rn20jZOz_F",
        "colab_type": "code",
        "colab": {}
      },
      "source": [
        "import torch\n",
        "import pyro\n",
        "\n",
        "# We use the pyro.generic interface to support dynamic choice of backend.\n",
        "from pyro.generic import pyro_backend\n",
        "from pyro.generic import distributions as dist\n",
        "from pyro.generic import infer, optim, pyro\n",
        "\n",
        "import pyro.distributions as dist\n",
        "from pyro.infer import SVI, Trace_ELBO\n",
        "# arguments used to instantiate PyTorch optimizers for all the parameters\n",
        "from pyro.optim import Adam\n",
        "# Prediction\n",
        "from pyro.infer import Predictive"
      ],
      "execution_count": 0,
      "outputs": []
    },
    {
      "cell_type": "code",
      "metadata": {
        "id": "glBj0YZCCTKn",
        "colab_type": "code",
        "outputId": "9e51a788-96b6-4286-a5af-33a081235c22",
        "colab": {
          "base_uri": "https://localhost:8080/",
          "height": 34
        }
      },
      "source": [
        "K = 10 # no. of latent dimensions prior(actual K is unknown in model)\n",
        "D = [6, 8] # no. of columns, for two datasets\n",
        "data = torch.tensor(data)\n",
        "data = data.transpose_(0, 1)\n",
        "N = data.shape[1] # no. of observations\n",
        "print(N)"
      ],
      "execution_count": 18,
      "outputs": [
        {
          "output_type": "stream",
          "text": [
            "2000\n"
          ],
          "name": "stdout"
        }
      ]
    },
    {
      "cell_type": "code",
      "metadata": {
        "id": "aHf7O0wB83hF",
        "colab_type": "code",
        "colab": {}
      },
      "source": [
        "# performed some good Pyro hygiene\n",
        "pyro.enable_validation(True)\n",
        "pyro.clear_param_store()"
      ],
      "execution_count": 0,
      "outputs": []
    },
    {
      "cell_type": "code",
      "metadata": {
        "id": "pi6OnAQTMVAq",
        "colab_type": "code",
        "colab": {}
      },
      "source": [
        "# Model here for BCCA representation\n",
        "def model(data):\n",
        "  # ARD prior\n",
        "  tau = pyro.sample('tau', dist.Gamma(torch.tensor(0.1), torch.tensor(0.1)).expand([K, 2]).independent(2))  # batch_shape == 10\n",
        "  sig = pyro.sample('sig', dist.Gamma(torch.tensor(0.1), torch.tensor(0.1)).expand([2]).independent(1)) # event_shape == 2/batch_shape == 0\n",
        "  # R-command: to_vector(matrix m): convert the matrix m to a column vector in column-major order\n",
        "  # The new variable z is declared as a matrix, the entries of which are given independent standard normal priors; \n",
        "  # the to_vector operation turns the matrix into a vector so that \n",
        "  # it can be used as a vectorized argument to the univariate normal density. \n",
        "\n",
        "  # Z = pyro.sample(\"Z\", dist.Normal(0, 1).expand([N, K]).independent(1))\n",
        "  Z = pyro.sample(\"Z\", dist.Normal(0.0, 1.0).expand([K, N]).independent(2))  # batch_shape == (K, N)\n",
        "\n",
        "  # https://mc-stan.org/docs/2_18/functions-reference/linear-algebra-functions-and-solvers.html\n",
        "  # R-command: the function inv(m) is the elementwise inverse function, which returns 1 / m[i, j] for each element\n",
        "  W1 = pyro.sample(\"W1\", dist.Normal(torch.tensor(0.0), tau[:, 0].sqrt().reciprocal()).expand_by([D[0]]).independent(2))\n",
        "  W2 = pyro.sample(\"W2\", dist.Normal(torch.tensor(0.0), tau[:, 1].sqrt().reciprocal()).expand_by([D[1]]).independent(2))\n",
        "\n",
        "  # obs\n",
        "  # when call pyro.sample, SVI will use the replay effect-handler to replace the value sampled at a particular sample site in your model with the one from the guide. \n",
        "  # when you run this forward you can get your p(x, z) term (with z sampled from the guide) and running the guide itself gives you the q(z) term.\n",
        "  # generate each dataset \n",
        "  pyro.sample(\"dataset_1\", dist.Normal(torch.mm(W1, Z), sig[0]).independent(2), obs=data[:D[0], :])\n",
        "  pyro.sample(\"dataset_2\", dist.Normal(torch.mm(W2, Z), sig[1]).independent(2), obs=data[D[0]:, :])"
      ],
      "execution_count": 0,
      "outputs": []
    },
    {
      "cell_type": "markdown",
      "metadata": {
        "id": "9jH8v5dEsMMZ",
        "colab_type": "text"
      },
      "source": [
        "#### **Estimation of AutoContinuous uses a Normal distribution**"
      ]
    },
    {
      "cell_type": "code",
      "metadata": {
        "id": "erreMApde9bf",
        "colab_type": "code",
        "outputId": "9b75ee4d-2ab4-4866-be32-52ffdebdc667",
        "colab": {
          "base_uri": "https://localhost:8080/",
          "height": 598
        }
      },
      "source": [
        "# An example using AutoDiagonalNormal as guide function\n",
        "# https://jeffpollock9.github.io/variational-inference-in-pyro/\n",
        "import torch\n",
        "import pyro\n",
        "import pyro.optim\n",
        "import pyro.infer\n",
        "import pyro.distributions as dist\n",
        "import pyro.contrib.autoguide as autoguide\n",
        "import numpy as np\n",
        "import time as tm\n",
        "\n",
        "# This implementation of AutoContinuous uses a Normal distribution \n",
        "# with a diagonal covariance matrix to construct a guide over the entire latent space. \n",
        "guide = autoguide.AutoDiagonalNormal(model)\n",
        "optimiser = pyro.optim.Adam({\"lr\": 2e-1})\n",
        "loss = pyro.infer.JitTraceGraph_ELBO()\n",
        "svi = pyro.infer.SVI(model, guide, optimiser, loss)\n",
        "\n",
        "NUM_STEPS = 45000\n",
        "losses = np.empty(NUM_STEPS)\n",
        "\n",
        "pyro.clear_param_store()\n",
        "start = tm.time()\n",
        "for step in range(NUM_STEPS):\n",
        "    losses[step] = svi.step(data)\n",
        "    if step % 2000 == 0:\n",
        "        print(f\"step: {step:>5}, ELBO loss: {losses[step]:.2f}\")\n",
        "\n",
        "print(f\"\\nfinished in {tm.time() - start:.2f} seconds\")"
      ],
      "execution_count": 34,
      "outputs": [
        {
          "output_type": "stream",
          "text": [
            "/usr/local/lib/python3.6/dist-packages/ipykernel_launcher.py:3: TracerWarning: torch.tensor results are registered as constants in the trace. You can safely ignore this warning if you use this function to create tensors out of constant variables that would be the same every time you call this function. In any other case, this might cause the trace to be incorrect.\n",
            "  This is separate from the ipykernel package so we can avoid doing imports until\n",
            "/usr/local/lib/python3.6/dist-packages/ipykernel_launcher.py:4: TracerWarning: torch.tensor results are registered as constants in the trace. You can safely ignore this warning if you use this function to create tensors out of constant variables that would be the same every time you call this function. In any other case, this might cause the trace to be incorrect.\n",
            "  after removing the cwd from sys.path.\n",
            "/usr/local/lib/python3.6/dist-packages/ipykernel_launcher.py:15: TracerWarning: torch.tensor results are registered as constants in the trace. You can safely ignore this warning if you use this function to create tensors out of constant variables that would be the same every time you call this function. In any other case, this might cause the trace to be incorrect.\n",
            "  from ipykernel import kernelapp as app\n",
            "/usr/local/lib/python3.6/dist-packages/ipykernel_launcher.py:16: TracerWarning: torch.tensor results are registered as constants in the trace. You can safely ignore this warning if you use this function to create tensors out of constant variables that would be the same every time you call this function. In any other case, this might cause the trace to be incorrect.\n",
            "  app.launch_new_instance()\n"
          ],
          "name": "stderr"
        },
        {
          "output_type": "stream",
          "text": [
            "step:     0, ELBO loss: -113231142912.00\n",
            "step:  2000, ELBO loss: -854343.44\n",
            "step:  4000, ELBO loss: -401112.94\n",
            "step:  6000, ELBO loss: -297684.06\n",
            "step:  8000, ELBO loss: -226544.91\n",
            "step: 10000, ELBO loss: -195872.92\n",
            "step: 12000, ELBO loss: -133540.62\n",
            "step: 14000, ELBO loss: -111164.62\n",
            "step: 16000, ELBO loss: -100846.35\n",
            "step: 18000, ELBO loss: -99819.58\n",
            "step: 20000, ELBO loss: -103195.28\n",
            "step: 22000, ELBO loss: -108427.05\n",
            "step: 24000, ELBO loss: -111649.55\n",
            "step: 26000, ELBO loss: -113638.15\n",
            "step: 28000, ELBO loss: -113990.23\n",
            "step: 30000, ELBO loss: -114200.92\n",
            "step: 32000, ELBO loss: -114236.81\n",
            "step: 34000, ELBO loss: -114422.28\n",
            "step: 36000, ELBO loss: -114512.86\n",
            "step: 38000, ELBO loss: -114675.45\n",
            "step: 40000, ELBO loss: -113894.73\n",
            "step: 42000, ELBO loss: -113997.50\n",
            "step: 44000, ELBO loss: -114738.22\n",
            "\n",
            "finished in 229.71 seconds\n"
          ],
          "name": "stdout"
        }
      ]
    },
    {
      "cell_type": "code",
      "metadata": {
        "id": "wYVUpV_Jgst2",
        "colab_type": "code",
        "outputId": "ef652780-31b2-4b5e-9123-148cbeb581fc",
        "colab": {
          "base_uri": "https://localhost:8080/",
          "height": 296
        }
      },
      "source": [
        "import matplotlib.pyplot as plt\n",
        "\n",
        "plt.plot(losses[5000:])\n",
        "plt.xlabel(\"step\")\n",
        "plt.ylabel(\"ELBO loss\")"
      ],
      "execution_count": 35,
      "outputs": [
        {
          "output_type": "execute_result",
          "data": {
            "text/plain": [
              "Text(0, 0.5, 'ELBO loss')"
            ]
          },
          "metadata": {
            "tags": []
          },
          "execution_count": 35
        },
        {
          "output_type": "display_data",
          "data": {
            "image/png": "[encoded data removed]",
            "text/plain": [
              "<Figure size 432x288 with 1 Axes>"
            ]
          },
          "metadata": {
            "tags": []
          }
        }
      ]
    },
    {
      "cell_type": "code",
      "metadata": {
        "id": "MTsfu-2QgsrL",
        "colab_type": "code",
        "outputId": "6ff26ad9-cd65-451e-88fc-d7650eb77f40",
        "colab": {
          "base_uri": "https://localhost:8080/",
          "height": 296
        }
      },
      "source": [
        "plt.plot(losses[-1000:])\n",
        "plt.xlabel(\"step\")\n",
        "plt.ylabel(\"ELBO loss\")"
      ],
      "execution_count": 36,
      "outputs": [
        {
          "output_type": "execute_result",
          "data": {
            "text/plain": [
              "Text(0, 0.5, 'ELBO loss')"
            ]
          },
          "metadata": {
            "tags": []
          },
          "execution_count": 36
        },
        {
          "output_type": "display_data",
          "data": {
            "image/png": "[encoded data removed]",
            "text/plain": [
              "<Figure size 432x288 with 1 Axes>"
            ]
          },
          "metadata": {
            "tags": []
          }
        }
      ]
    },
    {
      "cell_type": "code",
      "metadata": {
        "id": "26VGWEHAgsbF",
        "colab_type": "code",
        "outputId": "ceb7c160-05e9-4ed5-cc9f-fa4942547f57",
        "colab": {
          "base_uri": "https://localhost:8080/",
          "height": 170
        }
      },
      "source": [
        "for key, value in pyro.get_param_store().items():    \n",
        "    print(f\"{key}:\\n{value}\\n\")"
      ],
      "execution_count": 37,
      "outputs": [
        {
          "output_type": "stream",
          "text": [
            "AutoDiagonalNormal.loc:\n",
            "Parameter containing:\n",
            "tensor([-3.3582, -2.4579,  4.0136,  ...,  0.0193, -1.5875, -0.0677],\n",
            "       requires_grad=True)\n",
            "\n",
            "AutoDiagonalNormal.scale:\n",
            "tensor([0.4585, 0.3853, 0.6131,  ..., 0.0104, 0.0066, 0.0123],\n",
            "       grad_fn=<AddBackward0>)\n",
            "\n"
          ],
          "name": "stdout"
        }
      ]
    },
    {
      "cell_type": "code",
      "metadata": {
        "id": "w1055OjLgsGA",
        "colab_type": "code",
        "outputId": "86898742-93e9-4b82-d6fb-e4ebef03b775",
        "colab": {
          "base_uri": "https://localhost:8080/",
          "height": 309
        }
      },
      "source": [
        "\"\"\"\n",
        "Be Careful running this - unless needed\n",
        "\"\"\"\n",
        "ELBO_SAMPLES = 100\n",
        "NUM_STEPS = 300\n",
        "# set more elbo samples at once\n",
        "guide = autoguide.AutoDiagonalNormal(model)\n",
        "optimiser = pyro.optim.Adam({\"lr\": 1e-1})\n",
        "loss = pyro.infer.JitTraceGraph_ELBO(ELBO_SAMPLES)\n",
        "svi = pyro.infer.SVI(model, guide, optimiser, loss)\n",
        "\n",
        "losses2 = np.empty(NUM_STEPS)\n",
        "pyro.clear_param_store()\n",
        "start = tm.time()\n",
        "for step in range(NUM_STEPS):\n",
        "    losses2[step] = svi.step(data)\n",
        "    if step % 50 == 0:\n",
        "        print(f\"step: {step:>5}, ELBO loss: {losses[step]:.2f}\")\n",
        "print(f\"\\nfinished in {tm.time() - start:.2f} seconds\")"
      ],
      "execution_count": 0,
      "outputs": [
        {
          "output_type": "stream",
          "text": [
            "/usr/local/lib/python3.6/dist-packages/ipykernel_launcher.py:3: TracerWarning: torch.tensor results are registered as constants in the trace. You can safely ignore this warning if you use this function to create tensors out of constant variables that would be the same every time you call this function. In any other case, this might cause the trace to be incorrect.\n",
            "  This is separate from the ipykernel package so we can avoid doing imports until\n",
            "/usr/local/lib/python3.6/dist-packages/ipykernel_launcher.py:4: TracerWarning: torch.tensor results are registered as constants in the trace. You can safely ignore this warning if you use this function to create tensors out of constant variables that would be the same every time you call this function. In any other case, this might cause the trace to be incorrect.\n",
            "  after removing the cwd from sys.path.\n",
            "/usr/local/lib/python3.6/dist-packages/ipykernel_launcher.py:15: TracerWarning: torch.tensor results are registered as constants in the trace. You can safely ignore this warning if you use this function to create tensors out of constant variables that would be the same every time you call this function. In any other case, this might cause the trace to be incorrect.\n",
            "  from ipykernel import kernelapp as app\n",
            "/usr/local/lib/python3.6/dist-packages/ipykernel_launcher.py:16: TracerWarning: torch.tensor results are registered as constants in the trace. You can safely ignore this warning if you use this function to create tensors out of constant variables that would be the same every time you call this function. In any other case, this might cause the trace to be incorrect.\n",
            "  app.launch_new_instance()\n"
          ],
          "name": "stderr"
        },
        {
          "output_type": "stream",
          "text": [
            "step:     0, ELBO loss: -8925713793024.00\n",
            "step:    50, ELBO loss: -17440139264.00\n",
            "step:   100, ELBO loss: -11420284928.00\n",
            "step:   150, ELBO loss: -4554721792.00\n",
            "step:   200, ELBO loss: -3591931136.00\n",
            "step:   250, ELBO loss: -3198023168.00\n",
            "\n",
            "finished in 170.85 seconds\n"
          ],
          "name": "stdout"
        }
      ]
    },
    {
      "cell_type": "code",
      "metadata": {
        "id": "usYBoOFsi2lr",
        "colab_type": "code",
        "colab": {}
      },
      "source": [
        "samples_dic = Predictive(model, guide=guide, num_samples=1000)(data)\n",
        "Z_hat = samples_dic['Z'].mean(0) \n",
        "tau_hat = samples_dic['tau'].mean(0)\n",
        "sig_hat = samples_dic['sig'].mean(0) \n",
        "W1_hat = samples_dic['W1'].mean(0)\n",
        "W2_hat = samples_dic['W2'].mean(0)"
      ],
      "execution_count": 0,
      "outputs": []
    },
    {
      "cell_type": "code",
      "metadata": {
        "id": "TakXbh0gi2XC",
        "colab_type": "code",
        "outputId": "93a80b3d-8548-4d91-8647-9e2295803f8b",
        "colab": {
          "base_uri": "https://localhost:8080/",
          "height": 306
        }
      },
      "source": [
        "# error\n",
        "# reconstruct datasets\n",
        "X_1_hat = torch.mm(W1_hat, Z_hat) # D[0]*N\n",
        "X_2_hat = torch.mm(W2_hat, Z_hat) # D[1]*N\n",
        "print(\"Reconstruction loss on shared components - MSE\")\n",
        "X_1_shared_loss = np.mean((np.transpose(np.matmul(A_1, Z_shared)) - np.transpose(X_1_hat.detach().numpy()))**2)\n",
        "print(\"X_1_shared_loss: \", X_1_shared_loss)\n",
        "X_2_shared_loss = np.mean((np.transpose(np.matmul(A_2, Z_shared)) - np.transpose(X_2_hat.detach().numpy()))**2)\n",
        "print(\"X_2_shared_loss: \", X_2_shared_loss)\n",
        "print(\"Automatic relevance detection (ARD) \")\n",
        "print(\"Large tau == irrelevant latent component for dataset\")\n",
        "print(\"Sections 4.1, 4.2\")\n",
        "print(tau_hat)\n",
        "print(sig_hat)"
      ],
      "execution_count": 39,
      "outputs": [
        {
          "output_type": "stream",
          "text": [
            "Reconstruction loss on shared components - MSE\n",
            "X_1_shared_loss:  2.99741229336143\n",
            "X_2_shared_loss:  0.9158716873293914\n",
            "Automatic relevance detection (ARD) \n",
            "Large tau == irrelevant latent component for dataset\n",
            "Sections 4.1, 4.2\n",
            "tensor([[3.7717e-02, 9.2759e-02],\n",
            "        [6.9364e+01, 2.3951e+00],\n",
            "        [1.9338e-01, 1.5397e-01],\n",
            "        [5.8513e+01, 6.2671e+01],\n",
            "        [6.3812e+01, 5.9711e+01],\n",
            "        [2.5254e+01, 4.8920e+00],\n",
            "        [1.2476e+00, 1.0258e+01],\n",
            "        [4.8217e+01, 5.8378e+01],\n",
            "        [1.5342e+00, 3.9128e-01],\n",
            "        [4.8729e+00, 3.2349e+01]], grad_fn=<MeanBackward1>)\n",
            "tensor([0.5480, 0.4926], grad_fn=<MeanBackward1>)\n"
          ],
          "name": "stdout"
        }
      ]
    },
    {
      "cell_type": "markdown",
      "metadata": {
        "id": "MMvnuG8dFkSA",
        "colab_type": "text"
      },
      "source": [
        "#### **Explanation:**\n",
        "- We will be using a process called SVI with ELBO loss to train our model. At a high level, each step in the training process will take one pass through the model and incorporate the observed data. Then, it will go through the model code again, replacing each pyro.sample statement with the corresponding statement from the guide. \n",
        "- It compares the resulting distributions from the model and guide and adjusts the pyro.param values in order to get the guide closer to the model. This way, the guide will in theory follow the model around and get close enough to confidently approximate it."
      ]
    },
    {
      "cell_type": "code",
      "metadata": {
        "id": "ZXzMRkOtkROu",
        "colab_type": "code",
        "outputId": "441b9376-abe0-4deb-ee10-a22b0c0416ad",
        "colab": {
          "base_uri": "https://localhost:8080/",
          "height": 295
        }
      },
      "source": [
        "import matplotlib.pyplot as plt\n",
        "# plot\n",
        "def visual_(input_sample):\n",
        "  # An \"interface\" to matplotlib.axes.Axes.hist() method\n",
        "  n, bins, patches = plt.hist(x=input_sample, bins='auto', color='#0504aa', alpha=0.7, rwidth=0.85)\n",
        "  plt.grid(axis='y', alpha=0.75)\n",
        "  plt.xlabel('Value')\n",
        "  plt.ylabel('Frequency')\n",
        "  plt.title('My Very Own Histogram')\n",
        "  maxfreq = n.max()\n",
        "  # Set a clean upper y-axis limit.\n",
        "  plt.ylim(ymax=np.ceil(maxfreq / 10) * 10 if maxfreq % 10 else maxfreq + 10)\n",
        "\n",
        "# First some visualization for different kinds of distributions\n",
        "# HalfNormal distribution\n",
        "sample = pyro.sample(\"sample\", dist.HalfNormal(0.5).expand([20000]))\n",
        "plt.hist(sample.numpy())\n",
        "plt.grid(axis='y', alpha=0.75)\n",
        "plt.xlabel('Value')\n",
        "plt.ylabel('Frequency')\n",
        "plt.title('My Very Own Histogram')\n",
        "plt.show()"
      ],
      "execution_count": 0,
      "outputs": [
        {
          "output_type": "display_data",
          "data": {
            "image/png": "[encoded data removed]",
            "text/plain": [
              "<Figure size 432x288 with 1 Axes>"
            ]
          },
          "metadata": {
            "tags": []
          }
        }
      ]
    },
    {
      "cell_type": "code",
      "metadata": {
        "id": "tMwalnEjmwCR",
        "colab_type": "code",
        "outputId": "cdb7959e-167d-49b5-e562-668a84ef9e35",
        "colab": {
          "base_uri": "https://localhost:8080/",
          "height": 295
        }
      },
      "source": [
        "# Gamma distribution\n",
        "sample2 = pyro.sample(\"sample2\", dist.Gamma(5., 10.).expand([20000]))\n",
        "plt.hist(sample2.numpy())\n",
        "plt.grid(axis='y', alpha=0.75)\n",
        "plt.xlabel('Value')\n",
        "plt.ylabel('Frequency')\n",
        "plt.title('My Very Own Histogram')\n",
        "plt.show()"
      ],
      "execution_count": 0,
      "outputs": [
        {
          "output_type": "display_data",
          "data": {
            "image/png": "[encoded data removed]",
            "text/plain": [
              "<Figure size 432x288 with 1 Axes>"
            ]
          },
          "metadata": {
            "tags": []
          }
        }
      ]
    },
    {
      "cell_type": "code",
      "metadata": {
        "id": "loi58JTlmwAE",
        "colab_type": "code",
        "outputId": "0134a289-4b1f-4536-ff3a-41b292db81a2",
        "colab": {
          "base_uri": "https://localhost:8080/",
          "height": 295
        }
      },
      "source": [
        "# Gamma distribution - defined in the model - alpha == beta == 0.1\n",
        "sample3 = pyro.sample(\"sample3\", dist.Gamma(0.1, 0.1).expand([20000]))\n",
        "plt.hist(sample3.numpy())\n",
        "plt.grid(axis='y', alpha=0.75)\n",
        "plt.xlabel('Value')\n",
        "plt.ylabel('Frequency')\n",
        "plt.title('My Very Own Histogram')\n",
        "plt.show()"
      ],
      "execution_count": 0,
      "outputs": [
        {
          "output_type": "display_data",
          "data": {
            "image/png": "[encoded data removed]",
            "text/plain": [
              "<Figure size 432x288 with 1 Axes>"
            ]
          },
          "metadata": {
            "tags": []
          }
        }
      ]
    },
    {
      "cell_type": "code",
      "metadata": {
        "id": "kpFU5ehwt4po",
        "colab_type": "code",
        "outputId": "8ff4f923-1ac8-4553-8788-aecdeb6615af",
        "colab": {
          "base_uri": "https://localhost:8080/",
          "height": 295
        }
      },
      "source": [
        "# sub samples visualization in model\n",
        "sub_sample3 = [i for i in sample3.numpy().tolist() if i < 0.001]\n",
        "plt.hist(sub_sample3)\n",
        "plt.grid(axis='y', alpha=0.75)\n",
        "plt.xlabel('Value')\n",
        "plt.ylabel('Frequency')\n",
        "plt.title('My Very Own Histogram')\n",
        "plt.show()"
      ],
      "execution_count": 0,
      "outputs": [
        {
          "output_type": "display_data",
          "data": {
            "image/png": "[encoded data removed]",
            "text/plain": [
              "<Figure size 432x288 with 1 Axes>"
            ]
          },
          "metadata": {
            "tags": []
          }
        }
      ]
    },
    {
      "cell_type": "code",
      "metadata": {
        "id": "2_KLP_zEt4bD",
        "colab_type": "code",
        "outputId": "e013f5c0-4014-4d81-adee-2ed9e1cc7bfa",
        "colab": {
          "base_uri": "https://localhost:8080/",
          "height": 295
        }
      },
      "source": [
        "# Beta distribution\n",
        "sample4 = pyro.sample(\"sample4\", dist.Beta(0.05, 1.).expand([20000]))\n",
        "plt.hist(sample4.numpy())\n",
        "plt.grid(axis='y', alpha=0.75)\n",
        "plt.xlabel('Value')\n",
        "plt.ylabel('Frequency')\n",
        "plt.title('My Very Own Histogram')\n",
        "plt.show()"
      ],
      "execution_count": 0,
      "outputs": [
        {
          "output_type": "display_data",
          "data": {
            "image/png": "[encoded data removed]",
            "text/plain": [
              "<Figure size 432x288 with 1 Axes>"
            ]
          },
          "metadata": {
            "tags": []
          }
        }
      ]
    },
    {
      "cell_type": "code",
      "metadata": {
        "id": "jGjD7YIyt4F1",
        "colab_type": "code",
        "outputId": "59b2c9a3-e724-4d36-cbb2-9e7fc2791a3b",
        "colab": {
          "base_uri": "https://localhost:8080/",
          "height": 295
        }
      },
      "source": [
        "sub_sample4 = [i for i in sample4.numpy().tolist() if i < 0.001]\n",
        "plt.hist(sub_sample4)\n",
        "plt.grid(axis='y', alpha=0.75)\n",
        "plt.xlabel('Value')\n",
        "plt.ylabel('Frequency')\n",
        "plt.title('My Very Own Histogram')\n",
        "plt.show()"
      ],
      "execution_count": 0,
      "outputs": [
        {
          "output_type": "display_data",
          "data": {
            "image/png": "[encoded data removed]",
            "text/plain": [
              "<Figure size 432x288 with 1 Axes>"
            ]
          },
          "metadata": {
            "tags": []
          }
        }
      ]
    },
    {
      "cell_type": "code",
      "metadata": {
        "id": "xWpNQFJEbR7I",
        "colab_type": "code",
        "outputId": "5147ceb9-25d3-4e31-d848-12af9982d2cc",
        "colab": {
          "base_uri": "https://localhost:8080/",
          "height": 295
        }
      },
      "source": [
        "# Normal distribution\n",
        "sample5 = pyro.sample(\"sample5\", dist.LogNormal(-0.01, 0.5).expand([20000]))\n",
        "plt.hist(sample5.numpy())\n",
        "plt.grid(axis='y', alpha=0.75)\n",
        "plt.xlabel('Value')\n",
        "plt.ylabel('Frequency')\n",
        "plt.title('My Very Own Histogram')\n",
        "plt.show()"
      ],
      "execution_count": 0,
      "outputs": [
        {
          "output_type": "display_data",
          "data": {
            "image/png": "[encoded data removed]",
            "text/plain": [
              "<Figure size 432x288 with 1 Axes>"
            ]
          },
          "metadata": {
            "tags": []
          }
        }
      ]
    },
    {
      "cell_type": "code",
      "metadata": {
        "id": "sflX4H93UAP_",
        "colab_type": "code",
        "colab": {}
      },
      "source": [
        "# AutoDiagonalNormal: use the mean-field Gaussian variational family to approximate the posterior. \n",
        "# http://docs.pyro.ai/en/0.3.0-release/contrib.autoguide.html?highlight=AutoDiagonalNormal#autodiagonalnormal\n",
        "# This implementation of AutoContinuous uses a Normal distribution with \n",
        "# a diagonal covariance matrix to construct a guide over the entire latent space. \n",
        "# The guide does not depend on the model’s *args, **kwargs.\n",
        "\n",
        "# By default the mean vector is initialized to zero and the scale is initialized to the identity. \n",
        "# To change this default behavior the user should call pyro.param() before beginning inference, e.g.:\n",
        "\"\"\"\n",
        "latent_dim = 10\n",
        "pyro.param(\"auto_loc\", torch.randn(latent_dim))\n",
        "pyro.param(\"auto_scale\", torch.ones(latent_dim), constraint=constraints.positive)\n",
        "\"\"\""
      ],
      "execution_count": 0,
      "outputs": []
    },
    {
      "cell_type": "markdown",
      "metadata": {
        "id": "cHy-JFKRiWjj",
        "colab_type": "text"
      },
      "source": [
        "#### **Estimation of self-specified guide function**"
      ]
    },
    {
      "cell_type": "code",
      "metadata": {
        "id": "vvgN5-6VGYfh",
        "colab_type": "code",
        "outputId": "ad9a4c28-2d58-43e9-a616-892e1fb2bed5",
        "colab": {
          "base_uri": "https://localhost:8080/",
          "height": 51
        }
      },
      "source": [
        "# self-defined distributions sample\n",
        "from pyro.distributions import Uniform\n",
        "from pyro.distributions.torch import TransformedDistribution\n",
        "from pyro.distributions.transforms import SigmoidTransform, AffineTransform, AbsTransform\n",
        "\n",
        "# But AbsTransform still has problems with log_prob calculation\n",
        "def Logistic(a,b):\n",
        "    return TransformedDistribution(Uniform(0, 1), [SigmoidTransform().inv])\n",
        "Logistic_sample = pyro.sample('Logistic_sample', Logistic(torch.ones(1), torch.ones(1)))\n",
        "print(Logistic_sample)\n",
        "\n",
        "def abs_normal(a,b):\n",
        "   return TransformedDistribution(Normal(a,b), [AbsTransform()])\n",
        "abs_normal_test = pyro.sample('abs_normal_test', abs_normal(torch.ones(1), torch.ones(1)))\n",
        "abs_normal_test"
      ],
      "execution_count": 40,
      "outputs": [
        {
          "output_type": "stream",
          "text": [
            "tensor(4.5757)\n"
          ],
          "name": "stdout"
        },
        {
          "output_type": "execute_result",
          "data": {
            "text/plain": [
              "tensor([2.6318])"
            ]
          },
          "metadata": {
            "tags": []
          },
          "execution_count": 40
        }
      ]
    },
    {
      "cell_type": "code",
      "metadata": {
        "id": "31HDiP-pqTBz",
        "colab_type": "code",
        "colab": {}
      },
      "source": [
        "# performed some good Pyro hygiene\n",
        "pyro.enable_validation(True)\n",
        "pyro.clear_param_store()"
      ],
      "execution_count": 0,
      "outputs": []
    },
    {
      "cell_type": "code",
      "metadata": {
        "id": "K27QZwq6Oqrm",
        "colab_type": "code",
        "colab": {}
      },
      "source": [
        "# Guide here for generating samples through updated parameters\n",
        "# Every pyro.sample statement without the obs keyword that appears in the model must have a corresponding pyro.sample statement with the same name in the guide\n",
        "# Note: the sample statements in the model and guide are not required to use the same distribution, but they often do\n",
        "def guide(data):\n",
        "\n",
        "  # parameters contained: (tau, sig, Z, W)\n",
        "  # register variational parameters with Pyro.\n",
        "  # Constraints ensure facts always remain true during optimization\n",
        "  interval_range = constraints.interval(-3.0, 3.0)\n",
        "  valid_range = constraints.greater_than(0.0)\n",
        "\n",
        "  # positive Gamma distribution parameters\n",
        "  # torch.distributions.constraints.positive\n",
        "  tau_alpha = pyro.param(\"tau_alpha\", torch.tensor(3.)) # positive\n",
        "  tau_beta = pyro.param(\"tau_beta\", torch.tensor(1.), constraint=valid_range) # positive\n",
        "  tau_q = pyro.sample('tau', dist.LogNormal(tau_alpha, tau_beta).expand([K, 2]).independent(2))\n",
        "\n",
        "  # real/positive Cauchy distribution location/scale parameters\n",
        "  sig_location = pyro.param(\"sig_location\", torch.tensor(3.)) # positive\n",
        "  sig_scale = pyro.param(\"sig_scale\", torch.tensor(1.), constraint=valid_range) # positive \n",
        "  pyro.sample('sig', dist.LogNormal(sig_location, sig_scale).expand([2]).independent(1))\n",
        "\n",
        "  Z_mean = pyro.param(\"Z_mean\", torch.tensor(0.0))\n",
        "  Z_var = pyro.param(\"Z_var\", torch.tensor(1.0), constraint=valid_range) # positive\n",
        "  pyro.sample(\"Z\", dist.Normal(Z_mean, Z_var).expand([K, N]).independent(2)) # batch_shape == (K, N)\n",
        "\n",
        "  W1_mean = pyro.param(\"W1_mean\", torch.tensor(0.0))\n",
        "  W2_mean = pyro.param(\"W2_mean\", torch.tensor(0.0))\n",
        "  pyro.sample(\"W1\", dist.Normal(W1_mean, tau_q[:, 0].sqrt().reciprocal()).expand_by([D[0]]).independent(2)) # D[0]*K\n",
        "  pyro.sample(\"W2\", dist.Normal(W2_mean, tau_q[:, 1].sqrt().reciprocal()).expand_by([D[1]]).independent(2)) # D[1]*K"
      ],
      "execution_count": 0,
      "outputs": []
    },
    {
      "cell_type": "code",
      "metadata": {
        "id": "rLV2N4XK0YS-",
        "colab_type": "code",
        "colab": {}
      },
      "source": [
        "# relax and allow for more parameters\n",
        "def guide_flexible(data):\n",
        "  valid_range = constraints.greater_than(0.0)\n",
        "  tau_alpha = pyro.param(\"tau_alpha\", torch.tensor(0.).expand([K, 2])) # positive\n",
        "  tau_beta = pyro.param(\"tau_beta\", torch.tensor(1.).expand([K, 2]), constraint=valid_range) # positive\n",
        "  tau_q = pyro.sample('tau', dist.LogNormal(tau_alpha, tau_beta).independent(2))\n",
        "\n",
        "  # real/positive Cauchy distribution location/scale parameters\n",
        "  sig_location = pyro.param(\"sig_location\", torch.tensor(0.).expand([2])) # positive\n",
        "  sig_scale = pyro.param(\"sig_scale\", torch.tensor(1.).expand([2]), constraint=valid_range) # positive \n",
        "  pyro.sample('sig', dist.LogNormal(sig_location, sig_scale).independent(1))\n",
        "\n",
        "  Z_mean = pyro.param(\"Z_mean\", torch.tensor(0.0).expand([K, N]))\n",
        "  Z_var = pyro.param(\"Z_var\", torch.tensor(1.0).expand([K, N]), constraint=valid_range) # positive\n",
        "  pyro.sample(\"Z\", dist.Normal(Z_mean, Z_var).independent(2)) # batch_shape == (K, N)\n",
        "\n",
        "  W1_mean = pyro.param(\"W1_mean\", torch.tensor(0.0).expand([D[0], K]))\n",
        "  W2_mean = pyro.param(\"W2_mean\", torch.tensor(0.0).expand([D[1], K]))\n",
        "  pyro.sample(\"W1\", dist.Normal(W1_mean, tau_q[:, 0].sqrt().reciprocal()).independent(2)) # D[0]*K\n",
        "  pyro.sample(\"W2\", dist.Normal(W2_mean, tau_q[:, 1].sqrt().reciprocal()).independent(2)) # D[1]*K"
      ],
      "execution_count": 0,
      "outputs": []
    },
    {
      "cell_type": "code",
      "metadata": {
        "id": "VK96DjVuBbk_",
        "colab_type": "code",
        "outputId": "636fac92-2e4f-4664-bfe1-12277d422d4c",
        "colab": {
          "base_uri": "https://localhost:8080/",
          "height": 343
        }
      },
      "source": [
        "# Training using self-specified guide function\n",
        "# Replay Passenger replace the sample sites value but fun for log_prob calculation still follows separately\n",
        "# It achieves A distribution estimating B distribution\n",
        "# setup the optimizer\n",
        "\n",
        "# Adam Beta tuning parameters: \n",
        "# https://towardsdatascience.com/adam-latest-trends-in-deep-learning-optimization-6be9a291375c\n",
        "\n",
        "n_steps = 15000\n",
        "adam_params = {\"lr\":1e-2, \"betas\": (0.9, 0.999)}\n",
        "optimizer = Adam(adam_params)\n",
        "# setup the inference algorithm\n",
        "svi = SVI(model, guide_flexible, optimizer, loss=Trace_ELBO())\n",
        "\n",
        "data = torch.tensor(data)\n",
        "for step_ in range(n_steps+1):\n",
        "  loss = svi.step(data)\n",
        "  # calculate the loss and take a gradient step\n",
        "  if step_ % 1000 == 0:\n",
        "    # print(pyro.param(\"tau_alpha\"))\n",
        "    # print(pyro.param(\"tau_beta\"))\n",
        "    # print(pyro.param(\"sig_location\"))\n",
        "    # print(pyro.param(\"sig_scale\"))\n",
        "    # print(pyro.param(\"Z_var\"))\n",
        "    print(\"[iteration %04d] loss: %.4f\" % (step_ + 1, loss))"
      ],
      "execution_count": 46,
      "outputs": [
        {
          "output_type": "stream",
          "text": [
            "/usr/local/lib/python3.6/dist-packages/ipykernel_launcher.py:8: UserWarning: To copy construct from a tensor, it is recommended to use sourceTensor.clone().detach() or sourceTensor.clone().detach().requires_grad_(True), rather than torch.tensor(sourceTensor).\n",
            "  \n"
          ],
          "name": "stderr"
        },
        {
          "output_type": "stream",
          "text": [
            "[iteration 0001] loss: 4783668.6533\n",
            "[iteration 1001] loss: 161239.5113\n",
            "[iteration 2001] loss: 95185.8309\n",
            "[iteration 3001] loss: 90128.1617\n",
            "[iteration 4001] loss: 84947.5202\n",
            "[iteration 5001] loss: 82391.3975\n",
            "[iteration 6001] loss: 75854.9607\n",
            "[iteration 7001] loss: 73105.9576\n",
            "[iteration 8001] loss: 68862.3710\n",
            "[iteration 9001] loss: 72648.7790\n",
            "[iteration 10001] loss: 66706.2228\n",
            "[iteration 11001] loss: 65755.3593\n",
            "[iteration 12001] loss: 66159.2829\n",
            "[iteration 13001] loss: 65261.6117\n",
            "[iteration 14001] loss: 65379.4244\n",
            "[iteration 15001] loss: 65391.1529\n"
          ],
          "name": "stdout"
        }
      ]
    },
    {
      "cell_type": "code",
      "metadata": {
        "id": "bDUy_DH9bLNG",
        "colab_type": "code",
        "outputId": "aa2328b8-e547-4e92-df98-1099a985111c",
        "colab": {
          "base_uri": "https://localhost:8080/",
          "height": 1000
        }
      },
      "source": [
        "# see all estimated parameters finally\n",
        "positive_list = [\"tau_beta\", \"sig_scale\", \"Z_var\"]\n",
        "for name, value in pyro.get_param_store().named_parameters():\n",
        "  print(name)\n",
        "  # turn into exp.form in needed\n",
        "  if name in positive_list:\n",
        "    print(value.exp())\n",
        "  else:\n",
        "    print(value)"
      ],
      "execution_count": 47,
      "outputs": [
        {
          "output_type": "stream",
          "text": [
            "tau_alpha\n",
            "tensor([[2.3638, 2.9336],\n",
            "        [5.5133, 5.9087],\n",
            "        [5.4913, 5.8818],\n",
            "        [4.6125, 5.6425],\n",
            "        [5.5140, 5.8254],\n",
            "        [5.1064, 4.9676],\n",
            "        [2.7156, 2.7290],\n",
            "        [2.2870, 2.5729],\n",
            "        [3.4555, 5.4377],\n",
            "        [5.4979, 4.3794]], requires_grad=True)\n",
            "tau_beta\n",
            "tensor([[0.0287, 0.0319],\n",
            "        [0.1996, 0.1334],\n",
            "        [0.1553, 0.1412],\n",
            "        [0.0974, 0.1062],\n",
            "        [0.1569, 0.1277],\n",
            "        [0.1071, 0.0772],\n",
            "        [0.0322, 0.0220],\n",
            "        [0.0292, 0.0160],\n",
            "        [0.0529, 0.1056],\n",
            "        [0.1391, 0.0553]], grad_fn=<ExpBackward>)\n",
            "sig_location\n",
            "tensor([-0.0137, -0.2589], requires_grad=True)\n",
            "sig_scale\n",
            "tensor([0.0729, 0.0450], grad_fn=<ExpBackward>)\n",
            "Z_mean\n",
            "tensor([[ 1.2066,  1.2980,  1.5824,  ...,  0.9344,  0.2733, -0.0341],\n",
            "        [-0.0941, -0.0630, -0.0142,  ...,  0.0959,  0.0469, -0.0853],\n",
            "        [ 0.1553, -0.0193,  0.1892,  ..., -0.1073,  0.0564,  0.0519],\n",
            "        ...,\n",
            "        [-0.4997, -0.0211,  0.2986,  ..., -0.4895, -2.0533, -2.5964],\n",
            "        [-0.0900, -1.7197,  0.5854,  ..., -0.2986,  0.2110, -0.0634],\n",
            "        [ 0.2939,  1.2190, -0.0283,  ...,  0.5529, -1.7583,  0.5724]],\n",
            "       requires_grad=True)\n",
            "Z_var\n",
            "tensor([[0.0680, 0.0669, 0.0696,  ..., 0.0599, 0.0596, 0.0590],\n",
            "        [0.9237, 0.8794, 0.8740,  ..., 1.0680, 1.0060, 1.0350],\n",
            "        [1.0227, 0.9139, 1.1050,  ..., 1.0320, 0.9557, 0.9587],\n",
            "        ...,\n",
            "        [0.0431, 0.0407, 0.0480,  ..., 0.0447, 0.0435, 0.0403],\n",
            "        [0.2480, 0.2515, 0.2680,  ..., 0.2220, 0.2476, 0.2377],\n",
            "        [0.3299, 0.3822, 0.3590,  ..., 0.3776, 0.3452, 0.3542]],\n",
            "       grad_fn=<ExpBackward>)\n",
            "W1_mean\n",
            "tensor([[ 1.6647e+00,  1.4800e-02,  1.8963e-04, -6.4015e-01, -2.6724e-02,\n",
            "         -2.0039e-01,  1.4012e-01, -8.5134e+00, -5.5849e-01, -4.8918e-02],\n",
            "        [-6.5575e+00, -7.7501e-04,  1.3413e-03,  2.4050e-01, -1.0784e-02,\n",
            "          2.5014e-02,  1.1239e+00,  4.6524e+00, -1.5640e+00, -1.3987e-02],\n",
            "        [-2.0844e+00,  6.1986e-04, -1.4095e-02,  7.9187e-02,  4.8879e-04,\n",
            "          1.0965e-01,  5.5793e+00, -2.1236e+00, -1.8987e+00, -8.4078e-03],\n",
            "        [ 4.2309e+00, -1.2359e-03,  2.8537e-02,  6.5345e-01, -3.9432e-03,\n",
            "         -3.3842e-01, -3.7585e+00, -2.4736e+00, -1.3004e+00, -3.3278e-02],\n",
            "        [ 2.9142e+00,  1.9034e-02,  5.2753e-03, -4.4919e-01,  2.0741e-02,\n",
            "         -8.5379e-02,  3.1295e+00, -4.7014e+00, -1.8815e+00,  1.4197e-02],\n",
            "        [-6.6398e+00, -5.2072e-03,  1.3745e-02, -8.9740e-02, -1.0760e-02,\n",
            "          2.0936e-01,  3.2864e+00,  7.9110e+00, -9.7181e-01,  2.0877e-02]],\n",
            "       requires_grad=True)\n",
            "W2_mean\n",
            "tensor([[-2.3128e+00,  2.1791e-02,  3.5246e-03,  2.2934e-02, -1.5413e-02,\n",
            "         -3.2062e-01,  5.9177e+00,  2.2711e+00,  2.6538e-01, -1.7108e-01],\n",
            "        [-2.5460e+00, -7.1925e-03,  2.3589e-02,  1.7195e-01, -4.3022e-02,\n",
            "         -3.6890e-01,  3.4565e+00, -7.6275e+00,  3.2049e-01, -1.1353e+00],\n",
            "        [ 3.4921e+00, -4.8204e-03,  1.0449e-02, -1.2124e-02,  7.4050e-03,\n",
            "         -1.5642e-01, -5.7992e+00, -1.1474e+00, -2.6048e-01, -7.4821e-01],\n",
            "        [-2.1158e+00,  2.4570e-02, -1.2541e-02, -1.4667e-01,  2.4456e-02,\n",
            "         -6.2841e-01,  2.5754e+00,  8.5657e+00,  1.5660e-01, -2.4780e-01],\n",
            "        [-3.1941e+00, -1.1067e-02, -5.9877e-03, -2.7691e-01, -5.4200e-03,\n",
            "          2.6360e-03, -5.2622e+00,  5.7434e+00, -1.2414e-01, -8.0996e-01],\n",
            "        [ 5.1484e+00, -1.0196e-02,  1.5270e-02,  3.5928e-02, -7.2109e-03,\n",
            "         -1.6403e-01, -2.8433e-01,  4.4737e+00, -1.5843e-01, -1.2119e-01],\n",
            "        [ 2.6442e+00, -8.8085e-03,  1.5879e-03, -3.1898e-02, -1.3342e-02,\n",
            "          2.7226e-01, -1.7433e-01,  4.1314e+00, -9.5249e-02, -7.1034e-01],\n",
            "        [ 1.1847e+00, -3.4997e-03, -2.1112e-02,  9.3295e-02,  2.7022e-02,\n",
            "          5.9397e-01,  3.7046e+00, -8.1147e-01,  7.5024e-02, -9.1210e-01]],\n",
            "       requires_grad=True)\n"
          ],
          "name": "stdout"
        }
      ]
    },
    {
      "cell_type": "code",
      "metadata": {
        "id": "6MMMffYvG9aP",
        "colab_type": "code",
        "colab": {}
      },
      "source": [
        "samples_dic = Predictive(model, guide=guide_flexible, num_samples=1000)(data)\n",
        "Z_hat = samples_dic['Z'].mean(0) \n",
        "tau_hat = samples_dic['tau'].mean(0)\n",
        "sig_hat = samples_dic['sig'].mean(0) \n",
        "W1_hat = samples_dic['W1'].mean(0)\n",
        "W2_hat = samples_dic['W2'].mean(0)"
      ],
      "execution_count": 0,
      "outputs": []
    },
    {
      "cell_type": "code",
      "metadata": {
        "id": "aWSSBAoHG9Wh",
        "colab_type": "code",
        "outputId": "2af49324-9811-45e4-a469-e39516a0ec75",
        "colab": {
          "base_uri": "https://localhost:8080/",
          "height": 306
        }
      },
      "source": [
        "# error\n",
        "# reconstruct datasets\n",
        "X_1_hat = torch.mm(W1_hat, Z_hat) # D[0]*N\n",
        "X_2_hat = torch.mm(W2_hat, Z_hat) # D[1]*N\n",
        "print(\"Reconstruction loss on shared components - MSE\")\n",
        "X_1_shared_loss = np.mean((np.transpose(np.matmul(A_1, Z_shared)) - np.transpose(X_1_hat.detach().numpy()))**2)\n",
        "print(\"X_1_shared_loss: \", X_1_shared_loss)\n",
        "X_2_shared_loss = np.mean((np.transpose(np.matmul(A_2, Z_shared)) - np.transpose(X_2_hat.detach().numpy()))**2)\n",
        "print(\"X_2_shared_loss: \", X_2_shared_loss)\n",
        "print(\"Automatic relevance detection (ARD) \")\n",
        "print(\"Large tau == irrelevant latent component for dataset\")\n",
        "print(\"Sections 4.1, 4.2\")\n",
        "print(tau_hat)\n",
        "print(sig_hat)"
      ],
      "execution_count": 50,
      "outputs": [
        {
          "output_type": "stream",
          "text": [
            "Reconstruction loss on shared components - MSE\n",
            "X_1_shared_loss:  2.522005911743572\n",
            "X_2_shared_loss:  0.6966023017529834\n",
            "Automatic relevance detection (ARD) \n",
            "Large tau == irrelevant latent component for dataset\n",
            "Sections 4.1, 4.2\n",
            "tensor([[ 10.6384,  18.8178],\n",
            "        [254.5573, 372.2515],\n",
            "        [246.2997, 363.6180],\n",
            "        [101.5163, 284.1147],\n",
            "        [252.3111, 339.3556],\n",
            "        [166.2630, 143.9878],\n",
            "        [ 15.1464,  15.3283],\n",
            "        [  9.8555,  13.1072],\n",
            "        [ 31.6210, 231.3800],\n",
            "        [245.4028,  80.0069]], grad_fn=<MeanBackward1>)\n",
            "tensor([0.9893, 0.7712], grad_fn=<MeanBackward1>)\n"
          ],
          "name": "stdout"
        }
      ]
    },
    {
      "cell_type": "markdown",
      "metadata": {
        "id": "h2Q8Isj2qiGI",
        "colab_type": "text"
      },
      "source": [
        "#### **A good completed example for reference:**\n",
        "- https://medium.com/paper-club/understanding-pyros-model-and-guide-a-love-story-7f3aa0603886"
      ]
    },
    {
      "cell_type": "code",
      "metadata": {
        "id": "3IcTNID5bBJq",
        "colab_type": "code",
        "colab": {}
      },
      "source": [
        "import torch\n",
        "import pyro\n",
        "import pyro.distributions as dist\n",
        "from pyro.infer import SVI, Trace_ELBO\n",
        "from pyro.optim import Adam"
      ],
      "execution_count": 0,
      "outputs": []
    },
    {
      "cell_type": "code",
      "metadata": {
        "id": "b30aTsqvmySP",
        "colab_type": "code",
        "colab": {}
      },
      "source": [
        "pyro.enable_validation(True)\n",
        "pyro.clear_param_store()"
      ],
      "execution_count": 0,
      "outputs": []
    },
    {
      "cell_type": "code",
      "metadata": {
        "id": "chAQwj08bBHN",
        "colab_type": "code",
        "outputId": "93943649-7956-4ad6-a84e-e0ea0914f93f",
        "colab": {
          "base_uri": "https://localhost:8080/",
          "height": 51
        }
      },
      "source": [
        "data = torch.cat((torch.zeros(9), torch.ones(7), torch.empty(4).fill_(2.)))\n",
        "data"
      ],
      "execution_count": 0,
      "outputs": [
        {
          "output_type": "execute_result",
          "data": {
            "text/plain": [
              "tensor([0., 0., 0., 0., 0., 0., 0., 0., 0., 1., 1., 1., 1., 1., 1., 1., 2., 2.,\n",
              "        2., 2.])"
            ]
          },
          "metadata": {
            "tags": []
          },
          "execution_count": 68
        }
      ]
    },
    {
      "cell_type": "code",
      "metadata": {
        "id": "hpItQ4CqbBAW",
        "colab_type": "code",
        "colab": {}
      },
      "source": [
        "def model(data):\n",
        "  alpha = torch.tensor(6.0)\n",
        "  beta = torch.tensor(10.0)\n",
        "  pay_probs = pyro.sample('pay_probs', dist.Beta(alpha, beta).expand([3]).independent(1)) # batch 3\n",
        "  normalized_pay_probs = pay_probs / torch.sum(pay_probs)\n",
        "\n",
        "  with pyro.iarange('data_loop', len(data)):\n",
        "    pyro.sample('obs', dist.Categorical(probs=normalized_pay_probs), obs=data)"
      ],
      "execution_count": 0,
      "outputs": []
    },
    {
      "cell_type": "code",
      "metadata": {
        "id": "sv0GqJD1bA9v",
        "colab_type": "code",
        "colab": {}
      },
      "source": [
        "def guide(data):\n",
        "  alphas = pyro.param('alphas', torch.tensor(6.).expand([3]), constraint=torch.distributions.constraints.positive) # batch 3\n",
        "  betas = pyro.param('betas', torch.tensor(10.).expand([3]), constraint=torch.distributions.constraints.positive) # batch 3\n",
        "  pyro.sample('pay_probs', dist.Beta(alphas, betas).independent(1)) # batch 3"
      ],
      "execution_count": 0,
      "outputs": []
    },
    {
      "cell_type": "code",
      "metadata": {
        "id": "AnOFqfVvbLcv",
        "colab_type": "code",
        "colab": {}
      },
      "source": [
        "def print_progress():\n",
        "  alphas = pyro.param(\"alphas\")\n",
        "  betas = pyro.param(\"betas\")\n",
        "  \n",
        "  # if torch.cuda.is_available():\n",
        "  #   alphas.cuda()\n",
        "  #   betas.cuda()\n",
        "\n",
        "  means = alphas / (alphas + betas)\n",
        "  normalized_means = means / torch.sum(means)\n",
        "  factors = betas / (alphas * (1.0 + alphas + betas))\n",
        "  stdevs = normalized_means * torch.sqrt(factors)\n",
        "\n",
        "  tiger_pays_string = \"probability Tiger pays: {0:.3f} +/- {1:.2f}\".format(normalized_means[0], stdevs[0])\n",
        "  jason_pays_string = \"probability Jason pays: {0:.3f} +/- {1:.2f}\".format(normalized_means[1], stdevs[1])\n",
        "  james_pays_string = \"probability James pays: {0:.3f} +/- {1:.2f}\".format(normalized_means[2], stdevs[2])\n",
        "  print(\"[\", step_, \"|\", tiger_pays_string, \"|\", jason_pays_string, \"|\", james_pays_string, \"]\")"
      ],
      "execution_count": 0,
      "outputs": []
    },
    {
      "cell_type": "code",
      "metadata": {
        "id": "QoUW0sOMbLUx",
        "colab_type": "code",
        "colab": {}
      },
      "source": [
        "adam_params = {\"lr\": 0.0005}\n",
        "optimizer = Adam(adam_params)\n",
        "svi = SVI(model, guide, optimizer, loss=Trace_ELBO())\n",
        "\n",
        "n_steps = 100\n",
        "for step_ in range(n_steps):\n",
        "  print(step_)\n",
        "  svi.step(data)\n",
        "  if step_ % 20 == 0:\n",
        "    print_progress()"
      ],
      "execution_count": 0,
      "outputs": []
    },
    {
      "cell_type": "code",
      "metadata": {
        "id": "EBuFBxU7XHUA",
        "colab_type": "code",
        "outputId": "eb3d49b0-2769-4ace-ab13-afb0b95d3ee7",
        "colab": {
          "base_uri": "https://localhost:8080/",
          "height": 136
        }
      },
      "source": [
        "from pyro.infer import Predictive\n",
        "torch.mean(Predictive(model, guide=guide, num_samples=4)(data)['pay_probs'], dim=0)\n",
        "Predictive(model, guide=guide, num_samples=4)(data)['pay_probs']"
      ],
      "execution_count": 0,
      "outputs": [
        {
          "output_type": "execute_result",
          "data": {
            "text/plain": [
              "tensor([[[0.3915, 0.3195, 0.5791]],\n",
              "\n",
              "        [[0.4693, 0.4703, 0.1952]],\n",
              "\n",
              "        [[0.7312, 0.1591, 0.2843]],\n",
              "\n",
              "        [[0.3687, 0.3234, 0.3297]]], grad_fn=<ViewBackward>)"
            ]
          },
          "metadata": {
            "tags": []
          },
          "execution_count": 73
        }
      ]
    },
    {
      "cell_type": "code",
      "metadata": {
        "id": "7waCjTjhbIAZ",
        "colab_type": "code",
        "outputId": "c1e01c9c-8639-4ae2-a49a-9fbf1badf731",
        "colab": {
          "base_uri": "https://localhost:8080/",
          "height": 34
        }
      },
      "source": [
        "Predictive(model, guide=guide, num_samples=4)(data)['pay_probs'].mean(0)"
      ],
      "execution_count": 0,
      "outputs": [
        {
          "output_type": "execute_result",
          "data": {
            "text/plain": [
              "tensor([[0.3310, 0.3325, 0.4196]], grad_fn=<MeanBackward1>)"
            ]
          },
          "metadata": {
            "tags": []
          },
          "execution_count": 74
        }
      ]
    },
    {
      "cell_type": "code",
      "metadata": {
        "id": "0qE8XRPhdCnp",
        "colab_type": "code",
        "outputId": "c818fa87-19dc-4393-d85a-7c217d5dfc81",
        "colab": {
          "base_uri": "https://localhost:8080/",
          "height": 68
        }
      },
      "source": [
        "Predictive(model, guide=guide, num_samples=1)(data)"
      ],
      "execution_count": 0,
      "outputs": [
        {
          "output_type": "execute_result",
          "data": {
            "text/plain": [
              "{'obs': tensor([[0., 0., 0., 0., 0., 0., 0., 0., 0., 1., 1., 1., 1., 1., 1., 1., 2., 2.,\n",
              "          2., 2.]]),\n",
              " 'pay_probs': tensor([[[0.5444, 0.5338, 0.4234]]], grad_fn=<ViewBackward>)}"
            ]
          },
          "metadata": {
            "tags": []
          },
          "execution_count": 75
        }
      ]
    },
    {
      "cell_type": "code",
      "metadata": {
        "id": "THJuUpQJuDl3",
        "colab_type": "code",
        "outputId": "9e376767-ffc9-47e6-b096-5e376d321296",
        "colab": {
          "base_uri": "https://localhost:8080/",
          "height": 85
        }
      },
      "source": [
        "# see all estimated parameters finally\n",
        "for name, value in pyro.get_param_store().named_parameters():\n",
        "  print(name)\n",
        "  print(value)"
      ],
      "execution_count": 0,
      "outputs": [
        {
          "output_type": "stream",
          "text": [
            "alphas\n",
            "tensor([1.8152, 1.7964, 1.7697], requires_grad=True)\n",
            "betas\n",
            "tensor([2.2763, 2.3005, 2.3238], requires_grad=True)\n"
          ],
          "name": "stdout"
        }
      ]
    },
    {
      "cell_type": "markdown",
      "metadata": {
        "id": "nTmtBvEFhyce",
        "colab_type": "text"
      },
      "source": [
        "#### **Another good example for detailed operations:**\n",
        "  - http://willcrichton.net/notes/probabilistic-programming-under-the-hood/"
      ]
    },
    {
      "cell_type": "code",
      "metadata": {
        "id": "mXUZLuwhhx5K",
        "colab_type": "code",
        "outputId": "66cde704-50f9-4c62-bc83-547f5b1f75cf",
        "colab": {
          "base_uri": "https://localhost:8080/",
          "height": 51
        }
      },
      "source": [
        "import pyro.distributions as dist\n",
        "from pyro import sample\n",
        "from torch import tensor\n",
        "\n",
        "# A probability distribution has two key functions: \n",
        "# sample, which returns a single value in accordance with its probability (e.g. 0 and 1 are equally likely from the coin flip), \n",
        "# log_prob, which returns the log probability of a sample under the model.\n",
        "\n",
        "# A fair coin\n",
        "coinflip = sample(\"coinflip\", dist.Bernoulli(probs=0.5))\n",
        "# e.g. coinflip == tensor(0.)\n",
        "\n",
        "# A noisy sample\n",
        "noisy_sample = sample(\"noisy_sample\", dist.Normal(loc=0, scale=1))\n",
        "# e.g. noisy_sample == tensor(0.35)\n",
        "\n",
        "print(dist.Bernoulli(0.5).log_prob(tensor(0.)).exp()) # 0.5000\n",
        "print(dist.Normal(0, 1).log_prob(tensor(0.35)).exp()) # 0.3752"
      ],
      "execution_count": 0,
      "outputs": [
        {
          "output_type": "stream",
          "text": [
            "tensor(0.5000)\n",
            "tensor(0.3752)\n"
          ],
          "name": "stdout"
        }
      ]
    },
    {
      "cell_type": "code",
      "metadata": {
        "id": "gZbFDCf0jjMX",
        "colab_type": "code",
        "outputId": "1259a64b-6d81-4f81-d1f2-02e71a74993c",
        "colab": {
          "base_uri": "https://localhost:8080/",
          "height": 34
        }
      },
      "source": [
        "# This model below generates a single data point by running the function top to bottom as a normal program.\n",
        "# This is called a “generative” model because it has an explicit probabilistic model for every random variable (e.g. the prior on feeling_lazy). \n",
        "# By contrast, a “discriminative” model only tries to model a conditional probabilistic distribution, \n",
        "# where given some observations, you predict the distribution over unobserved variables.\n",
        "def sleep_model():\n",
        "    # Very likely to feel lazy\n",
        "    feeling_lazy = sample(\"feeling_lazy\", dist.Bernoulli(0.9))\n",
        "    if feeling_lazy:\n",
        "        # Only going to (possibly) ignore my alarm if I'm feeling lazy\n",
        "        ignore_alarm = sample(\"ignore_alarm\", dist.Bernoulli(0.8))\n",
        "        # Will sleep more if I ignore my alarm\n",
        "        amount_slept = sample(\"amount_slept\", dist.Normal(8+2*ignore_alarm, 1))\n",
        "    else:\n",
        "        amount_slept = sample(\"amount_slept\", dist.Normal(6, 1))\n",
        "    return amount_slept\n",
        "sleep_model() # e.g. 9.8280"
      ],
      "execution_count": 0,
      "outputs": [
        {
          "output_type": "execute_result",
          "data": {
            "text/plain": [
              "tensor(9.5660)"
            ]
          },
          "metadata": {
            "tags": []
          },
          "execution_count": 78
        }
      ]
    },
    {
      "cell_type": "code",
      "metadata": {
        "id": "zLzjFX1ZjjKT",
        "colab_type": "code",
        "outputId": "96d7522e-8e7b-4cbc-f6b1-e0fed2c70b3a",
        "colab": {
          "base_uri": "https://localhost:8080/",
          "height": 34
        }
      },
      "source": [
        "# Implement one of these distributions\n",
        "from random import random\n",
        "class Bernoulli:\n",
        "    def __init__(self, p):\n",
        "        self.p = p\n",
        "    def sample(self):\n",
        "        if random() < self.p:\n",
        "            return tensor(1.)\n",
        "        else:\n",
        "            return tensor(0.)\n",
        "    def log_prob(self, x):\n",
        "        return (x * self.p + (1 - x) * (1 - self.p)).log()\n",
        "\n",
        "b = Bernoulli(0.8)\n",
        "b.sample() # e.g. 0.\n",
        "b.log_prob(tensor(0.)).exp() # 0.2"
      ],
      "execution_count": 0,
      "outputs": [
        {
          "output_type": "execute_result",
          "data": {
            "text/plain": [
              "tensor(0.2000)"
            ]
          },
          "metadata": {
            "tags": []
          },
          "execution_count": 79
        }
      ]
    },
    {
      "cell_type": "code",
      "metadata": {
        "id": "5G2arP-cji_7",
        "colab_type": "code",
        "outputId": "aa0457ff-1f79-463d-9b50-58bdc7a2c404",
        "colab": {
          "base_uri": "https://localhost:8080/",
          "height": 68
        }
      },
      "source": [
        "from pyro.poutine import trace\n",
        "from pprint import pprint\n",
        "\n",
        "# Runs the sleep model once and collects a trace\n",
        "# trace feature will collect values every time they are sampled with sample \n",
        "# and store them with the corresponding string name\n",
        "tr = trace(sleep_model).get_trace()\n",
        "\n",
        "pprint({\n",
        "    name: {\n",
        "        'value': props['value'],\n",
        "        'prob': props['fn'].log_prob(props['value']).exp()\n",
        "    }\n",
        "    for (name, props) in tr.nodes.items()\n",
        "    if props['type'] == 'sample'\n",
        "})\n",
        "# {'amount_slept': {'prob': tensor(0.0799), 'value': tensor(8.2069)},\n",
        "#  'feeling_lazy': {'prob': tensor(0.9000), 'value': tensor(1.)},\n",
        "#  'ignore_alarm': {'prob': tensor(0.8000), 'value': tensor(1.)}}\n",
        "\n",
        "# the joint probability of the entire trace\n",
        "print(tr.log_prob_sum().exp()) # 0.0575"
      ],
      "execution_count": 0,
      "outputs": [
        {
          "output_type": "stream",
          "text": [
            "{'amount_slept': {'prob': tensor(0.3971), 'value': tensor(5.9041)},\n",
            " 'feeling_lazy': {'prob': tensor(0.1000), 'value': tensor(0.)}}\n",
            "tensor(0.0397)\n"
          ],
          "name": "stdout"
        }
      ]
    },
    {
      "cell_type": "code",
      "metadata": {
        "id": "mR7xo5Lxji9j",
        "colab_type": "code",
        "outputId": "22653551-687b-4b41-ed74-e082045e77d6",
        "colab": {
          "base_uri": "https://localhost:8080/",
          "height": 34
        }
      },
      "source": [
        "# The code above randomly generates a trace and shows its probability, \n",
        "# but we want to compute the probability of a pre-selected set of values. For that, we can use condition:\n",
        "from pyro import condition\n",
        "\n",
        "# condition means “force the sample to return the provided value, \n",
        "# and compute the trace probability as if that value was sampled.\n",
        "cond_model = condition(sleep_model, {\n",
        "    \"feeling_lazy\": tensor(1.),\n",
        "    \"ignore_alarm\": tensor(0.),\n",
        "    \"amount_slept\": tensor(10.)\n",
        "})\n",
        "trace(cond_model).get_trace().log_prob_sum().exp() # 0.0097"
      ],
      "execution_count": 0,
      "outputs": [
        {
          "output_type": "execute_result",
          "data": {
            "text/plain": [
              "tensor(0.0097)"
            ]
          },
          "metadata": {
            "tags": []
          },
          "execution_count": 81
        }
      ]
    },
    {
      "cell_type": "code",
      "metadata": {
        "id": "M3ZQ7Yf5ji7h",
        "colab_type": "code",
        "outputId": "e2a2f6cc-9cbb-4482-9ffb-b617a070b170",
        "colab": {
          "base_uri": "https://localhost:8080/",
          "height": 421
        }
      },
      "source": [
        "# Now, we can produce an approximate answer to any of our questions above by sampling from the distribution enough times. \n",
        "# For example, we can look at the marginal distribution over each variable:\n",
        "import pandas as pd\n",
        "import matplotlib.pyplot as plt\n",
        "\n",
        "traces = []\n",
        "for _ in range(1000):\n",
        "    tr = trace(sleep_model).get_trace()\n",
        "    values = {\n",
        "        name: props['value'].item()\n",
        "        for (name, props) in tr.nodes.items()\n",
        "        if props['type'] == 'sample'\n",
        "    }\n",
        "    traces.append(values)\n",
        "\n",
        "pd.DataFrame(traces).hist(figsize=(6, 5))"
      ],
      "execution_count": 0,
      "outputs": [
        {
          "output_type": "execute_result",
          "data": {
            "text/plain": [
              "array([[<matplotlib.axes._subplots.AxesSubplot object at 0x7f0d9e40e160>,\n",
              "        <matplotlib.axes._subplots.AxesSubplot object at 0x7f0d9dee6470>],\n",
              "       [<matplotlib.axes._subplots.AxesSubplot object at 0x7f0d9de97a20>,\n",
              "        <matplotlib.axes._subplots.AxesSubplot object at 0x7f0d9dfc8a90>]],\n",
              "      dtype=object)"
            ]
          },
          "metadata": {
            "tags": []
          },
          "execution_count": 82
        },
        {
          "output_type": "display_data",
          "data": {
            "image/png": "[encoded data removed]",
            "text/plain": [
              "<Figure size 432x360 with 4 Axes>"
            ]
          },
          "metadata": {
            "tags": []
          }
        }
      ]
    },
    {
      "cell_type": "markdown",
      "metadata": {
        "id": "pmUN1jbPq2BP",
        "colab_type": "text"
      },
      "source": [
        "#### **Quick Sampling and Variational Inference review**\n",
        "- Stanford Sampling notes: https://ermongroup.github.io/cs228-notes/inference/sampling/\n",
        "  - produce answers by repeatedly generating random numbers from a distribution of interest.\n",
        "    - Sampling from a probability distribution\n",
        "    - Forward Sampling\n",
        "      - We start by sampling the variables with no parents; then we sample from the next generation by conditioning these variables’ CPDs to values sampled at the first step. We proceed like this until all n variables have been sampled.\n",
        "    - Monte Carlo estimation\n",
        "    - Rejection sampling\n",
        "    - Importance sampling\n",
        "    - Normalized importance sampling\n",
        "    - Markov chain Monte Carlo\n",
        "      - the idea of MCMC algorithms is to construct a Markov chain over the assignments to a probability function p; the chain will have a stationary distribution equal to p itself; by running the chain for some number of time, we will sample from p.\n",
        "      - At a high level, MCMC algorithms will have the following structure. They take as argument a transition operator T specifying a Markov chain whose stationary distribution is p, and an initial assignment x0 to the variables of p. An MCMC algorithm then perform the following steps. (1) Run the Markov chain from x0 for B burn-in steps. (2) Run the Markov chain for N sampling steps and collect all the states that it visits. Assuming B is sufficiently large, the latter collection of states will form samples from p. \n",
        "      - We may then use these samples for Monte Carlo integration (or in importance sampling). We may also use them to produce Monte Carlo estimates of marginal probabilities. Finally, we may take the sample with the highest probability and use it as an estimate of the mode (i.e. perform MAP inference).\n",
        "    - Metropolis-Hastings algorithm\n",
        "      - Gibbs sampling: (special case of MH algorithm) both Gibbs sampling and MH will eventually produce samples from their stationary distribution, which by construction is P.\n",
        "    - Running time of MCMC\n",
        "      - A key parameter to this algorithm in the number of burn-in steps B. Intuitively, this corresponds to the number of steps needed to converge to our limit (stationary) distribution. This is called the mixing time of the Markov chain.\n",
        "- Stanford Variational Inference: https://ermongroup.github.io/cs228-notes/inference/variational/\n",
        "  - shortcomings of sampling: Although they are guaranteed to find a globally optimal solution given enough time, it is difficult to tell how close they are to a good solution given the finite amount of time that they have in practice. In order to quickly reach a good solution, MCMC methods require choosing an appropriate sampling technique (e.g. a good proposal in Metropolis-Hastings). Choosing this technique can be an art in itself.\n",
        "  - TARGET: solve an optimization problem over a class of tractable distributions Q in order to find a q∈Q that is most similar to p. We will then query q (rather than p) in order to get an approximate solution.\n",
        "  - Compare: variational approaches will almost never find the globally optimal solution. We will even have bounds on their accuracy. They are more amenable to techniques like stochastic gradient optimization, parallelization over multiple processors, and acceleration using GPUs.\n",
        "  - Kullback-Leibler divergence\n",
        "  - Variational lower bound\n",
        "  - Choice of KL divergence\n",
        "  - Mean-field inference\n",
        "\n"
      ]
    },
    {
      "cell_type": "markdown",
      "metadata": {
        "id": "1gBy4GxdyzvE",
        "colab_type": "text"
      },
      "source": [
        "#### **CONTINUE: Another good example for detailed operations:**\n",
        "- **Variational inference 1: autodifferentiation**"
      ]
    },
    {
      "cell_type": "code",
      "metadata": {
        "id": "tyvAWsSuji5h",
        "colab_type": "code",
        "outputId": "e0a5aa0c-6397-4e45-9e9e-b4491d6bf309",
        "colab": {
          "base_uri": "https://localhost:8080/",
          "height": 51
        }
      },
      "source": [
        "# Since Pyro’s stake in the ground is on variational inference, let’s explore all the mechanics underneath it. \n",
        "# For starters, we need to understand autodifferentiation, gradients, and backpropagation in PyTorch. \n",
        "# Let’s say I have an extremely simple model that just samples a normal distribution with fixed parameters:\n",
        "norm = dist.Normal(0, 1)\n",
        "x = sample(\"x\", norm)\n",
        "print(x)\n",
        "\n",
        "from pyro import param\n",
        "\n",
        "# A parameter is a persistent value linked to a string name with an initial value here of 0. \n",
        "# (It’s a Torch tensor with requires_grad=True.) \n",
        "mu = param(\"mu\", tensor(0.))\n",
        "norm = dist.Normal(mu, 1)\n",
        "x = sample(\"x\", norm)\n",
        "print(x)"
      ],
      "execution_count": 0,
      "outputs": [
        {
          "output_type": "stream",
          "text": [
            "tensor(-2.0690)\n",
            "tensor(1.7973, grad_fn=<AddBackward0>)\n"
          ],
          "name": "stdout"
        }
      ]
    },
    {
      "cell_type": "code",
      "metadata": {
        "id": "-fxbr24kjitO",
        "colab_type": "code",
        "outputId": "749f0532-9f2e-428a-aec8-3bca0e349f3f",
        "colab": {
          "base_uri": "https://localhost:8080/",
          "height": 85
        }
      },
      "source": [
        "# Our goal is to update mu such that the probability of the value 5 under the normal distribution norm is maximized. PyTorch makes that quite easy:\n",
        "prob = norm.log_prob(torch.tensor(5))\n",
        "print(prob, prob.exp()) # -13.4189, 0.000002\n",
        "\n",
        "# The magic happens with prob.backward(). \n",
        "# This essentially says: for each variable involved in computing the log probability, \n",
        "# compute a delta (gradient) such that if moved by that delta, the log probability would increase. \n",
        "# In this case, the gradient of 5 is the optimal solution to maximizing the probability of 5 under the model N(5,1), which has probability of 0.3989 as shown.\n",
        "prob.backward() # Compute gradients with respect to probability\n",
        "\n",
        "print(mu)      # 0.0\n",
        "print(mu.grad) # 5.0\n",
        "mu.data += mu.grad # Manually take gradient step\n",
        "\n",
        "print(dist.Normal(mu, 1).log_prob(torch.tensor(5))) # 0.3989"
      ],
      "execution_count": 0,
      "outputs": [
        {
          "output_type": "stream",
          "text": [
            "tensor(-13.4189, grad_fn=<SubBackward0>) tensor(1.4867e-06, grad_fn=<ExpBackward>)\n",
            "tensor(0., requires_grad=True)\n",
            "tensor(5.)\n",
            "tensor(-0.9189, grad_fn=<SubBackward0>)\n"
          ],
          "name": "stdout"
        }
      ]
    },
    {
      "cell_type": "code",
      "metadata": {
        "id": "Dt2rYhDyjiqH",
        "colab_type": "code",
        "outputId": "07d2ef8d-d358-4b76-f74c-a0777a52f575",
        "colab": {
          "base_uri": "https://localhost:8080/",
          "height": 34
        }
      },
      "source": [
        "dist.Normal(mu, 1).log_prob(torch.tensor(5)).exp()"
      ],
      "execution_count": 0,
      "outputs": [
        {
          "output_type": "execute_result",
          "data": {
            "text/plain": [
              "tensor(0.3989, grad_fn=<ExpBackward>)"
            ]
          },
          "metadata": {
            "tags": []
          },
          "execution_count": 106
        }
      ]
    },
    {
      "cell_type": "code",
      "metadata": {
        "id": "O7UXHOo2zqK7",
        "colab_type": "code",
        "colab": {}
      },
      "source": [
        "# Generalization version\n",
        "def model():\n",
        "    mu = pyro.param(\"mu\", torch.tensor(0.))\n",
        "    return pyro.sample(\"x\", dist.Normal(mu, torch.tensor(1.)))\n",
        "\n",
        "# When we condition the model, this asserts that x = 5 and adds N(mu, 1).log_prob(5) to the trace’s probability. \n",
        "# Then running backpropagation will change the gradient on mu accordingly. \n",
        "cond_model = condition(model, {\"x\": torch.tensor(5.)})\n",
        "tr = trace(cond_model).get_trace()\n",
        "# This formulation is more general in that every sample location can contribute to the final log probability, \n",
        "# and each parameter will be differentiated with respect to sum of all contributions.\n",
        "tr.log_prob_sum().backward()\n",
        "mu = param(\"mu\")\n",
        "mu.data += mu.grad\n",
        "\n",
        "# # The only remaining issue is the manual gradient steps. We currently both have to identify which parameters need to be updated, \n",
        "# and then explicitly step them. PyTorch has a wide array of optimization algorithms that can do this for us, so we can just pick a common one like Adam."
      ],
      "execution_count": 0,
      "outputs": []
    },
    {
      "cell_type": "code",
      "metadata": {
        "id": "TkwUmDLQzp7z",
        "colab_type": "code",
        "outputId": "91736343-384a-412e-891e-dcdf41bf71e9",
        "colab": {
          "base_uri": "https://localhost:8080/",
          "height": 303
        }
      },
      "source": [
        "from torch.optim import Adam\n",
        "\n",
        "def model():\n",
        "    mu = param(\"mu\", tensor(0.))\n",
        "    return sample(\"x\", dist.Normal(mu, 1))\n",
        "\n",
        "model() # Instantiate the mu parameter\n",
        "cond_model = condition(model, {\"x\": torch.tensor(5.)})\n",
        "\n",
        "# Large learning rate for demonstration purposes\n",
        "optimizer = Adam([param(\"mu\")], lr=0.01)\n",
        "mus = []\n",
        "losses = []\n",
        "for _ in range(1000):\n",
        "    tr = trace(cond_model).get_trace()\n",
        "    # Optimizer wants to push positive values towards zero,\n",
        "    # so use negative log probability\n",
        "    prob = -tr.log_prob_sum()\n",
        "    prob.backward()\n",
        "    # Update parameters according to optimization strategy\n",
        "    optimizer.step()\n",
        "    # Zero all parameter gradients so they don't accumulate\n",
        "    optimizer.zero_grad()\n",
        "    # Record probability (or \"loss\") along with current mu\n",
        "    losses.append(prob.item())\n",
        "    mus.append(param(\"mu\").item())\n",
        "pd.DataFrame({\"mu\": mus, \"loss\": losses}).plot(subplots=True)"
      ],
      "execution_count": 0,
      "outputs": [
        {
          "output_type": "execute_result",
          "data": {
            "text/plain": [
              "array([<matplotlib.axes._subplots.AxesSubplot object at 0x7f0d9dd3a4a8>,\n",
              "       <matplotlib.axes._subplots.AxesSubplot object at 0x7f0d9dd804e0>],\n",
              "      dtype=object)"
            ]
          },
          "metadata": {
            "tags": []
          },
          "execution_count": 119
        },
        {
          "output_type": "display_data",
          "data": {
            "image/png": "[encoded data removed]",
            "text/plain": [
              "<Figure size 432x288 with 2 Axes>"
            ]
          },
          "metadata": {
            "tags": []
          }
        }
      ]
    },
    {
      "cell_type": "markdown",
      "metadata": {
        "id": "HUQLA1Am3CwF",
        "colab_type": "text"
      },
      "source": [
        "- **Variational inference 2: guide functions**"
      ]
    },
    {
      "cell_type": "code",
      "metadata": {
        "id": "-Zp3da5Dzp5D",
        "colab_type": "code",
        "outputId": "204cb3b7-8ad1-40d0-fc00-ea65f2eb09b0",
        "colab": {
          "base_uri": "https://localhost:8080/",
          "height": 34
        }
      },
      "source": [
        "# For variational inference, the key idea is that we’re going to use a separate function from the model called the “guide” to represent the posterior. \n",
        "# The guide is a stochastic function that represents a probability distribution over the latent (unobserved) variables. For example, this is a valid guide:\n",
        "def sleep_guide():\n",
        "  sample(\"feeling_lazy\", dist.Gamma(1., 1.))\n",
        "  sample(\"ignore_alarm\", dist.Gamma(1., 1.))\n",
        "\n",
        "trace(sleep_guide).get_trace().nodes['feeling_lazy']['value'] # 1."
      ],
      "execution_count": 0,
      "outputs": [
        {
          "output_type": "execute_result",
          "data": {
            "text/plain": [
              "tensor(0.1452)"
            ]
          },
          "metadata": {
            "tags": []
          },
          "execution_count": 120
        }
      ]
    },
    {
      "cell_type": "code",
      "metadata": {
        "id": "G81y3g8Dzp24",
        "colab_type": "code",
        "colab": {}
      },
      "source": [
        "import torch \n",
        "def elbo(guide, cond_model):\n",
        "  dist = 0.\n",
        "  for fl in [0., 1.]:\n",
        "    for ia in [0., 1.] if fl == 1. else [0.]:\n",
        "      log_prob = lambda f: trace(condition(\n",
        "        f, {\"feeling_lazy\": tensor(fl), \"ignore_alarm\": tensor(ia)})).get_trace().log_prob_sum()\n",
        "      guide_prob = log_prob(guide)\n",
        "      cond_model_prob = log_prob(cond_model)\n",
        "      term = guide_prob.exp() * (cond_model_prob - guide_prob)\n",
        "      if not torch.isnan(term):\n",
        "        dist += term\n",
        "  return dist\n",
        "\n",
        "elbo(sleep_guide, underslept) # -4.63"
      ],
      "execution_count": 0,
      "outputs": []
    },
    {
      "cell_type": "markdown",
      "metadata": {
        "id": "KAOvB7i18S2W",
        "colab_type": "text"
      },
      "source": [
        "- **Variational inference 3: ELBO optimization**"
      ]
    },
    {
      "cell_type": "code",
      "metadata": {
        "id": "YCWdWWuxzpnI",
        "colab_type": "code",
        "outputId": "bc6005c1-ff2f-4192-a1d0-5abd015d9cbd",
        "colab": {
          "base_uri": "https://localhost:8080/",
          "height": 306
        }
      },
      "source": [
        "import pyro\n",
        "import torch.distributions.constraints as constraints\n",
        "\n",
        "pyro.clear_param_store()\n",
        "\n",
        "def sleep_guide():\n",
        "    # Constraints ensure facts always remain true during optimization,\n",
        "    # e.g. that the parameter of a Bernoulli is always between 0 and 1\n",
        "    valid_prob = constraints.interval(0., 1.)\n",
        "    fl_p = param('fl_p', tensor(0.8), constraint=valid_prob)\n",
        "    ia_p = param('ia_p', tensor(0.9), constraint=valid_prob)\n",
        "    feeling_lazy = sample('feeling_lazy', dist.Bernoulli(fl_p))\n",
        "\n",
        "    # Consistent with the model, we only sample ignore_alarm if\n",
        "    # feeling_lazy is true\n",
        "    if feeling_lazy == 1.:\n",
        "      sample('ignore_alarm', dist.Bernoulli(ia_p))\n",
        "sleep_guide()\n",
        "\n",
        "adam = Adam([param('fl_p').unconstrained(), param('ia_p').unconstrained()],lr=0.005, betas=(0.90, 0.999))\n",
        "param_vals = []\n",
        "\n",
        "for _ in range(2000):\n",
        "    # We can use our elbo function from earlier and compute its gradient\n",
        "    loss = -elbo(sleep_guide, underslept)\n",
        "    loss.backward()\n",
        "\n",
        "    adam.step()\n",
        "    adam.zero_grad()\n",
        "    param_vals.append({k: param(k).item() for k in ['fl_p', 'ia_p']})\n",
        "\n",
        "pd.DataFrame(param_vals).plot(subplots=True)"
      ],
      "execution_count": 0,
      "outputs": [
        {
          "output_type": "execute_result",
          "data": {
            "text/plain": [
              "array([<matplotlib.axes._subplots.AxesSubplot object at 0x7f0d9dd15710>,\n",
              "       <matplotlib.axes._subplots.AxesSubplot object at 0x7f0d9dc2e908>],\n",
              "      dtype=object)"
            ]
          },
          "metadata": {
            "tags": []
          },
          "execution_count": 126
        },
        {
          "output_type": "display_data",
          "data": {
            "image/png": "[encoded data removed]",
            "text/plain": [
              "<Figure size 432x288 with 2 Axes>"
            ]
          },
          "metadata": {
            "tags": []
          }
        }
      ]
    },
    {
      "cell_type": "code",
      "metadata": {
        "id": "z5vlD3T4zpk4",
        "colab_type": "code",
        "outputId": "6f5e6cb1-1d7e-4159-9c2c-2a5115ea6a76",
        "colab": {
          "base_uri": "https://localhost:8080/",
          "height": 306
        }
      },
      "source": [
        "from pyro.poutine import replay\n",
        "\n",
        "def elbo_approx(guide, cond_model):\n",
        "    guide_trace = trace(guide).get_trace()\n",
        "    model_trace = trace(replay(cond_model, guide_trace)).get_trace()\n",
        "    return model_trace.log_prob_sum() - guide_trace.log_prob_sum()\n",
        "\n",
        "param_vals = []\n",
        "for _ in range(2000):\n",
        "    loss = -elbo_approx(sleep_guide, underslept)\n",
        "    loss.backward()\n",
        "    adam.step()\n",
        "    adam.zero_grad()\n",
        "    param_vals.append({k: param(k).item() for k in ['fl_p', 'ia_p']})\n",
        "\n",
        "pd.DataFrame(param_vals).plot(subplots=True)"
      ],
      "execution_count": 0,
      "outputs": [
        {
          "output_type": "execute_result",
          "data": {
            "text/plain": [
              "array([<matplotlib.axes._subplots.AxesSubplot object at 0x7f0d9db9aeb8>,\n",
              "       <matplotlib.axes._subplots.AxesSubplot object at 0x7f0d9dbb9a90>],\n",
              "      dtype=object)"
            ]
          },
          "metadata": {
            "tags": []
          },
          "execution_count": 127
        },
        {
          "output_type": "display_data",
          "data": {
            "image/png": "[encoded data removed]",
            "text/plain": [
              "<Figure size 432x288 with 2 Axes>"
            ]
          },
          "metadata": {
            "tags": []
          }
        }
      ]
    },
    {
      "cell_type": "code",
      "metadata": {
        "id": "AvTIpixizphT",
        "colab_type": "code",
        "outputId": "9dfcd065-fb44-4400-9555-2d0232f0a312",
        "colab": {
          "base_uri": "https://localhost:8080/",
          "height": 306
        }
      },
      "source": [
        "def elbo_better_approx(guide, cond_model):\n",
        "    guide_trace = trace(guide).get_trace()\n",
        "    model_trace = trace(replay(cond_model, guide_trace)).get_trace()\n",
        "    elbo = model_trace.log_prob_sum() - guide_trace.log_prob_sum()\n",
        "    # \"detach\" means \"don't compute gradients through this expression\"\n",
        "    return guide_trace.log_prob_sum() * elbo.detach() + elbo\n",
        "\n",
        "param_vals = []\n",
        "for _ in range(2000):\n",
        "    loss = -elbo_better_approx(sleep_guide, underslept)\n",
        "    loss.backward()\n",
        "    adam.step()\n",
        "    adam.zero_grad()\n",
        "    param_vals.append({k: param(k).item() for k in ['fl_p', 'ia_p']})\n",
        "\n",
        "pd.DataFrame(param_vals).plot(subplots=True)"
      ],
      "execution_count": 0,
      "outputs": [
        {
          "output_type": "execute_result",
          "data": {
            "text/plain": [
              "array([<matplotlib.axes._subplots.AxesSubplot object at 0x7f0d9dad3ef0>,\n",
              "       <matplotlib.axes._subplots.AxesSubplot object at 0x7f0d9daf3320>],\n",
              "      dtype=object)"
            ]
          },
          "metadata": {
            "tags": []
          },
          "execution_count": 128
        },
        {
          "output_type": "display_data",
          "data": {
            "image/png": "[encoded data removed]",
            "text/plain": [
              "<Figure size 432x288 with 2 Axes>"
            ]
          },
          "metadata": {
            "tags": []
          }
        }
      ]
    },
    {
      "cell_type": "code",
      "metadata": {
        "id": "9fG_A6bL_hOz",
        "colab_type": "code",
        "outputId": "c49ae2f9-0b05-41ee-efb8-d7a3b64bffdc",
        "colab": {
          "base_uri": "https://localhost:8080/",
          "height": 306
        }
      },
      "source": [
        "from pyro.optim import Adam\n",
        "from pyro.infer import SVI, Trace_ELBO\n",
        "\n",
        "adam = Adam({\"lr\": 0.05})\n",
        "svi = SVI(underslept, sleep_guide, adam, loss=Trace_ELBO())\n",
        "\n",
        "param_vals = []\n",
        "for _ in range(2000):\n",
        "    svi.step()\n",
        "    param_vals.append({k: param(k).item() for k in [\"fl_p\", \"ia_p\"]})\n",
        "\n",
        "pd.DataFrame(param_vals).plot(subplots=True)"
      ],
      "execution_count": 0,
      "outputs": [
        {
          "output_type": "execute_result",
          "data": {
            "text/plain": [
              "array([<matplotlib.axes._subplots.AxesSubplot object at 0x7f0d9d81dcc0>,\n",
              "       <matplotlib.axes._subplots.AxesSubplot object at 0x7f0d9d5062e8>],\n",
              "      dtype=object)"
            ]
          },
          "metadata": {
            "tags": []
          },
          "execution_count": 136
        },
        {
          "output_type": "display_data",
          "data": {
            "image/png": "[encoded data removed]",
            "text/plain": [
              "<Figure size 432x288 with 2 Axes>"
            ]
          },
          "metadata": {
            "tags": []
          }
        }
      ]
    }
  ]
}