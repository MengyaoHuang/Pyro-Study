{
  "nbformat": 4,
  "nbformat_minor": 0,
  "metadata": {
    "colab": {
      "name": "An Introduction to Models and Inference in Pyro.ipynb",
      "version": "0.3.2",
      "provenance": [],
      "collapsed_sections": []
    },
    "kernelspec": {
      "name": "python3",
      "display_name": "Python 3"
    }
  },
  "cells": [
    {
      "cell_type": "markdown",
      "metadata": {
        "id": "gEkC-of9AQwM",
        "colab_type": "text"
      },
      "source": [
        "### 1. An introduction to Models in Pyro\n",
        "\n",
        "A very simple example for modeling\n",
        "- https://www.infoq.cn/article/8-D5SuBqeBUPr2QLLTX4"
      ]
    },
    {
      "cell_type": "code",
      "metadata": {
        "id": "vW-Ue7fNjMXT",
        "colab_type": "code",
        "colab": {}
      },
      "source": [
        "!pip install pyro-ppl"
      ],
      "execution_count": 0,
      "outputs": []
    },
    {
      "cell_type": "code",
      "metadata": {
        "id": "41etSXwhAM9T",
        "colab_type": "code",
        "colab": {}
      },
      "source": [
        "# colab packages install\n",
        "import math\n",
        "import os\n",
        "import torch\n",
        "import torch.distributions.constraints as constraints\n",
        "import pyro\n",
        "from pyro.optim import Adam\n",
        "from pyro.infer import SVI, Trace_ELBO\n",
        "import pyro.distributions as dist"
      ],
      "execution_count": 0,
      "outputs": []
    },
    {
      "cell_type": "code",
      "metadata": {
        "id": "4PiykOFCAFLy",
        "colab_type": "code",
        "colab": {}
      },
      "source": [
        "pyro.set_rng_seed(101)"
      ],
      "execution_count": 0,
      "outputs": []
    },
    {
      "cell_type": "markdown",
      "metadata": {
        "id": "g85mbnuuGtmj",
        "colab_type": "text"
      },
      "source": [
        "### Primitive Stochastic Functions"
      ]
    },
    {
      "cell_type": "code",
      "metadata": {
        "id": "3MsaP8jXAerK",
        "colab_type": "code",
        "outputId": "784bb2ba-643d-4d3e-a420-008c285602ab",
        "colab": {
          "base_uri": "https://localhost:8080/",
          "height": 53
        }
      },
      "source": [
        "# Pyro uses PyTorch’s distribution library\n",
        "# You can also create custom distributions using transforms\n",
        "\n",
        "loc = 0.   # mean zero\n",
        "scale = 1. # unit variance\n",
        "normal = torch.distributions.Normal(loc, scale) # create a normal distribution object\n",
        "x = normal.rsample() # draw a sample from N(0,1)\n",
        "print(\"sample\", x)\n",
        "print(\"log prob\", normal.log_prob(x)) # score the sample from N(0,1)"
      ],
      "execution_count": 11,
      "outputs": [
        {
          "output_type": "stream",
          "text": [
            "sample tensor(-1.3905)\n",
            "log prob tensor(-1.8857)\n"
          ],
          "name": "stdout"
        }
      ]
    },
    {
      "cell_type": "markdown",
      "metadata": {
        "id": "GJMXP_hJIjQh",
        "colab_type": "text"
      },
      "source": [
        "### A Simple Model\n",
        "\n",
        "- Let’s suppose we have a bunch of data with daily mean temperatures and cloud cover. \n",
        "- We want to reason about how temperature interacts with whether it was sunny or cloudy. \n",
        "- A simple stochastic function that describes how that data might have been generated is given by:"
      ]
    },
    {
      "cell_type": "code",
      "metadata": {
        "id": "RAjMUPuPHE7F",
        "colab_type": "code",
        "outputId": "63636fb4-cce4-488b-c01d-7d3bdfa9c566",
        "colab": {
          "base_uri": "https://localhost:8080/",
          "height": 35
        }
      },
      "source": [
        "# definition depends on pytorch only\n",
        "def weather():\n",
        "    cloudy = torch.distributions.Bernoulli(0.3).sample()\n",
        "    # define a binary random variable ‘cloudy’\n",
        "    # convert the value cloudy to a string\n",
        "    cloudy = 'cloudy' if cloudy.item() == 1.0 else 'sunny'\n",
        "    \n",
        "    mean_temp = {'cloudy': 55.0, 'sunny': 75.0}[cloudy]\n",
        "    scale_temp = {'cloudy': 10.0, 'sunny': 15.0}[cloudy]\n",
        "    temp = torch.distributions.Normal(mean_temp, scale_temp).rsample()\n",
        "    return cloudy, temp.item()\n",
        "  \n",
        "weather()"
      ],
      "execution_count": 12,
      "outputs": [
        {
          "output_type": "execute_result",
          "data": {
            "text/plain": [
              "('cloudy', 46.847618103027344)"
            ]
          },
          "metadata": {
            "tags": []
          },
          "execution_count": 12
        }
      ]
    },
    {
      "cell_type": "code",
      "metadata": {
        "id": "OZAmsOdgI6xP",
        "colab_type": "code",
        "outputId": "b52ea81c-a6d0-4597-91ad-69f28c2996ba",
        "colab": {
          "base_uri": "https://localhost:8080/",
          "height": 89
        }
      },
      "source": [
        "# The pyro.sample Primitive\n",
        "# replace the torch.distributions with pyro.distributions \n",
        "# and the .sample() and .rsample() calls with calls to pyro.sample\n",
        "x = pyro.sample(\"my_sample\", pyro.distributions.Normal(loc, scale))\n",
        "print(x)\n",
        "\n",
        "def weather():\n",
        "    cloudy = pyro.sample('cloudy', pyro.distributions.Bernoulli(0.3))\n",
        "    cloudy = 'cloudy' if cloudy.item() == 1.0 else 'sunny'\n",
        "    mean_temp = {'cloudy': 55.0, 'sunny': 75.0}[cloudy]\n",
        "    scale_temp = {'cloudy': 10.0, 'sunny': 15.0}[cloudy]\n",
        "    temp = pyro.sample('temp', pyro.distributions.Normal(mean_temp, scale_temp))\n",
        "    return cloudy, temp.item()\n",
        "\n",
        "for _ in range(3):\n",
        "    print(weather())"
      ],
      "execution_count": 13,
      "outputs": [
        {
          "output_type": "stream",
          "text": [
            "tensor(0.9544)\n",
            "('sunny', 94.37557983398438)\n",
            "('sunny', 72.5186767578125)\n",
            "('cloudy', 54.18292999267578)\n"
          ],
          "name": "stdout"
        }
      ]
    },
    {
      "cell_type": "markdown",
      "metadata": {
        "id": "4QqUzniXKjyJ",
        "colab_type": "text"
      },
      "source": [
        "### Universality: Stochastic Recursion, Higher-order Stochastic Functions, and Random Control Flow"
      ]
    },
    {
      "cell_type": "code",
      "metadata": {
        "id": "T5N0sg1IKPeV",
        "colab_type": "code",
        "outputId": "43657115-da03-4bf0-ae76-f59813d48ca1",
        "colab": {
          "base_uri": "https://localhost:8080/",
          "height": 35
        }
      },
      "source": [
        "# another function that may help simulate ice cream sales\n",
        "def ice_cream_sales():\n",
        "    cloudy, temp = weather()\n",
        "    expected_sales = 200. if cloudy == 'sunny' and temp > 80.0 else 50.\n",
        "    ice_cream = pyro.sample('ice_cream', pyro.distributions.Normal(expected_sales, 10.0))\n",
        "    return ice_cream\n",
        "\n",
        "ice_cream_sales()"
      ],
      "execution_count": 14,
      "outputs": [
        {
          "output_type": "execute_result",
          "data": {
            "text/plain": [
              "tensor(220.6519)"
            ]
          },
          "metadata": {
            "tags": []
          },
          "execution_count": 14
        }
      ]
    },
    {
      "cell_type": "code",
      "metadata": {
        "id": "txRKC_cCKPbt",
        "colab_type": "code",
        "outputId": "9cc3ba79-2487-4edb-969f-9d91109e716a",
        "colab": {
          "base_uri": "https://localhost:8080/",
          "height": 35
        }
      },
      "source": [
        "# define a geometric distribution that \n",
        "# counts the number of failures until the first success\n",
        "def geometric(p, t=None):\n",
        "    if t is None:\n",
        "        t = 0\n",
        "    x = pyro.sample(\"x_{}\".format(t), pyro.distributions.Bernoulli(p))\n",
        "    if x.item() == 1:\n",
        "        return 0\n",
        "    else:\n",
        "        return 1 + geometric(p, t + 1)\n",
        "\n",
        "print(geometric(0.5))"
      ],
      "execution_count": 18,
      "outputs": [
        {
          "output_type": "stream",
          "text": [
            "2\n"
          ],
          "name": "stdout"
        }
      ]
    },
    {
      "cell_type": "code",
      "metadata": {
        "id": "3k5yqU3TKPZd",
        "colab_type": "code",
        "outputId": "c6495bdf-95d5-4215-d42a-8305addd20e8",
        "colab": {
          "base_uri": "https://localhost:8080/",
          "height": 35
        }
      },
      "source": [
        "# define stochastic functions that accept as input or produce as output other stochastic functions\n",
        "def normal_product(loc, scale):\n",
        "    z1 = pyro.sample(\"z1\", pyro.distributions.Normal(loc, scale))\n",
        "    z2 = pyro.sample(\"z2\", pyro.distributions.Normal(loc, scale))\n",
        "    y = z1 * z2\n",
        "    return y\n",
        "\n",
        "# Lambda operations\n",
        "# pyro_linear_fn = lambda x: pyro.module(\"linear\", linear)(x)\n",
        "# define a variable that can plug in the function\n",
        "def make_normal_normal():\n",
        "    mu_latent = pyro.sample(\"mu_latent\", pyro.distributions.Normal(0, 1))\n",
        "    fn = lambda scale: normal_product(mu_latent, scale)\n",
        "    return fn\n",
        "\n",
        "print(make_normal_normal()(1.))"
      ],
      "execution_count": 29,
      "outputs": [
        {
          "output_type": "stream",
          "text": [
            "tensor(-0.0422)\n"
          ],
          "name": "stdout"
        }
      ]
    },
    {
      "cell_type": "markdown",
      "metadata": {
        "id": "vgRPSjeSdDDv",
        "colab_type": "text"
      },
      "source": [
        "### 2. An introduction to Inference in Pyro"
      ]
    },
    {
      "cell_type": "code",
      "metadata": {
        "id": "EKyPEC7hKPWe",
        "colab_type": "code",
        "colab": {}
      },
      "source": [
        "import matplotlib.pyplot as plt\n",
        "import numpy as np\n",
        "import torch\n",
        "\n",
        "import pyro\n",
        "import pyro.infer\n",
        "import pyro.optim\n",
        "import pyro.distributions as dist"
      ],
      "execution_count": 0,
      "outputs": []
    },
    {
      "cell_type": "markdown",
      "metadata": {
        "id": "aj-jIytglb6-",
        "colab_type": "text"
      },
      "source": [
        "### A simple model\n",
        "- model with a guess based on some prior knowledge about the object:\n",
        "  - weight|guess∼Normal(guess,1)\n",
        "  - measurement|guess,weight∼Normal(weight,0.75)\n"
      ]
    },
    {
      "cell_type": "code",
      "metadata": {
        "id": "H9lWSRUlKPR9",
        "colab_type": "code",
        "colab": {}
      },
      "source": [
        "def scale(guess):\n",
        "    weight = pyro.sample(\"weight\", dist.Normal(guess, 1.0))\n",
        "    return pyro.sample(\"measurement\", dist.Normal(weight, 0.75))"
      ],
      "execution_count": 0,
      "outputs": []
    },
    {
      "cell_type": "markdown",
      "metadata": {
        "id": "CUKKMs27mhAF",
        "colab_type": "text"
      },
      "source": [
        "- Suppose we want to sample from the distribution of weight given input guess = 8.5, but now we have observed that measurement == 9.5. That is, we wish to infer the distribution: (weight|guess,measurement=9.5)∼?\n",
        "- Pyro provides the function pyro.condition to allow us to constrain the values of sample statements.\n",
        "  - pyro.condition is a higher-order function that takes a model and a dictionary of observations and returns a new model that has the same input and output signatures but always uses the given values at observed sample statements:"
      ]
    },
    {
      "cell_type": "code",
      "metadata": {
        "id": "KruWrpueKPLv",
        "colab_type": "code",
        "colab": {
          "base_uri": "https://localhost:8080/",
          "height": 35
        },
        "outputId": "bd822955-43f8-4ae2-8d28-438338c58a07"
      },
      "source": [
        "conditioned_scale = pyro.condition(scale, data={\"measurement\": 9.5})\n",
        "\n",
        "def deferred_conditioned_scale(measurement, guess):\n",
        "    return pyro.condition(scale, data={\"measurement\": measurement})(guess)\n",
        "  \n",
        "conditioned_scale"
      ],
      "execution_count": 63,
      "outputs": [
        {
          "output_type": "execute_result",
          "data": {
            "text/plain": [
              "<function pyro.poutine.messenger.Messenger.__call__.<locals>._wraps>"
            ]
          },
          "metadata": {
            "tags": []
          },
          "execution_count": 63
        }
      ]
    },
    {
      "cell_type": "code",
      "metadata": {
        "id": "lGOYAO-qnVAz",
        "colab_type": "code",
        "colab": {
          "base_uri": "https://localhost:8080/",
          "height": 53
        },
        "outputId": "88fa60d0-83a7-4277-ae0f-b1b2aca4b349"
      },
      "source": [
        "import warnings\n",
        "warnings.filterwarnings(\"ignore\")\n",
        "\n",
        "def scale_obs(guess):  # equivalent to conditioned_scale above\n",
        "    weight = pyro.sample(\"weight\", dist.Normal(guess, 1.))\n",
        "    print(weight)\n",
        "     # here we condition on measurement == 9.5\n",
        "    return pyro.sample(\"measurement\", dist.Normal(weight, 1.), obs=10.5)\n",
        "  \n",
        "scale_obs(8.5)"
      ],
      "execution_count": 53,
      "outputs": [
        {
          "output_type": "stream",
          "text": [
            "tensor(7.7602)\n"
          ],
          "name": "stdout"
        },
        {
          "output_type": "execute_result",
          "data": {
            "text/plain": [
              "10.5"
            ]
          },
          "metadata": {
            "tags": []
          },
          "execution_count": 53
        }
      ]
    },
    {
      "cell_type": "markdown",
      "metadata": {
        "id": "L2t9Kgo7pPg0",
        "colab_type": "text"
      },
      "source": [
        "### Flexible Approximate Inference With Guide Functions\n",
        "- Inference algorithms in Pyro, such as pyro.infer.SVI, allow us to use arbitrary stochastic functions, which we will call guide functions or guides, as approximate posterior distributions.\n",
        "- use Pyro’s approximate inference algorithms to estimate the distribution over weight given guess and measurement == data\n",
        "- call guide functions or guides, as approximate posterior distributions. \n",
        "  - Guide functions must satisfy these two criteria to be valid approximations for a particular model:\n",
        "    - 1. all unobserved (i.e., not conditioned) sample statements that appear in the model appear in the guide. \n",
        "    - 2. the guide has the same input signature as the model (i.e., takes the same arguments)"
      ]
    },
    {
      "cell_type": "code",
      "metadata": {
        "id": "TTgeWpLtnUrV",
        "colab_type": "code",
        "colab": {
          "base_uri": "https://localhost:8080/",
          "height": 35
        },
        "outputId": "4d219a2f-207f-4f5b-da22-f0636776ad60"
      },
      "source": [
        "#  it turns out that the true posterior distribution over weight \n",
        "# given guess and measurement is actually Normal(9.14,0.6)\n",
        "def perfect_guide(guess):\n",
        "    loc =(0.75**2 * guess + 9.5) / (1 + 0.75**2) # 9.14\n",
        "    scale = np.sqrt(0.75**2/(1 + 0.75**2)) # 0.6\n",
        "    return pyro.sample(\"weight\", dist.Normal(loc, scale))\n",
        "  \n",
        "perfect_guide(8.5)"
      ],
      "execution_count": 57,
      "outputs": [
        {
          "output_type": "execute_result",
          "data": {
            "text/plain": [
              "tensor(9.1667)"
            ]
          },
          "metadata": {
            "tags": []
          },
          "execution_count": 57
        }
      ]
    },
    {
      "cell_type": "markdown",
      "metadata": {
        "id": "J1MQFeNkwGeM",
        "colab_type": "text"
      },
      "source": [
        "### Parametrized Stochastic Functions and Variational Inference\n",
        "- use the top-level function pyro.param to specify a family of guides indexed by named parameters, and search for the member of that family that is the best approximation according to some loss function. This approach to approximate posterior inference is called variational inference.\n",
        "- Pyro training\n",
        "  - Parameters are always real-valued tensors\n",
        "  -  We compute Monte Carlo estimates of a loss function from samples of execution histories of the model and guide\n",
        "  - We use stochastic gradient descent to search for the optimal parameters."
      ]
    },
    {
      "cell_type": "code",
      "metadata": {
        "id": "uLG7ev88vXDZ",
        "colab_type": "code",
        "colab": {}
      },
      "source": [
        "# parametrize a and b in scale_posterior_guide instead of specifying them by hand\n",
        "def scale_parametrized_guide(guess):\n",
        "    a = pyro.param(\"a\", torch.tensor(guess))\n",
        "    b = pyro.param(\"b\", torch.tensor(1.))\n",
        "    return pyro.sample(\"weight\", dist.Normal(a, torch.abs(b)))\n",
        "  \n",
        "from torch.distributions import constraints\n",
        "# use constraints to force variables to satisfy model condition\n",
        "def scale_parametrized_guide_constrained(guess):\n",
        "    a = pyro.param(\"a\", torch.tensor(guess))\n",
        "    b = pyro.param(\"b\", torch.tensor(1.), constraint=constraints.positive)\n",
        "    return pyro.sample(\"weight\", dist.Normal(a, b))  # no more torch.abs"
      ],
      "execution_count": 0,
      "outputs": []
    },
    {
      "cell_type": "markdown",
      "metadata": {
        "id": "kmF9CkXQxOhK",
        "colab_type": "text"
      },
      "source": [
        "### Pyro SVI simple example"
      ]
    },
    {
      "cell_type": "code",
      "metadata": {
        "id": "Iq54Bfl-wOD4",
        "colab_type": "code",
        "colab": {
          "base_uri": "https://localhost:8080/",
          "height": 331
        },
        "outputId": "3d7359e9-c78e-4632-b950-7ab1003dc9e7"
      },
      "source": [
        "guess = 8.5\n",
        "\n",
        "pyro.clear_param_store()\n",
        "svi = pyro.infer.SVI(model=conditioned_scale,\n",
        "                     guide=scale_parametrized_guide,\n",
        "                     optim=pyro.optim.SGD({\"lr\": 0.001, \"momentum\":0.1}),\n",
        "                     loss=pyro.infer.Trace_ELBO())\n",
        "\n",
        "\n",
        "losses, a,b  = [], [], []\n",
        "num_steps = 2500\n",
        "for t in range(num_steps):\n",
        "    losses.append(svi.step(guess))\n",
        "    a.append(pyro.param(\"a\").item())\n",
        "    b.append(pyro.param(\"b\").item())\n",
        "\n",
        "plt.plot(losses)\n",
        "plt.title(\"ELBO\")\n",
        "plt.xlabel(\"step\")\n",
        "plt.ylabel(\"loss\");\n",
        "print('a = ',pyro.param(\"a\").item())\n",
        "print('b = ', pyro.param(\"b\").item())"
      ],
      "execution_count": 60,
      "outputs": [
        {
          "output_type": "stream",
          "text": [
            "a =  9.149941444396973\n",
            "b =  0.6199020147323608\n"
          ],
          "name": "stdout"
        },
        {
          "output_type": "display_data",
          "data": {
            "image/png": "[encoded data removed]",
            "text/plain": [
              "<Figure size 432x288 with 1 Axes>"
            ]
          },
          "metadata": {
            "tags": []
          }
        }
      ]
    },
    {
      "cell_type": "code",
      "metadata": {
        "id": "KU4xED0jvhiB",
        "colab_type": "code",
        "colab": {
          "base_uri": "https://localhost:8080/",
          "height": 297
        },
        "outputId": "b6f1903e-c22c-4b57-adc9-20ce2fc7f699"
      },
      "source": [
        "plt.subplot(1,2,1)\n",
        "plt.plot([0,num_steps],[9.14,9.14], 'k:')\n",
        "plt.plot(a)\n",
        "plt.ylabel('a')\n",
        "\n",
        "plt.subplot(1,2,2)\n",
        "plt.ylabel('b')\n",
        "plt.plot([0,num_steps],[0.6,0.6], 'k:')\n",
        "plt.plot(b)\n",
        "plt.tight_layout()"
      ],
      "execution_count": 64,
      "outputs": [
        {
          "output_type": "display_data",
          "data": {
            "image/png": "[encoded data removed]",
            "text/plain": [
              "<Figure size 432x288 with 2 Axes>"
            ]
          },
          "metadata": {
            "tags": []
          }
        }
      ]
    }
  ]
}