{
  "nbformat": 4,
  "nbformat_minor": 0,
  "metadata": {
    "colab": {
      "name": "BCCA Normalizing Flow via PyTorch implementation.ipynb",
      "provenance": [],
      "collapsed_sections": []
    },
    "kernelspec": {
      "name": "python3",
      "display_name": "Python 3"
    },
    "widgets": {
      "application/vnd.jupyter.widget-state+json": {
        "e93ab8b873414a3c8be00d3f3d43b968": {
          "model_module": "@jupyter-widgets/controls",
          "model_name": "HBoxModel",
          "state": {
            "_view_name": "HBoxView",
            "_dom_classes": [],
            "_model_name": "HBoxModel",
            "_view_module": "@jupyter-widgets/controls",
            "_model_module_version": "1.5.0",
            "_view_count": null,
            "_view_module_version": "1.5.0",
            "box_style": "",
            "layout": "IPY_MODEL_dd8e19c8b08d496483bb387ffc81c3b0",
            "_model_module": "@jupyter-widgets/controls",
            "children": [
              "IPY_MODEL_54a644aab5024b3b925bb798111392ca",
              "IPY_MODEL_7c3ce30329b74bf1832f0b645cb3a299"
            ]
          }
        },
        "5fdb5d4d78d5434d8c60963b329134ef": {
          "model_module": "@jupyter-widgets/controls",
          "model_name": "HBoxModel",
          "state": {
            "_view_name": "HBoxView",
            "_dom_classes": [],
            "_model_name": "HBoxModel",
            "_view_module": "@jupyter-widgets/controls",
            "_model_module_version": "1.5.0",
            "_view_count": null,
            "_view_module_version": "1.5.0",
            "box_style": "",
            "layout": "IPY_MODEL_7c7ee9bcd42147608aa2dcd0f19d0510",
            "_model_module": "@jupyter-widgets/controls",
            "children": [
              "IPY_MODEL_715e33129f6e48bc8830c47937a28839",
              "IPY_MODEL_afa09e39fb6e4ec680a6604391fbe0d6"
            ]
          }
        },
        "7e3b19f0c04e4b1fa4f35fd3054bc123": {
          "model_module": "@jupyter-widgets/controls",
          "model_name": "HBoxModel",
          "state": {
            "_view_name": "HBoxView",
            "_dom_classes": [],
            "_model_name": "HBoxModel",
            "_view_module": "@jupyter-widgets/controls",
            "_model_module_version": "1.5.0",
            "_view_count": null,
            "_view_module_version": "1.5.0",
            "box_style": "",
            "layout": "IPY_MODEL_9726da9cc13c4241b52c562132f7fa63",
            "_model_module": "@jupyter-widgets/controls",
            "children": [
              "IPY_MODEL_7affa4682fe44bbeb2c9f2b4bb129121",
              "IPY_MODEL_743079324f954579855085053caa596e"
            ]
          }
        },
        "63a594dc2be247bb84c15859d8de51bc": {
          "model_module": "@jupyter-widgets/controls",
          "model_name": "HBoxModel",
          "state": {
            "_view_name": "HBoxView",
            "_dom_classes": [],
            "_model_name": "HBoxModel",
            "_view_module": "@jupyter-widgets/controls",
            "_model_module_version": "1.5.0",
            "_view_count": null,
            "_view_module_version": "1.5.0",
            "box_style": "",
            "layout": "IPY_MODEL_d18ae11bfbde4029b00a96c2c5d6b228",
            "_model_module": "@jupyter-widgets/controls",
            "children": [
              "IPY_MODEL_276d898913d74dd3b68248d38ca09046",
              "IPY_MODEL_2307d01ebf4946c1bedf10225a7b7dc3"
            ]
          }
        }
      }
    }
  },
  "cells": [
    {
      "cell_type": "markdown",
      "metadata": {
        "id": "2icquEncdqlX",
        "colab_type": "text"
      },
      "source": [
        "#### **Normalizing Flow via PyTorch implementation**\n",
        "- https://github.com/ritheshkumar95/pytorch-normalizing-flows\n",
        "- https://github.com/MengyaoHuang/Pyro-Study/blob/master/variance_inference.ipynb"
      ]
    },
    {
      "cell_type": "code",
      "metadata": {
        "id": "xWs0OcEkdlxG",
        "colab_type": "code",
        "colab": {}
      },
      "source": [
        "!pip install pyro-ppl"
      ],
      "execution_count": 0,
      "outputs": []
    },
    {
      "cell_type": "markdown",
      "metadata": {
        "id": "FoklYAMki4Cf",
        "colab_type": "text"
      },
      "source": [
        "#### **Bayesian Linear Regression ADVI using PyTorch**\n",
        "- https://luiarthur.github.io/statorial/varinf/linregpy/\n",
        "- Introduction to Automatic Differentiation Variational Inference: https://luiarthur.github.io/statorial/varinf/introvi/"
      ]
    },
    {
      "cell_type": "markdown",
      "metadata": {
        "id": "0aNta5RimhPv",
        "colab_type": "text"
      },
      "source": [
        "#### **Bayesian Regression Introduction (Part 1)**\n",
        "- https://pyro.ai/examples/bayesian_regression.html"
      ]
    },
    {
      "cell_type": "code",
      "metadata": {
        "id": "ks9Vv2gfmftl",
        "colab_type": "code",
        "colab": {}
      },
      "source": [
        "# Dataset = {(Xi,yi)}\n",
        "# Linear regression: Y = WX + b + eps\n",
        "# W and b: learnable parameters - W is a matrix of weights and b is a bias vector\n",
        "# eps: observation noise\n",
        "\n",
        "import os\n",
        "from functools import partial\n",
        "import torch\n",
        "import numpy as np\n",
        "import pandas as pd\n",
        "import seaborn as sns\n",
        "import matplotlib.pyplot as plt\n",
        "\n",
        "import pyro\n",
        "import pyro.distributions as dist\n",
        "\n",
        "# for CI testing\n",
        "smoke_test = ('CI' in os.environ)\n",
        "assert pyro.__version__.startswith('1.2.1')\n",
        "pyro.enable_validation(True)\n",
        "pyro.set_rng_seed(1)\n",
        "pyro.enable_validation(True)\n",
        "\n",
        "# Set matplotlib settings\n",
        "%matplotlib inline\n",
        "plt.style.use('default')"
      ],
      "execution_count": 0,
      "outputs": []
    },
    {
      "cell_type": "code",
      "metadata": {
        "id": "Wm4RZoBYmfn2",
        "colab_type": "code",
        "outputId": "19f585c8-5b98-4168-d03c-e887c4531e2d",
        "colab": {
          "base_uri": "https://localhost:8080/",
          "height": 136
        }
      },
      "source": [
        "DATA_URL = \"https://d2hg8soec8ck9v.cloudfront.net/datasets/rugged_data.csv\"\n",
        "data = pd.read_csv(DATA_URL, encoding=\"ISO-8859-1\")\n",
        "df = data[[\"cont_africa\", \"rugged\", \"rgdppc_2000\"]]\n",
        "df = df[np.isfinite(df.rgdppc_2000)]\n",
        "df[\"rgdppc_2000\"] = np.log(df[\"rgdppc_2000\"])\n",
        "# do data cleaning steps for pre-training\n",
        "print(df.shape)\n",
        "print(df.head(5))"
      ],
      "execution_count": 3,
      "outputs": [
        {
          "output_type": "stream",
          "text": [
            "(170, 3)\n",
            "   cont_africa  rugged  rgdppc_2000\n",
            "2            1   0.858     7.492609\n",
            "4            0   3.427     8.216929\n",
            "7            0   0.769     9.933263\n",
            "8            0   0.775     9.407032\n",
            "9            0   2.688     7.792343\n"
          ],
          "name": "stdout"
        }
      ]
    },
    {
      "cell_type": "code",
      "metadata": {
        "id": "ZG6JZQ5EoL45",
        "colab_type": "code",
        "outputId": "3dfd8f51-3de3-4616-b84e-85d18024732a",
        "colab": {
          "base_uri": "https://localhost:8080/",
          "height": 333
        }
      },
      "source": [
        "# two-dimensional visualization via two distinct groups\n",
        "fig, ax = plt.subplots(nrows=1, ncols=2, figsize=(6, 3), sharey=True)\n",
        "african_nations = df[df[\"cont_africa\"] == 1]\n",
        "non_african_nations = df[df[\"cont_africa\"] == 0]\n",
        "sns.scatterplot(non_african_nations[\"rugged\"], non_african_nations[\"rgdppc_2000\"], ax=ax[0])\n",
        "ax[0].set(xlabel=\"Terrain Ruggedness Index\", ylabel=\"log GDP (2000)\", title=\"Non African Nations\")\n",
        "sns.scatterplot(african_nations[\"rugged\"], african_nations[\"rgdppc_2000\"], ax=ax[1])\n",
        "ax[1].set(xlabel=\"Terrain Ruggedness Index\", ylabel=\"log GDP (2000)\", title=\"African Nations\");"
      ],
      "execution_count": 4,
      "outputs": [
        {
          "output_type": "display_data",
          "data": {
            "image/png": "[encoded data removed]",
            "text/plain": [
              "<Figure size 600x300 with 2 Axes>"
            ]
          },
          "metadata": {
            "tags": []
          }
        }
      ]
    },
    {
      "cell_type": "markdown",
      "metadata": {
        "id": "2xzUNTkXpHGA",
        "colab_type": "text"
      },
      "source": [
        "- We would like to predict log GDP per capita of a nation as a function of two features from the dataset - whether the nation is in Africa, and its Terrain Ruggedness Index. We will create a trivial class called PyroModule[nn.Linear] that subclasses PyroModule and torch.nn.Linear. PyroModule is very similar to PyTorch’s nn.Module, but additionally supports Pyro primitives as attributes that can be modified by Pyro’s effect handlers (see the next section on how we can have module attributes that are pyro.sample primitives). \n",
        "\n",
        "- Some general notes:\n",
        "  - Learnable parameters in PyTorch modules are instances of nn.Parameter, in this case the weight and bias parameters of the nn.Linear class. When declared inside a PyroModule as attributes, these are automatically registered in Pyro’s param store. While this model does not require us to constrain the value of these parameters during optimization, this can also be easily achieved in PyroModule using the PyroParam statement.\n",
        "  -Note that while the forward method of PyroModule[nn.Linear] inherits from nn.Linear, it can also be easily overridden. e.g. in the case of logistic regression, we apply a sigmoid transformation to the linear predictor."
      ]
    },
    {
      "cell_type": "code",
      "metadata": {
        "id": "fVg9fn7UoL3v",
        "colab_type": "code",
        "colab": {}
      },
      "source": [
        "from torch import nn\n",
        "from pyro.nn import PyroModule\n",
        "# check if Pyro nn.Linear model is a sub-class of nn.Linear and PyroModule\n",
        "assert issubclass(PyroModule[nn.Linear], nn.Linear)\n",
        "assert issubclass(PyroModule[nn.Linear], PyroModule)"
      ],
      "execution_count": 0,
      "outputs": []
    },
    {
      "cell_type": "code",
      "metadata": {
        "id": "Ws_no-ktoLzc",
        "colab_type": "code",
        "outputId": "aa7919ce-1f2f-4b22-d4f7-7e34b818a681",
        "colab": {
          "base_uri": "https://localhost:8080/",
          "height": 119
        }
      },
      "source": [
        "# We use the mean squared error (MSE) as our loss and Adam as our optimizer from the torch.optim module. \n",
        "# We would like to optimize the parameters of our model, namely the weight and bias parameters of the network, \n",
        "# which corresponds to our regression coefficents and the intercept.\n",
        "\n",
        "# Dataset: Add a feature to capture the interaction between \"cont_africa\" and \"rugged\"\n",
        "df[\"cont_africa_x_rugged\"] = df[\"cont_africa\"] * df[\"rugged\"]\n",
        "data = torch.tensor(df[[\"cont_africa\", \"rugged\", \"cont_africa_x_rugged\", \"rgdppc_2000\"]].values, dtype=torch.float)\n",
        "# turn input data into tensor\n",
        "x_data, y_data = data[:, :-1], data[:, -1]\n",
        "print(x_data[:5])\n",
        "print(y_data[:5])"
      ],
      "execution_count": 6,
      "outputs": [
        {
          "output_type": "stream",
          "text": [
            "tensor([[1.0000, 0.8580, 0.8580],\n",
            "        [0.0000, 3.4270, 0.0000],\n",
            "        [0.0000, 0.7690, 0.0000],\n",
            "        [0.0000, 0.7750, 0.0000],\n",
            "        [0.0000, 2.6880, 0.0000]])\n",
            "tensor([7.4926, 8.2169, 9.9333, 9.4070, 7.7923])\n"
          ],
          "name": "stdout"
        }
      ]
    },
    {
      "cell_type": "code",
      "metadata": {
        "id": "ODmmoB0moLyc",
        "colab_type": "code",
        "outputId": "60d31f58-ceec-4fca-a15e-1e3c15239bc7",
        "colab": {
          "base_uri": "https://localhost:8080/",
          "height": 578
        }
      },
      "source": [
        "# Regression model\n",
        "linear_reg_model = PyroModule[nn.Linear](3, 1)\n",
        "\n",
        "# Define loss and optimize\n",
        "loss_fn = torch.nn.MSELoss(reduction='sum')\n",
        "optim = torch.optim.Adam(linear_reg_model.parameters(), lr=0.05)\n",
        "num_iterations = 1500 if not smoke_test else 2\n",
        "\n",
        "def train():\n",
        "    # run the model forward on the data\n",
        "    y_pred = linear_reg_model(x_data).squeeze(-1)\n",
        "    # calculate the mse loss\n",
        "    loss = loss_fn(y_pred, y_data)\n",
        "    # initialize gradients to zero\n",
        "    optim.zero_grad()\n",
        "    # backpropagate\n",
        "    loss.backward()\n",
        "    # take a gradient step\n",
        "    optim.step()\n",
        "    return loss\n",
        "train()\n",
        "\n",
        "for j in range(num_iterations):\n",
        "    loss = train()\n",
        "    if (j + 1) % 50 == 0:\n",
        "        print(\"[iteration %04d] loss: %.4f\" % (j + 1, loss.item()))\n",
        "\n",
        "# Inspect learned parameters\n",
        "print(\"Learned parameters:\")\n",
        "for name, param in linear_reg_model.named_parameters():\n",
        "    print(name, param.data.numpy())"
      ],
      "execution_count": 7,
      "outputs": [
        {
          "output_type": "stream",
          "text": [
            "[iteration 0050] loss: 3124.7378\n",
            "[iteration 0100] loss: 1600.7030\n",
            "[iteration 0150] loss: 1102.5784\n",
            "[iteration 0200] loss: 829.2407\n",
            "[iteration 0250] loss: 634.1833\n",
            "[iteration 0300] loss: 485.6821\n",
            "[iteration 0350] loss: 374.5699\n",
            "[iteration 0400] loss: 294.7163\n",
            "[iteration 0450] loss: 239.7163\n",
            "[iteration 0500] loss: 203.3574\n",
            "[iteration 0550] loss: 180.2554\n",
            "[iteration 0600] loss: 166.1327\n",
            "[iteration 0650] loss: 157.8207\n",
            "[iteration 0700] loss: 153.1092\n",
            "[iteration 0750] loss: 150.5364\n",
            "[iteration 0800] loss: 149.1829\n",
            "[iteration 0850] loss: 148.4970\n",
            "[iteration 0900] loss: 148.1622\n",
            "[iteration 0950] loss: 148.0049\n",
            "[iteration 1000] loss: 147.9338\n",
            "[iteration 1050] loss: 147.9028\n",
            "[iteration 1100] loss: 147.8899\n",
            "[iteration 1150] loss: 147.8846\n",
            "[iteration 1200] loss: 147.8826\n",
            "[iteration 1250] loss: 147.8819\n",
            "[iteration 1300] loss: 147.8817\n",
            "[iteration 1350] loss: 147.8816\n",
            "[iteration 1400] loss: 147.8815\n",
            "[iteration 1450] loss: 147.8815\n",
            "[iteration 1500] loss: 147.8815\n",
            "Learned parameters:\n",
            "weight [[-1.9478616  -0.20278706  0.39330402]]\n",
            "bias [9.223082]\n"
          ],
          "name": "stdout"
        }
      ]
    },
    {
      "cell_type": "code",
      "metadata": {
        "id": "ynLdAxZQoLxQ",
        "colab_type": "code",
        "outputId": "520d6d03-3e63-4042-df91-00165dc51957",
        "colab": {
          "base_uri": "https://localhost:8080/",
          "height": 333
        }
      },
      "source": [
        "# fit visualization\n",
        "fit = df.copy()\n",
        "fit[\"mean\"] = linear_reg_model(x_data).detach().cpu().numpy()\n",
        "\n",
        "fig, ax = plt.subplots(nrows=1, ncols=2, figsize=(6, 3), sharey=True)\n",
        "african_nations = fit[fit[\"cont_africa\"] == 1]\n",
        "non_african_nations = fit[fit[\"cont_africa\"] == 0]\n",
        "\n",
        "ax[0].plot(non_african_nations[\"rugged\"], non_african_nations[\"rgdppc_2000\"], \"o\")\n",
        "ax[0].plot(non_african_nations[\"rugged\"], non_african_nations[\"mean\"], linewidth=2)\n",
        "ax[0].set(xlabel=\"Terrain Ruggedness Index\", ylabel=\"log GDP (2000)\", title=\"Non African Nations\")\n",
        "\n",
        "ax[1].plot(african_nations[\"rugged\"], african_nations[\"rgdppc_2000\"], \"o\")\n",
        "ax[1].plot(african_nations[\"rugged\"], african_nations[\"mean\"], linewidth=2)\n",
        "ax[1].set(xlabel=\"Terrain Ruggedness Index\", ylabel=\"log GDP (2000)\", title=\"African Nations\");"
      ],
      "execution_count": 8,
      "outputs": [
        {
          "output_type": "display_data",
          "data": {
            "image/png": "[encoded data removed]",
            "text/plain": [
              "<Figure size 600x300 with 2 Axes>"
            ]
          },
          "metadata": {
            "tags": []
          }
        }
      ]
    },
    {
      "cell_type": "markdown",
      "metadata": {
        "id": "sdiMyExCuodR",
        "colab_type": "text"
      },
      "source": [
        "#### **Bayesian Regression with Pyro’s Stochastic Variational Inference (SVI)**"
      ]
    },
    {
      "cell_type": "markdown",
      "metadata": {
        "id": "aPxYND0_uvA5",
        "colab_type": "text"
      },
      "source": [
        "- In order to make our linear regression Bayesian, we need to put priors on the parameters w and b. These are distributions that represent our prior belief about reasonable values for w and b (before observing any data).\n",
        "- Making a Bayesian model for linear regression is very intuitive using PyroModule as earlier. Note the following:\n",
        "  - The BayesianRegression.forward method specifies the generative process. We generate the mean value of the response by calling the linear module (which, as you saw, samples the weight and bias parameters from the prior and returns a value for the mean response). Finally we use the obs argument to the pyro.sample statement to condition on the observed data y_data with a learned observation noise sigma. The model returns the regression line given by the variable mean.\n"
      ]
    },
    {
      "cell_type": "code",
      "metadata": {
        "id": "tMGG04Xmy4E9",
        "colab_type": "code",
        "colab": {}
      },
      "source": [
        "from pyro.nn import PyroSample"
      ],
      "execution_count": 0,
      "outputs": []
    },
    {
      "cell_type": "code",
      "metadata": {
        "id": "Z31o3k_0zgOs",
        "colab_type": "code",
        "outputId": "02025e71-d919-49a8-c366-aa6a99b3afe7",
        "colab": {
          "base_uri": "https://localhost:8080/",
          "height": 136
        }
      },
      "source": [
        "# nn.Linear: Applies a linear transformation to the incoming data: y = xA^T + b\n",
        "m = nn.Linear(2, 3)\n",
        "input_ = torch.randn(6, 2)\n",
        "output = m(input_)\n",
        "print(output.size())\n",
        "print(output)"
      ],
      "execution_count": 10,
      "outputs": [
        {
          "output_type": "stream",
          "text": [
            "torch.Size([6, 3])\n",
            "tensor([[ 1.3022,  0.4144,  0.0826],\n",
            "        [-0.3320, -0.1006,  0.3380],\n",
            "        [ 0.4853, -0.0099,  0.2252],\n",
            "        [ 0.2930,  0.2102,  0.2301],\n",
            "        [ 1.4662,  0.3729,  0.0653],\n",
            "        [ 0.4809,  0.1777,  0.2090]], grad_fn=<AddmmBackward>)\n"
          ],
          "name": "stdout"
        }
      ]
    },
    {
      "cell_type": "code",
      "metadata": {
        "id": "as9KF9ugoLwH",
        "colab_type": "code",
        "colab": {}
      },
      "source": [
        "class BayesianRegression(PyroModule):\n",
        "    def __init__(self, in_features, out_features):\n",
        "        super().__init__()\n",
        "        # These statements allow us to place a prior over the weight and bias parameters, \n",
        "        # instead of treating them as fixed learnable parameters. \n",
        "        # For the bias component, we set a reasonably wide prior since it is likely to be substantially above 0.\n",
        "        self.linear = PyroModule[nn.Linear](in_features, out_features)\n",
        "        self.linear.weight = PyroSample(dist.Normal(0., 1.).expand([out_features, in_features]).to_event(2))\n",
        "        self.linear.bias = PyroSample(dist.Normal(0., 10.).expand([out_features]).to_event(1))\n",
        "\n",
        "    # specify the generative process\n",
        "    # generate the mean value of the response by calling the linear module \n",
        "    # (which, as you saw, samples the weight and bias parameters from the prior and returns a value for the mean response)\n",
        "    def forward(self, x, y=None):\n",
        "        sigma = pyro.sample(\"sigma\", dist.Uniform(0., 10.))\n",
        "        # Remove single-dimensional entries from the shape of an array\n",
        "        mean = self.linear(x).squeeze(-1)\n",
        "        with pyro.plate(\"data\", x.shape[0]):\n",
        "            obs = pyro.sample(\"obs\", dist.Normal(mean, sigma), obs=y)\n",
        "        return mean"
      ],
      "execution_count": 0,
      "outputs": []
    },
    {
      "cell_type": "code",
      "metadata": {
        "id": "rw_nk4431RAw",
        "colab_type": "code",
        "colab": {}
      },
      "source": [
        "# First use an auto-guide to do inference - Stochastic Variational Inference (SVI)\n",
        "# Find an approximate posterior distribution from this family that has the lowest KL divergence from the true posterior.\n",
        "\n",
        "# Use the AutoDiagonalNormal guide that models the distribution of unobserved parameters in the model as a Gaussian with diagonal covariance, \n",
        "# i.e. it assumes that there is no correlation amongst the latent variables (quite a strong modeling assumption as we shall see in Part II). \n",
        "# Under the hood, this defines a guide that uses a Normal distribution with learnable parameters corresponding to each sample statement in the model. \n",
        "# e.g. in our case, this distribution should have a size of (5,) correspoding to the 3 regression coefficients for each of the terms, \n",
        "# and 1 component contributed each by the intercept term and sigma in the model.\n",
        "from pyro.infer.autoguide import AutoDiagonalNormal\n",
        "\n",
        "model = BayesianRegression(3, 1)\n",
        "guide = AutoDiagonalNormal(model)"
      ],
      "execution_count": 0,
      "outputs": []
    },
    {
      "cell_type": "code",
      "metadata": {
        "id": "_j_9d5qGoLqC",
        "colab_type": "code",
        "outputId": "cb637fff-bcf6-4dd2-866b-91e53abad02b",
        "colab": {
          "base_uri": "https://localhost:8080/",
          "height": 272
        }
      },
      "source": [
        "# Optimizing the Evidence Lower Bound\n",
        "# We will use stochastic variational inference (SVI) (for an introduction to SVI, see SVI Part I) for doing inference. \n",
        "# Just like in the non-Bayesian linear regression model, each iteration of our training loop will take a gradient step, \n",
        "# with the difference that in this case, we’ll use the Evidence Lower Bound (ELBO) objective \n",
        "# instead of the MSE loss by constructing a Trace_ELBO object that we pass to SVI.\n",
        "from pyro.infer import SVI, Trace_ELBO\n",
        "\n",
        "adam = pyro.optim.Adam({\"lr\": 0.03})\n",
        "svi = SVI(model, guide, adam, loss=Trace_ELBO())\n",
        "\n",
        "pyro.clear_param_store()\n",
        "for j in range(num_iterations):\n",
        "    # calculate the loss and take a gradient step\n",
        "    loss = svi.step(x_data, y_data)\n",
        "    if j % 100 == 0:\n",
        "        print(\"[iteration %04d] loss: %.4f\" % (j + 1, loss / len(data)))"
      ],
      "execution_count": 13,
      "outputs": [
        {
          "output_type": "stream",
          "text": [
            "[iteration 0001] loss: 6.8538\n",
            "[iteration 0101] loss: 3.7030\n",
            "[iteration 0201] loss: 3.3925\n",
            "[iteration 0301] loss: 3.2693\n",
            "[iteration 0401] loss: 2.9952\n",
            "[iteration 0501] loss: 2.6224\n",
            "[iteration 0601] loss: 2.0546\n",
            "[iteration 0701] loss: 1.4772\n",
            "[iteration 0801] loss: 1.4652\n",
            "[iteration 0901] loss: 1.4633\n",
            "[iteration 1001] loss: 1.4825\n",
            "[iteration 1101] loss: 1.4789\n",
            "[iteration 1201] loss: 1.4464\n",
            "[iteration 1301] loss: 1.4656\n",
            "[iteration 1401] loss: 1.4661\n"
          ],
          "name": "stdout"
        }
      ]
    },
    {
      "cell_type": "code",
      "metadata": {
        "id": "JKE-1XZCoLo8",
        "colab_type": "code",
        "outputId": "782746de-7b36-4ba5-f7f3-10e2bfe8a07a",
        "colab": {
          "base_uri": "https://localhost:8080/",
          "height": 68
        }
      },
      "source": [
        "# We can examine the optimized parameter values by fetching from Pyro’s param store\n",
        "guide.requires_grad_(False)\n",
        "\n",
        "for name, value in pyro.get_param_store().items():\n",
        "    print(name, pyro.param(name))"
      ],
      "execution_count": 14,
      "outputs": [
        {
          "output_type": "stream",
          "text": [
            "AutoDiagonalNormal.loc Parameter containing:\n",
            "tensor([-2.2423, -1.8192, -0.1705,  0.3796,  9.1807])\n",
            "AutoDiagonalNormal.scale tensor([0.0630, 0.1278, 0.0410, 0.0751, 0.0672])\n"
          ],
          "name": "stdout"
        }
      ]
    },
    {
      "cell_type": "code",
      "metadata": {
        "id": "l7NRBbdWoLhJ",
        "colab_type": "code",
        "outputId": "784090fc-7ea7-4ae6-a09c-791f3101e2ac",
        "colab": {
          "base_uri": "https://localhost:8080/",
          "height": 102
        }
      },
      "source": [
        "# To look at the distribution of the latent parameters more clearly, \n",
        "# we can make use of the AutoDiagonalNormal.quantiles method which will unpack the latent samples from the autoguide, \n",
        "# and automatically constrain them to the site’s support (e.g. the variable sigma must lie in (0, 10)). \n",
        "\n",
        "# We see that the median values for the parameters are quite close to the Maximum Likelihood point estimates we obtained from our first model.\n",
        "guide.quantiles([0.25, 0.5, 0.75])"
      ],
      "execution_count": 15,
      "outputs": [
        {
          "output_type": "execute_result",
          "data": {
            "text/plain": [
              "{'linear.bias': [tensor([9.1354]), tensor([9.1807]), tensor([9.2261])],\n",
              " 'linear.weight': [tensor([[-1.9054, -0.1982,  0.3289]]),\n",
              "  tensor([[-1.8192, -0.1705,  0.3796]]),\n",
              "  tensor([[-1.7330, -0.1429,  0.4302]])],\n",
              " 'sigma': [tensor(0.9239), tensor(0.9601), tensor(0.9976)]}"
            ]
          },
          "metadata": {
            "tags": []
          },
          "execution_count": 15
        }
      ]
    },
    {
      "cell_type": "code",
      "metadata": {
        "id": "wls8AbLFoLbO",
        "colab_type": "code",
        "colab": {}
      },
      "source": [
        "from pyro.infer import Predictive\n",
        "\n",
        "def summary(samples):\n",
        "    site_stats = {}\n",
        "    for k, v in samples.items():\n",
        "        site_stats[k] = {\n",
        "            \"mean\": torch.mean(v, 0),\n",
        "            \"std\": torch.std(v, 0),\n",
        "            \"5%\": v.kthvalue(int(len(v) * 0.05), dim=0)[0],\n",
        "            \"95%\": v.kthvalue(int(len(v) * 0.95), dim=0)[0],\n",
        "        }\n",
        "    return site_stats\n",
        "\n",
        "predictive = Predictive(model, guide=guide, num_samples=800, return_sites=(\"linear.weight\", \"obs\", \"_RETURN\"))\n",
        "samples = predictive(x_data)\n",
        "pred_summary = summary(samples)"
      ],
      "execution_count": 0,
      "outputs": []
    },
    {
      "cell_type": "code",
      "metadata": {
        "id": "CQTtbmqYoLaY",
        "colab_type": "code",
        "colab": {}
      },
      "source": [
        "mu = pred_summary[\"_RETURN\"]\n",
        "y = pred_summary[\"obs\"]\n",
        "predictions = pd.DataFrame({\n",
        "    \"cont_africa\": x_data[:, 0],\n",
        "    \"rugged\": x_data[:, 1],\n",
        "    \"mu_mean\": mu[\"mean\"],\n",
        "    \"mu_perc_5\": mu[\"5%\"],\n",
        "    \"mu_perc_95\": mu[\"95%\"],\n",
        "    \"y_mean\": y[\"mean\"],\n",
        "    \"y_perc_5\": y[\"5%\"],\n",
        "    \"y_perc_95\": y[\"95%\"],\n",
        "    \"true_gdp\": y_data,\n",
        "})"
      ],
      "execution_count": 0,
      "outputs": []
    },
    {
      "cell_type": "code",
      "metadata": {
        "id": "cb3PpbNIoLWb",
        "colab_type": "code",
        "outputId": "1cd2a015-919b-4c06-f509-1a8361652774",
        "colab": {
          "base_uri": "https://localhost:8080/",
          "height": 333
        }
      },
      "source": [
        "fig, ax = plt.subplots(nrows=1, ncols=2, figsize=(6, 3), sharey=True)\n",
        "african_nations = predictions[predictions[\"cont_africa\"] == 1]\n",
        "non_african_nations = predictions[predictions[\"cont_africa\"] == 0]\n",
        "african_nations = african_nations.sort_values(by=[\"rugged\"])\n",
        "non_african_nations = non_african_nations.sort_values(by=[\"rugged\"])\n",
        "\n",
        "# Regression line 90% CI\n",
        "ax[0].plot(non_african_nations[\"rugged\"], non_african_nations[\"mu_mean\"])\n",
        "ax[0].fill_between(non_african_nations[\"rugged\"], non_african_nations[\"mu_perc_5\"],\n",
        "                   non_african_nations[\"mu_perc_95\"], alpha=0.5)\n",
        "ax[0].plot(non_african_nations[\"rugged\"], non_african_nations[\"true_gdp\"], \"o\")\n",
        "ax[0].set(xlabel=\"Terrain Ruggedness Index\", ylabel=\"log GDP (2000)\", title=\"Non African Nations\")\n",
        "idx = np.argsort(african_nations[\"rugged\"])\n",
        "\n",
        "ax[1].plot(african_nations[\"rugged\"], african_nations[\"mu_mean\"])\n",
        "ax[1].fill_between(african_nations[\"rugged\"], african_nations[\"mu_perc_5\"],\n",
        "                   african_nations[\"mu_perc_95\"], alpha=0.5)\n",
        "ax[1].plot(african_nations[\"rugged\"], african_nations[\"true_gdp\"], \"o\")\n",
        "ax[1].set(xlabel=\"Terrain Ruggedness Index\", ylabel=\"log GDP (2000)\", title=\"African Nations\");"
      ],
      "execution_count": 19,
      "outputs": [
        {
          "output_type": "display_data",
          "data": {
            "image/png": "[encoded data removed]",
            "text/plain": [
              "<Figure size 600x300 with 2 Axes>"
            ]
          },
          "metadata": {
            "tags": []
          }
        }
      ]
    },
    {
      "cell_type": "markdown",
      "metadata": {
        "id": "WDpmhpmkHmwl",
        "colab_type": "text"
      },
      "source": [
        "#### **Bayesian Regression - Inference Algorithms (Part 2)**\n",
        "- https://pyro.ai/examples/bayesian_regression_ii.html"
      ]
    },
    {
      "cell_type": "code",
      "metadata": {
        "id": "UK7iSSCooLSg",
        "colab_type": "code",
        "colab": {}
      },
      "source": [
        "import logging\n",
        "import os\n",
        "\n",
        "import torch\n",
        "import matplotlib.pyplot as plt\n",
        "import numpy as np\n",
        "import pandas as pd\n",
        "import seaborn as sns\n",
        "from torch.distributions import constraints\n",
        "\n",
        "import pyro\n",
        "import pyro.distributions as dist\n",
        "import pyro.optim as optim\n",
        "\n",
        "pyro.set_rng_seed(1)"
      ],
      "execution_count": 0,
      "outputs": []
    },
    {
      "cell_type": "code",
      "metadata": {
        "id": "FmMtOwGjoLQJ",
        "colab_type": "code",
        "colab": {}
      },
      "source": [
        "%matplotlib inline\n",
        "plt.style.use('default')\n",
        "\n",
        "logging.basicConfig(format='%(message)s', level=logging.INFO)\n",
        "# Enable validation checks\n",
        "pyro.enable_validation(True)\n",
        "smoke_test = ('CI' in os.environ)\n",
        "pyro.set_rng_seed(1)\n",
        "DATA_URL = \"https://d2hg8soec8ck9v.cloudfront.net/datasets/rugged_data.csv\"\n",
        "rugged_data = pd.read_csv(DATA_URL, encoding=\"ISO-8859-1\")"
      ],
      "execution_count": 0,
      "outputs": []
    },
    {
      "cell_type": "code",
      "metadata": {
        "id": "GM76WtUtJcRS",
        "colab_type": "code",
        "colab": {}
      },
      "source": [
        "def model(is_cont_africa, ruggedness, log_gdp):\n",
        "    a = pyro.sample(\"a\", dist.Normal(0., 10.))\n",
        "    b_a = pyro.sample(\"bA\", dist.Normal(0., 1.))\n",
        "    b_r = pyro.sample(\"bR\", dist.Normal(0., 1.))\n",
        "    b_ar = pyro.sample(\"bAR\", dist.Normal(0., 1.))\n",
        "    sigma = pyro.sample(\"sigma\", dist.Uniform(0., 10.))\n",
        "    mean = a + b_a * is_cont_africa + b_r * ruggedness + b_ar * is_cont_africa * ruggedness\n",
        "    with pyro.plate(\"data\", len(ruggedness)):\n",
        "        pyro.sample(\"obs\", dist.Normal(mean, sigma), obs=log_gdp)\n",
        "\n",
        "def guide(is_cont_africa, ruggedness, log_gdp):\n",
        "    a_loc = pyro.param('a_loc', torch.tensor(0.))\n",
        "    a_scale = pyro.param('a_scale', torch.tensor(1.), constraint=constraints.positive)\n",
        "    sigma_loc = pyro.param('sigma_loc', torch.tensor(1.), constraint=constraints.positive)\n",
        "    weights_loc = pyro.param('weights_loc', torch.randn(3))\n",
        "    weights_scale = pyro.param('weights_scale', torch.ones(3), constraint=constraints.positive)\n",
        "    a = pyro.sample(\"a\", dist.Normal(a_loc, a_scale))\n",
        "    b_a = pyro.sample(\"bA\", dist.Normal(weights_loc[0], weights_scale[0]))\n",
        "    b_r = pyro.sample(\"bR\", dist.Normal(weights_loc[1], weights_scale[1]))\n",
        "    b_ar = pyro.sample(\"bAR\", dist.Normal(weights_loc[2], weights_scale[2]))\n",
        "    sigma = pyro.sample(\"sigma\", dist.Normal(sigma_loc, torch.tensor(0.05)))\n",
        "    mean = a + b_a * is_cont_africa + b_r * ruggedness + b_ar * is_cont_africa * ruggedness"
      ],
      "execution_count": 0,
      "outputs": []
    },
    {
      "cell_type": "code",
      "metadata": {
        "id": "e7ITE7zfJcDF",
        "colab_type": "code",
        "colab": {}
      },
      "source": [
        "# Utility function to print latent sites' quantile information.\n",
        "def summary(samples):\n",
        "    site_stats = {}\n",
        "    for site_name, values in samples.items():\n",
        "        marginal_site = pd.DataFrame(values)\n",
        "        describe = marginal_site.describe(percentiles=[.05, 0.25, 0.5, 0.75, 0.95]).transpose()\n",
        "        site_stats[site_name] = describe[[\"mean\", \"std\", \"5%\", \"25%\", \"50%\", \"75%\", \"95%\"]]\n",
        "    return site_stats\n",
        "\n",
        "# Prepare training data\n",
        "df = rugged_data[[\"cont_africa\", \"rugged\", \"rgdppc_2000\"]]\n",
        "df = df[np.isfinite(df.rgdppc_2000)]\n",
        "df[\"rgdppc_2000\"] = np.log(df[\"rgdppc_2000\"])\n",
        "train = torch.tensor(df.values, dtype=torch.float)"
      ],
      "execution_count": 0,
      "outputs": []
    },
    {
      "cell_type": "code",
      "metadata": {
        "id": "7gZ75TFEJcBk",
        "colab_type": "code",
        "outputId": "77048eec-13e9-47ff-99e1-a2f9023f0de5",
        "colab": {
          "base_uri": "https://localhost:8080/",
          "height": 187
        }
      },
      "source": [
        "from pyro.infer import SVI, Trace_ELBO\n",
        "\n",
        "svi = SVI(model, guide, optim.Adam({\"lr\": .05}), loss=Trace_ELBO())\n",
        "\n",
        "is_cont_africa, ruggedness, log_gdp = train[:, 0], train[:, 1], train[:, 2]\n",
        "pyro.clear_param_store()\n",
        "\n",
        "num_iters = 5000 if not smoke_test else 2\n",
        "for i in range(num_iters):\n",
        "    elbo = svi.step(is_cont_africa, ruggedness, log_gdp)\n",
        "    if i % 500 == 0:\n",
        "        logging.info(\"Elbo loss: {}\".format(elbo))"
      ],
      "execution_count": 24,
      "outputs": [
        {
          "output_type": "stream",
          "text": [
            "Elbo loss: 5795.467590510845\n",
            "Elbo loss: 415.81694465875626\n",
            "Elbo loss: 250.71917921304703\n",
            "Elbo loss: 247.1945726275444\n",
            "Elbo loss: 249.20040315389633\n",
            "Elbo loss: 250.96485948562622\n",
            "Elbo loss: 249.35092496871948\n",
            "Elbo loss: 248.78315621614456\n",
            "Elbo loss: 248.62140625715256\n",
            "Elbo loss: 250.42744302749634\n"
          ],
          "name": "stderr"
        }
      ]
    },
    {
      "cell_type": "code",
      "metadata": {
        "id": "MFEANFioJb_9",
        "colab_type": "code",
        "colab": {}
      },
      "source": [
        "from pyro.infer import Predictive\n",
        "\n",
        "num_samples = 1000\n",
        "predictive = Predictive(model, guide=guide, num_samples=num_samples)\n",
        "svi_samples = {k: v.reshape(num_samples).detach().cpu().numpy()\n",
        "               for k, v in predictive(log_gdp, is_cont_africa, ruggedness).items()\n",
        "               if k != \"obs\"}"
      ],
      "execution_count": 0,
      "outputs": []
    },
    {
      "cell_type": "code",
      "metadata": {
        "id": "9Gz9Jh4wJbxa",
        "colab_type": "code",
        "outputId": "40e2030a-02d2-4548-b64d-5a93f82b723d",
        "colab": {
          "base_uri": "https://localhost:8080/",
          "height": 272
        }
      },
      "source": [
        "for site, values in summary(svi_samples).items():\n",
        "    print(\"Site: {}\".format(site))\n",
        "    print(values)"
      ],
      "execution_count": 26,
      "outputs": [
        {
          "output_type": "stream",
          "text": [
            "Site: a\n",
            "      mean       std       5%       25%       50%       75%      95%\n",
            "0  9.17702  0.059607  9.07811  9.140463  9.178211  9.217098  9.27152\n",
            "Site: bA\n",
            "       mean       std       5%       25%       50%       75%       95%\n",
            "0 -1.890622  0.122805 -2.08849 -1.979107 -1.887476 -1.803683 -1.700853\n",
            "Site: bR\n",
            "       mean       std       5%       25%       50%       75%       95%\n",
            "0 -0.157847  0.039538 -0.22324 -0.183673 -0.157873 -0.133102 -0.091713\n",
            "Site: bAR\n",
            "       mean       std        5%       25%       50%       75%       95%\n",
            "0  0.304515  0.067683  0.194583  0.259464  0.304907  0.348932  0.415127\n",
            "Site: sigma\n",
            "       mean       std        5%       25%       50%       75%       95%\n",
            "0  0.902898  0.047971  0.824166  0.870317  0.901981  0.935171  0.981577\n"
          ],
          "name": "stdout"
        }
      ]
    },
    {
      "cell_type": "markdown",
      "metadata": {
        "id": "y88cbRmGOmyJ",
        "colab_type": "text"
      },
      "source": [
        "#### **Variational Autoencoders**\n",
        "- https://pyro.ai/examples/vae.html"
      ]
    },
    {
      "cell_type": "code",
      "metadata": {
        "id": "iNxnKy8BJath",
        "colab_type": "code",
        "colab": {}
      },
      "source": [
        "import os\n",
        "\n",
        "import numpy as np\n",
        "import torch\n",
        "import torchvision.datasets as dset\n",
        "import torch.nn as nn\n",
        "import torchvision.transforms as transforms\n",
        "\n",
        "import pyro\n",
        "import pyro.distributions as dist\n",
        "from pyro.infer import SVI, Trace_ELBO\n",
        "from pyro.optim import Adam\n",
        "\n",
        "pyro.enable_validation(True)\n",
        "pyro.distributions.enable_validation(False)\n",
        "pyro.set_rng_seed(0)\n",
        "# Enable smoke test - run the notebook cells on CI.\n",
        "smoke_test = 'CI' in os.environ\n",
        "\n",
        "# for loading and batching MNIST dataset\n",
        "def setup_data_loaders(batch_size=128, use_cuda=False):\n",
        "    root = './data'\n",
        "    download = True\n",
        "    trans = transforms.ToTensor()\n",
        "    train_set = dset.MNIST(root=root, train=True, transform=trans,\n",
        "                           download=download)\n",
        "    test_set = dset.MNIST(root=root, train=False, transform=trans)\n",
        "\n",
        "    kwargs = {'num_workers': 1, 'pin_memory': use_cuda}\n",
        "    train_loader = torch.utils.data.DataLoader(dataset=train_set,\n",
        "        batch_size=batch_size, shuffle=True, **kwargs)\n",
        "    test_loader = torch.utils.data.DataLoader(dataset=test_set,\n",
        "        batch_size=batch_size, shuffle=False, **kwargs)\n",
        "    return train_loader, test_loader"
      ],
      "execution_count": 0,
      "outputs": []
    },
    {
      "cell_type": "code",
      "metadata": {
        "id": "UxJWjOCtO0gq",
        "colab_type": "code",
        "colab": {}
      },
      "source": [
        "class Decoder(nn.Module):\n",
        "    def __init__(self, z_dim, hidden_dim):\n",
        "        super(Decoder, self).__init__()\n",
        "        # setup the two linear transformations used\n",
        "        self.fc1 = nn.Linear(z_dim, hidden_dim)\n",
        "        self.fc21 = nn.Linear(hidden_dim, 784)\n",
        "        # setup the non-linearities\n",
        "        self.softplus = nn.Softplus()\n",
        "        self.sigmoid = nn.Sigmoid()\n",
        "\n",
        "    def forward(self, z):\n",
        "        # define the forward computation on the latent z\n",
        "        # first compute the hidden units\n",
        "        hidden = self.softplus(self.fc1(z))\n",
        "        # return the parameter for the output Bernoulli\n",
        "        # each is of size batch_size x 784\n",
        "        loc_img = self.sigmoid(self.fc21(hidden))\n",
        "        return loc_img"
      ],
      "execution_count": 0,
      "outputs": []
    },
    {
      "cell_type": "code",
      "metadata": {
        "id": "qBAuigDnO0fX",
        "colab_type": "code",
        "colab": {}
      },
      "source": [
        "class Encoder(nn.Module):\n",
        "    def __init__(self, z_dim, hidden_dim):\n",
        "        super(Encoder, self).__init__()\n",
        "        # setup the three linear transformations used\n",
        "        self.fc1 = nn.Linear(784, hidden_dim)\n",
        "        self.fc21 = nn.Linear(hidden_dim, z_dim)\n",
        "        self.fc22 = nn.Linear(hidden_dim, z_dim)\n",
        "        # setup the non-linearities\n",
        "        self.softplus = nn.Softplus()\n",
        "\n",
        "    def forward(self, x):\n",
        "        # define the forward computation on the image x\n",
        "        # first shape the mini-batch to have pixels in the rightmost dimension\n",
        "        x = x.reshape(-1, 784)\n",
        "        # then compute the hidden units\n",
        "        hidden = self.softplus(self.fc1(x.float()))\n",
        "        # then return a mean vector and a (positive) square root covariance\n",
        "        # each of size batch_size x z_dim\n",
        "        z_loc = self.fc21(hidden)\n",
        "        z_scale = torch.exp(self.fc22(hidden))\n",
        "        return z_loc, z_scale"
      ],
      "execution_count": 0,
      "outputs": []
    },
    {
      "cell_type": "code",
      "metadata": {
        "id": "IaXh10WbO_eI",
        "colab_type": "code",
        "colab": {}
      },
      "source": [
        "class VAE(nn.Module):\n",
        "    # by default our latent space is 50-dimensional\n",
        "    # and we use 400 hidden units\n",
        "    def __init__(self, z_dim=50, hidden_dim=400, use_cuda=False):\n",
        "        super(VAE, self).__init__()\n",
        "        # create the encoder and decoder networks\n",
        "        self.encoder = Encoder(z_dim, hidden_dim)\n",
        "        self.decoder = Decoder(z_dim, hidden_dim)\n",
        "\n",
        "        if use_cuda:\n",
        "            # calling cuda() here will put all the parameters of\n",
        "            # the encoder and decoder networks into gpu memory\n",
        "            self.cuda()\n",
        "        self.use_cuda = use_cuda\n",
        "        self.z_dim = z_dim\n",
        "\n",
        "    # define the model p(x|z)p(z)\n",
        "    def model(self, x):\n",
        "        # register PyTorch module `decoder` with Pyro\n",
        "        pyro.module(\"decoder\", self.decoder)\n",
        "        with pyro.plate(\"data\", x.shape[0]):\n",
        "            # setup hyperparameters for prior p(z)\n",
        "            z_loc = x.new_zeros(torch.Size((x.shape[0], self.z_dim)))\n",
        "            z_scale = x.new_ones(torch.Size((x.shape[0], self.z_dim)))\n",
        "            # sample from prior (value will be sampled by guide when computing the ELBO)\n",
        "            z = pyro.sample(\"latent\", dist.Normal(z_loc, z_scale).to_event(1))\n",
        "            # decode the latent code z\n",
        "            loc_img = self.decoder.forward(z)\n",
        "            # score against actual images\n",
        "            pyro.sample(\"obs\", dist.Bernoulli(loc_img).to_event(1), obs=x.reshape(-1, 784))\n",
        "\n",
        "    # define the guide (i.e. variational distribution) q(z|x)\n",
        "    def guide(self, x):\n",
        "        # register PyTorch module `encoder` with Pyro\n",
        "        pyro.module(\"encoder\", self.encoder)\n",
        "        with pyro.plate(\"data\", x.shape[0]):\n",
        "            # use the encoder to get the parameters used to define q(z|x)\n",
        "            z_loc, z_scale = self.encoder.forward(x)\n",
        "            # sample the latent code z\n",
        "            pyro.sample(\"latent\", dist.Normal(z_loc, z_scale).to_event(1))\n",
        "\n",
        "    # define a helper function for reconstructing images\n",
        "    def reconstruct_img(self, x):\n",
        "        # encode image x\n",
        "        z_loc, z_scale = self.encoder(x)\n",
        "        # sample in latent space\n",
        "        z = dist.Normal(z_loc, z_scale).sample()\n",
        "        # decode the image (note we don't sample in image space)\n",
        "        loc_img = self.decoder(z)\n",
        "        return loc_img"
      ],
      "execution_count": 0,
      "outputs": []
    },
    {
      "cell_type": "code",
      "metadata": {
        "id": "B4uPEpwNO_Uw",
        "colab_type": "code",
        "colab": {}
      },
      "source": [
        "vae = VAE()"
      ],
      "execution_count": 0,
      "outputs": []
    },
    {
      "cell_type": "code",
      "metadata": {
        "id": "VGjVtvJYO_S8",
        "colab_type": "code",
        "colab": {}
      },
      "source": [
        "optimizer = Adam({\"lr\": 1.0e-3})\n",
        "svi = SVI(vae.model, vae.guide, optimizer, loss=Trace_ELBO())"
      ],
      "execution_count": 0,
      "outputs": []
    },
    {
      "cell_type": "code",
      "metadata": {
        "id": "uMJ0dllBO_J0",
        "colab_type": "code",
        "colab": {}
      },
      "source": [
        "def train(svi, train_loader, use_cuda=False):\n",
        "    # initialize loss accumulator\n",
        "    epoch_loss = 0.\n",
        "    # do a training epoch over each mini-batch x returned\n",
        "    # by the data loader\n",
        "    for x, _ in train_loader:\n",
        "        # if on GPU put mini-batch into CUDA memory\n",
        "        if use_cuda:\n",
        "            x = x.cuda()\n",
        "        # do ELBO gradient and accumulate loss\n",
        "        epoch_loss += svi.step(x)\n",
        "\n",
        "    # return epoch loss\n",
        "    normalizer_train = len(train_loader.dataset)\n",
        "    total_epoch_loss_train = epoch_loss / normalizer_train\n",
        "    return total_epoch_loss_train"
      ],
      "execution_count": 0,
      "outputs": []
    },
    {
      "cell_type": "code",
      "metadata": {
        "id": "f8cqy8ryO_Gp",
        "colab_type": "code",
        "colab": {}
      },
      "source": [
        "def evaluate(svi, test_loader, use_cuda=False):\n",
        "    # initialize loss accumulator\n",
        "    test_loss = 0.\n",
        "    # compute the loss over the entire test set\n",
        "    for x, _ in test_loader:\n",
        "        # if on GPU put mini-batch into CUDA memory\n",
        "        if use_cuda:\n",
        "            x = x.cuda()\n",
        "        # compute ELBO estimate and accumulate loss\n",
        "        test_loss += svi.evaluate_loss(x)\n",
        "    normalizer_test = len(test_loader.dataset)\n",
        "    total_epoch_loss_test = test_loss / normalizer_test\n",
        "    return total_epoch_loss_test"
      ],
      "execution_count": 0,
      "outputs": []
    },
    {
      "cell_type": "code",
      "metadata": {
        "id": "S1uCpe7DPRaD",
        "colab_type": "code",
        "colab": {}
      },
      "source": [
        "# Run options\n",
        "LEARNING_RATE = 1.0e-3\n",
        "USE_CUDA = False\n",
        "\n",
        "# Run only for a single iteration for testing\n",
        "NUM_EPOCHS = 1 if smoke_test else 20\n",
        "TEST_FREQUENCY = 5"
      ],
      "execution_count": 0,
      "outputs": []
    },
    {
      "cell_type": "code",
      "metadata": {
        "id": "pMpEIUaYPRYk",
        "colab_type": "code",
        "outputId": "b78a6baf-17da-43f2-d2ac-efba157be28d",
        "colab": {
          "base_uri": "https://localhost:8080/",
          "height": 646,
          "referenced_widgets": [
            "e93ab8b873414a3c8be00d3f3d43b968",
            "5fdb5d4d78d5434d8c60963b329134ef",
            "7e3b19f0c04e4b1fa4f35fd3054bc123",
            "63a594dc2be247bb84c15859d8de51bc"
          ]
        }
      },
      "source": [
        "train_loader, test_loader = setup_data_loaders(batch_size=256, use_cuda=USE_CUDA)\n",
        "\n",
        "# clear param store\n",
        "pyro.clear_param_store()\n",
        "# setup the VAE\n",
        "vae = VAE(use_cuda=USE_CUDA)\n",
        "# setup the optimizer\n",
        "adam_args = {\"lr\": LEARNING_RATE}\n",
        "optimizer = Adam(adam_args)\n",
        "# setup the inference algorithm\n",
        "svi = SVI(vae.model, vae.guide, optimizer, loss=Trace_ELBO())\n",
        "\n",
        "train_elbo = []\n",
        "test_elbo = []\n",
        "# training loop\n",
        "for epoch in range(NUM_EPOCHS):\n",
        "    total_epoch_loss_train = train(svi, train_loader, use_cuda=USE_CUDA)\n",
        "    train_elbo.append(-total_epoch_loss_train)\n",
        "    print(\"[epoch %03d]  average training loss: %.4f\" % (epoch, total_epoch_loss_train))\n",
        "\n",
        "    if epoch % TEST_FREQUENCY == 0:\n",
        "        # report test diagnostics\n",
        "        total_epoch_loss_test = evaluate(svi, test_loader, use_cuda=USE_CUDA)\n",
        "        test_elbo.append(-total_epoch_loss_test)\n",
        "        print(\"[epoch %03d] average test loss: %.4f\" % (epoch, total_epoch_loss_test))"
      ],
      "execution_count": 36,
      "outputs": [
        {
          "output_type": "stream",
          "text": [
            "Downloading http://yann.lecun.com/exdb/mnist/train-images-idx3-ubyte.gz to ./data/MNIST/raw/train-images-idx3-ubyte.gz\n"
          ],
          "name": "stdout"
        },
        {
          "output_type": "display_data",
          "data": {
            "application/vnd.jupyter.widget-view+json": {
              "model_id": "e93ab8b873414a3c8be00d3f3d43b968",
              "version_minor": 0,
              "version_major": 2
            },
            "text/plain": [
              "HBox(children=(FloatProgress(value=1.0, bar_style='info', max=1.0), HTML(value='')))"
            ]
          },
          "metadata": {
            "tags": []
          }
        },
        {
          "output_type": "stream",
          "text": [
            "Extracting ./data/MNIST/raw/train-images-idx3-ubyte.gz to ./data/MNIST/raw\n",
            "Downloading http://yann.lecun.com/exdb/mnist/train-labels-idx1-ubyte.gz to ./data/MNIST/raw/train-labels-idx1-ubyte.gz\n"
          ],
          "name": "stdout"
        },
        {
          "output_type": "display_data",
          "data": {
            "application/vnd.jupyter.widget-view+json": {
              "model_id": "5fdb5d4d78d5434d8c60963b329134ef",
              "version_minor": 0,
              "version_major": 2
            },
            "text/plain": [
              "HBox(children=(FloatProgress(value=1.0, bar_style='info', max=1.0), HTML(value='')))"
            ]
          },
          "metadata": {
            "tags": []
          }
        },
        {
          "output_type": "stream",
          "text": [
            "Extracting ./data/MNIST/raw/train-labels-idx1-ubyte.gz to ./data/MNIST/raw\n",
            "Downloading http://yann.lecun.com/exdb/mnist/t10k-images-idx3-ubyte.gz to ./data/MNIST/raw/t10k-images-idx3-ubyte.gz\n"
          ],
          "name": "stdout"
        },
        {
          "output_type": "display_data",
          "data": {
            "application/vnd.jupyter.widget-view+json": {
              "model_id": "7e3b19f0c04e4b1fa4f35fd3054bc123",
              "version_minor": 0,
              "version_major": 2
            },
            "text/plain": [
              "HBox(children=(FloatProgress(value=1.0, bar_style='info', max=1.0), HTML(value='')))"
            ]
          },
          "metadata": {
            "tags": []
          }
        },
        {
          "output_type": "stream",
          "text": [
            "Extracting ./data/MNIST/raw/t10k-images-idx3-ubyte.gz to ./data/MNIST/raw\n",
            "Downloading http://yann.lecun.com/exdb/mnist/t10k-labels-idx1-ubyte.gz to ./data/MNIST/raw/t10k-labels-idx1-ubyte.gz\n"
          ],
          "name": "stdout"
        },
        {
          "output_type": "display_data",
          "data": {
            "application/vnd.jupyter.widget-view+json": {
              "model_id": "63a594dc2be247bb84c15859d8de51bc",
              "version_minor": 0,
              "version_major": 2
            },
            "text/plain": [
              "HBox(children=(FloatProgress(value=1.0, bar_style='info', max=1.0), HTML(value='')))"
            ]
          },
          "metadata": {
            "tags": []
          }
        },
        {
          "output_type": "stream",
          "text": [
            "\n",
            "\n",
            "\n",
            "Extracting ./data/MNIST/raw/t10k-labels-idx1-ubyte.gz to ./data/MNIST/raw\n",
            "Processing...\n",
            "Done!\n",
            "[epoch 000]  average training loss: 191.0216\n",
            "[epoch 000] average test loss: 156.0872\n",
            "[epoch 001]  average training loss: 146.8141\n",
            "[epoch 002]  average training loss: 133.2540\n",
            "[epoch 003]  average training loss: 124.6775\n",
            "[epoch 004]  average training loss: 119.5152\n",
            "[epoch 005]  average training loss: 116.1240\n",
            "[epoch 005] average test loss: 113.7908\n",
            "[epoch 006]  average training loss: 113.7285\n",
            "[epoch 007]  average training loss: 112.0445\n",
            "[epoch 008]  average training loss: 110.7292\n",
            "[epoch 009]  average training loss: 109.7455\n",
            "[epoch 010]  average training loss: 108.9070\n",
            "[epoch 010] average test loss: 107.7720\n",
            "[epoch 011]  average training loss: 108.2513\n",
            "[epoch 012]  average training loss: 107.6953\n",
            "[epoch 013]  average training loss: 107.2849\n",
            "[epoch 014]  average training loss: 106.8870\n",
            "[epoch 015]  average training loss: 106.4983\n",
            "[epoch 015] average test loss: 105.9786\n",
            "[epoch 016]  average training loss: 106.1872\n",
            "[epoch 017]  average training loss: 105.9363\n",
            "[epoch 018]  average training loss: 105.7087\n",
            "[epoch 019]  average training loss: 105.4600\n"
          ],
          "name": "stdout"
        }
      ]
    },
    {
      "cell_type": "markdown",
      "metadata": {
        "id": "eDT1_ma8ZrPT",
        "colab_type": "text"
      },
      "source": [
        "#### **BCCA Model via Normalizing flow estimation**"
      ]
    },
    {
      "cell_type": "code",
      "metadata": {
        "id": "kIvRNRthPROv",
        "colab_type": "code",
        "colab": {}
      },
      "source": [
        "import numpy as np\n",
        "import math\n",
        "from scipy.stats import ortho_group\n",
        "\n",
        "# We use the pyro.generic interface to support dynamic choice of backend.\n",
        "from pyro.generic import pyro_backend\n",
        "from pyro.generic import distributions as dist\n",
        "from pyro.generic import infer, optim, pyro\n",
        "\n",
        "import pyro.distributions as dist\n",
        "from pyro.infer import SVI, Trace_ELBO\n",
        "# arguments used to instantiate PyTorch optimizers for all the parameters\n",
        "from pyro.optim import Adam\n",
        "# Prediction\n",
        "from pyro.infer import Predictive\n",
        "\n",
        "import torch\n",
        "import pyro\n",
        "import pyro.optim\n",
        "import pyro.infer\n",
        "import pyro.contrib.autoguide as autoguide\n",
        "import numpy as np\n",
        "import time as tm\n",
        "\n",
        "from pyro.poutine import trace\n",
        "from pprint import pprint"
      ],
      "execution_count": 0,
      "outputs": []
    },
    {
      "cell_type": "code",
      "metadata": {
        "id": "pzVZEN--Zji7",
        "colab_type": "code",
        "colab": {}
      },
      "source": [
        "# data generation\n",
        "N = 2000 # sample size in each fake dataset\n",
        "D = [6, 8] # columns size for two datasets\n",
        "K = 10 # no. of latent dimensions prior(actual K is unknown in model)\n",
        "K_est = 10 # of shared LF to be estimated (actual K is unknown in model)\n",
        "J = [4, 2] # unshared latent factors dimensions\n",
        "eps = 0.1 # non-CCA iid error scale"
      ],
      "execution_count": 0,
      "outputs": []
    },
    {
      "cell_type": "code",
      "metadata": {
        "id": "bZh5Ju7bZjhl",
        "colab_type": "code",
        "colab": {}
      },
      "source": [
        "## shared/common factors ##\n",
        "Z_shared = np.zeros((K, N))\n",
        "# update by row \n",
        "Z_shared[0,] = np.sin(np.array([i for i in range(1, N+1)])/N/20)\n",
        "Z_shared[1,] = np.cos(np.array([i for i in range(1, N+1)])/N/20)\n",
        "Z_shared[2,] = np.random.normal(0, 1, N)\n",
        "Z_shared[3,] = 2*np.array([i for i in range(1, N+1)])/N - 0.5\n",
        "\n",
        "m = ortho_group.rvs(dim=J[0]) # orthonormal matrix\n",
        "Sig_1 = np.matmul(np.matmul(m, np.diag(10*np.random.random(J[0]))), np.transpose(m))\n",
        "n = ortho_group.rvs(dim=J[1])\n",
        "Sig_2 = np.matmul(np.matmul(n, np.diag(10*np.random.random(J[1]))), np.transpose(n))\n",
        "\n",
        "# generate unshared factors\n",
        "Z_1 = np.transpose(np.random.multivariate_normal([0]*J[0], Sig_1, N))\n",
        "Z_2 = np.transpose(np.random.multivariate_normal([0]*J[1], Sig_2, N))\n",
        "\n",
        "A_1 = np.random.randint(-10, 10, size=(D[0], K))\n",
        "A_2 = np.random.randint(-10, 10, size=(D[1], K)) + 0.5\n",
        "# generate weight matrix for Z unshared\n",
        "B_1 = np.random.randint(-10, 0, size=(D[0], J[0]))/10\n",
        "B_2 = np.random.randint(0, 10, size=(D[1], J[1]))/10\n",
        "\n",
        "X_1 = np.transpose(np.random.normal(0, eps, D[0]*N).reshape((D[0], N)) + np.matmul(A_1, Z_shared) + np.matmul(B_1, Z_1))\n",
        "X_2 = np.transpose(np.random.normal(0, eps, D[1]*N).reshape((D[1], N)) + np.matmul(A_2, Z_shared) + np.matmul(B_2, Z_2))\n",
        "data = np.concatenate((X_1, X_2), axis=1)"
      ],
      "execution_count": 0,
      "outputs": []
    },
    {
      "cell_type": "code",
      "metadata": {
        "id": "cYG8ED8oZjY5",
        "colab_type": "code",
        "outputId": "99866d14-ab50-43ac-e09d-5fd9617d3410",
        "colab": {
          "base_uri": "https://localhost:8080/",
          "height": 34
        }
      },
      "source": [
        "data = torch.tensor(data)\n",
        "data = data.transpose_(0, 1)\n",
        "N = data.shape[1] # no. of observations\n",
        "print(N)"
      ],
      "execution_count": 40,
      "outputs": [
        {
          "output_type": "stream",
          "text": [
            "2000\n"
          ],
          "name": "stdout"
        }
      ]
    },
    {
      "cell_type": "code",
      "metadata": {
        "id": "bPLta_gip7kL",
        "colab_type": "code",
        "outputId": "2141e641-ba55-4963-a753-a8d0f4ef3a24",
        "colab": {
          "base_uri": "https://localhost:8080/",
          "height": 408
        }
      },
      "source": [
        "# function definition and linear flows pre-test\n",
        "# return multiple values from a function in Python\n",
        "def test2():\n",
        "    return 'abc', 100, [0, 1, 2]\n",
        "a, b, c = test2()\n",
        "print(a)\n",
        "print(b)\n",
        "print(c)\n",
        "\n",
        "# nn.Linear: Applies a linear transformation to the incoming data: y = xA^T + b\n",
        "m = nn.Linear(2, 3) # [N, output_dim]\n",
        "input_ = torch.randn(6, 2) # Z = [K, N]\n",
        "output = m(input_)\n",
        "print(output.size())\n",
        "print(output)\n",
        "# f(x) = ln(1+exp(x)) \n",
        "positive = nn.Softplus()\n",
        "output = positive(output)\n",
        "print(output.size())\n",
        "print(output)\n",
        "print(torch.ones([6, 3]) + output)"
      ],
      "execution_count": 41,
      "outputs": [
        {
          "output_type": "stream",
          "text": [
            "abc\n",
            "100\n",
            "[0, 1, 2]\n",
            "torch.Size([6, 3])\n",
            "tensor([[ 0.0469,  0.1575,  0.4335],\n",
            "        [-0.1223, -0.8577,  0.8164],\n",
            "        [ 0.1436,  0.6345,  0.1404],\n",
            "        [ 0.0724,  0.1800,  0.2821],\n",
            "        [-0.0501, -0.0995,  0.8865],\n",
            "        [ 0.0988,  0.4249,  0.2845]], grad_fn=<AddmmBackward>)\n",
            "torch.Size([6, 3])\n",
            "tensor([[0.7169, 0.7750, 0.9332],\n",
            "        [0.6339, 0.3536, 1.1824],\n",
            "        [0.7675, 1.0599, 0.7658],\n",
            "        [0.7300, 0.7872, 0.8441],\n",
            "        [0.6684, 0.6446, 1.2316],\n",
            "        [0.7438, 0.9280, 0.8455]], grad_fn=<SoftplusBackward>)\n",
            "tensor([[1.7169, 1.7750, 1.9332],\n",
            "        [1.6339, 1.3536, 2.1824],\n",
            "        [1.7675, 2.0599, 1.7658],\n",
            "        [1.7300, 1.7872, 1.8441],\n",
            "        [1.6684, 1.6446, 2.2316],\n",
            "        [1.7438, 1.9280, 1.8455]], grad_fn=<AddBackward0>)\n"
          ],
          "name": "stdout"
        }
      ]
    },
    {
      "cell_type": "code",
      "metadata": {
        "id": "2_vgzfkcalGm",
        "colab_type": "code",
        "colab": {}
      },
      "source": [
        "class Flows(nn.Module):\n",
        "  def __init__(self, z_dim, hidden_dim):\n",
        "    super(Flows, self).__init__()\n",
        "    # setup the two linear transformations used for mean and variance\n",
        "    # mean and variance share same hidden_dim here\n",
        "    # here z_dim represents 2nd dimension - multiplication check\n",
        "    self.fc1_mean = nn.Linear(z_dim, hidden_dim)\n",
        "    self.fc2_mean = nn.Linear(hidden_dim, z_dim)\n",
        "    self.fc1_var = nn.Linear(z_dim, hidden_dim)\n",
        "    self.fc2_var = nn.Linear(hidden_dim, z_dim)\n",
        "    # setup the non-linearities - in case needed\n",
        "    # f(x) = ln(1+exp(x))\n",
        "    self.softplus = nn.Softplus()\n",
        "    # f(x) = exp(x)/(1+exp(x))\n",
        "    self.sigmoid = nn.Sigmoid()\n",
        "  \n",
        "  # can separate as forward_mean and forward_var if needed\n",
        "  def forward_mean(self, z):\n",
        "    # define the forward computation on the latent z\n",
        "    # first compute the z_mean\n",
        "    z_mean_par = self.fc2_mean(self.fc1_mean(z)) # unconstrained\n",
        "    # return parameters for Normal distribution sampling\n",
        "    # each is of size K x N\n",
        "    return z_mean_par\n",
        "\n",
        "  def forward_var(self, z):\n",
        "    # variance positive\n",
        "    # sigmoid would limit from 0 to 1\n",
        "    z_var_par = self.sigmoid(self.fc2_var(self.fc1_var(z)))\n",
        "    z_var_par = self.softplus(z_var_par)\n",
        "    # return parameters for Normal distribution sampling\n",
        "    # each is of size K x N\n",
        "    return z_var_par"
      ],
      "execution_count": 0,
      "outputs": []
    },
    {
      "cell_type": "code",
      "metadata": {
        "id": "eeQDfHPgp7uq",
        "colab_type": "code",
        "colab": {}
      },
      "source": [
        "# Combination of BCCA and Flows Module\n",
        "class BCCA_Flows(nn.Module):\n",
        "  # by default our latent space is K x N - dimensional\n",
        "  # and we use 200 hidden units\n",
        "  def __init__(self, z_dim=N, hidden_dim=100, use_cuda=False):\n",
        "    super(BCCA_Flows, self).__init__()\n",
        "    # create Flows networks for z_mean and z_var\n",
        "    self.flows = Flows(z_dim, hidden_dim)\n",
        "    if use_cuda:\n",
        "      # calling cuda() here will put all the parameters of\n",
        "      # the encoder and decoder networks into gpu memory\n",
        "      self.cuda()\n",
        "    self.use_cuda = use_cuda\n",
        "    self.z_dim = z_dim\n",
        "  \n",
        "  # define the model function\n",
        "  # almost the same as previous BCCA estimation\n",
        "  def model(self, data):\n",
        "    # ARD prior\n",
        "    tau = pyro.sample('tau', dist.Gamma(torch.tensor(0.1), torch.tensor(0.1)).expand([K, 2]).independent(2))  \n",
        "    sig = pyro.sample('sig', dist.Gamma(torch.tensor(0.1), torch.tensor(0.1)).expand([2]).independent(1)) \n",
        "    Z = pyro.sample(\"Z\", dist.Normal(0.0, 1.0).expand([K, self.z_dim]).independent(2))\n",
        "    # weight matrix\n",
        "    W1 = pyro.sample(\"W1\", dist.Normal(torch.tensor(0.0), tau[:, 0].sqrt().reciprocal()).expand_by([D[0]]).independent(2))\n",
        "    W2 = pyro.sample(\"W2\", dist.Normal(torch.tensor(0.0), tau[:, 1].sqrt().reciprocal()).expand_by([D[1]]).independent(2))\n",
        "    # dataset sampling\n",
        "    pyro.sample(\"dataset_1\", dist.Normal(torch.mm(W1, Z), sig[0]).independent(2), obs=data[:D[0], :])\n",
        "    pyro.sample(\"dataset_2\", dist.Normal(torch.mm(W2, Z), sig[1]).independent(2), obs=data[D[0]:, :])\n",
        "  \n",
        "  # define the guide (i.e. variational distribution) q(z|x)\n",
        "  def guide_flexible(self, data):\n",
        "    # register PyTorch module `decoder` with Pyro\n",
        "    pyro.module(\"flows\", self.flows)\n",
        "    # sampling\n",
        "    valid_range = constraints.greater_than(0.0)\n",
        "\n",
        "    tau_alpha = pyro.param(\"tau_alpha\", torch.tensor(0.).expand([K, 2])) # positive\n",
        "    tau_beta = pyro.param(\"tau_beta\", torch.tensor(1.).expand([K, 2]), constraint=valid_range) # positive\n",
        "    tau_q = pyro.sample('tau', dist.LogNormal(tau_alpha, tau_beta).independent(2))\n",
        "\n",
        "    sig_location = pyro.param(\"sig_location\", torch.tensor(0.).expand([2])) # positive\n",
        "    sig_scale = pyro.param(\"sig_scale\", torch.tensor(1.).expand([2]), constraint=valid_range) # positive \n",
        "    pyro.sample('sig', dist.LogNormal(sig_location, sig_scale).independent(1))\n",
        "\n",
        "    # use the Flows to get the parameters used to define q(z|x)\n",
        "    Z_flow_input_mean = pyro.param(\"Z_flow_input_mean\", torch.tensor(0.0).expand([K, self.z_dim]))\n",
        "    Z_flow_input_var = pyro.param(\"Z_flow_input_var\", torch.tensor(1.0).expand([K, self.z_dim]))\n",
        "    # Z_mean, Z_var = self.flows.forward(Z_flow_input)\n",
        "    Z_mean = self.flows.forward_mean(Z_flow_input_mean)\n",
        "    Z_var = self.flows.forward_var(Z_flow_input_var)\n",
        "    pyro.sample(\"Z\", dist.Normal(Z_mean, Z_var).independent(2))\n",
        "\n",
        "    W1_mean = pyro.param(\"W1_mean\", torch.tensor(0.0).expand([D[0], K]))\n",
        "    W2_mean = pyro.param(\"W2_mean\", torch.tensor(0.0).expand([D[1], K]))\n",
        "    pyro.sample(\"W1\", dist.Normal(W1_mean, tau_q[:, 0].sqrt().reciprocal()).independent(2)) # D[0]*K\n",
        "    pyro.sample(\"W2\", dist.Normal(W2_mean, tau_q[:, 1].sqrt().reciprocal()).independent(2)) # D[1]*K"
      ],
      "execution_count": 0,
      "outputs": []
    },
    {
      "cell_type": "code",
      "metadata": {
        "id": "xUetctXAkM7E",
        "colab_type": "code",
        "colab": {}
      },
      "source": [
        "from pyro.poutine import trace\n",
        "from pprint import pprint\n",
        "from pyro.poutine import replay\n",
        "\n",
        "# class module setup\n",
        "bcca_flows = BCCA_Flows()\n",
        "# learning rate under flows needs to be small\n",
        "optimizer = Adam({\"lr\": 1e-2})\n",
        "svi = SVI(bcca_flows.model, bcca_flows.guide_flexible, optimizer, loss=Trace_ELBO())"
      ],
      "execution_count": 0,
      "outputs": []
    },
    {
      "cell_type": "code",
      "metadata": {
        "id": "rlYbed_LD_Kj",
        "colab_type": "code",
        "outputId": "f035e658-8d34-4b52-8e16-9a772195f5bc",
        "colab": {
          "base_uri": "https://localhost:8080/",
          "height": 357
        }
      },
      "source": [
        "# clear-up\n",
        "pyro.clear_param_store()\n",
        "# training with given max steps\n",
        "# parameters setup\n",
        "NUM_STEPS = 15000\n",
        "BACK_STEPS = 1000\n",
        "decay_threshold = 1e-5\n",
        "losses = []\n",
        "\n",
        "pyro.clear_param_store()\n",
        "start = tm.time()\n",
        "for step in range(NUM_STEPS):\n",
        "    losses.append(svi.step(data))\n",
        "    if step > BACK_STEPS:\n",
        "      # quite stable over BACK_STEPS steps\n",
        "      if np.abs((losses[step-BACK_STEPS] - losses[step])/losses[step-BACK_STEPS]) <= decay_threshold:\n",
        "        print('Losses converged with ll %.3f at iteration %d'%(losses[-1], step))\n",
        "        break\n",
        "    if step % 500 == 0:\n",
        "        print(f\"step: {step:>5}, ELBO loss: {losses[step]:.2f}\")\n",
        "print(f\"\\nfinished in {tm.time() - start:.2f} seconds\")"
      ],
      "execution_count": 132,
      "outputs": [
        {
          "output_type": "stream",
          "text": [
            "step:     0, ELBO loss: 6904664.56\n",
            "step:   500, ELBO loss: 136273.97\n",
            "step:  1000, ELBO loss: 114411.09\n",
            "step:  1500, ELBO loss: 165862.71\n",
            "step:  2000, ELBO loss: 107244.88\n",
            "step:  2500, ELBO loss: 97045.30\n",
            "step:  3000, ELBO loss: 93211.55\n",
            "step:  3500, ELBO loss: 92417.41\n",
            "step:  4000, ELBO loss: 91716.24\n",
            "step:  4500, ELBO loss: 96108.83\n",
            "step:  5000, ELBO loss: 95498.09\n",
            "step:  5500, ELBO loss: 93326.80\n",
            "step:  6000, ELBO loss: 97534.69\n",
            "step:  6500, ELBO loss: 91316.01\n",
            "step:  7000, ELBO loss: 90974.71\n",
            "step:  7500, ELBO loss: 92236.76\n",
            "step:  8000, ELBO loss: 95715.87\n",
            "Losses converged with ll 90844.185 at iteration 8257\n",
            "\n",
            "finished in 218.00 seconds\n"
          ],
          "name": "stdout"
        }
      ]
    },
    {
      "cell_type": "code",
      "metadata": {
        "id": "owcidpR5D_I3",
        "colab_type": "code",
        "outputId": "332fe894-59b4-40ec-b0bf-52a21e4e898e",
        "colab": {
          "base_uri": "https://localhost:8080/",
          "height": 1000
        }
      },
      "source": [
        "for key, value in pyro.get_param_store().items():    \n",
        "    print(f\"{key}:\\n{value}\\n\")"
      ],
      "execution_count": 133,
      "outputs": [
        {
          "output_type": "stream",
          "text": [
            "flows$$$fc1_mean.weight:\n",
            "Parameter containing:\n",
            "tensor([[-0.0076,  0.0100,  0.0091,  ..., -0.0117, -0.0107,  0.0361],\n",
            "        [-0.0181, -0.0012,  0.0209,  ...,  0.0205, -0.0288,  0.0171],\n",
            "        [ 0.0133, -0.0145, -0.0265,  ..., -0.0060, -0.0304, -0.0417],\n",
            "        ...,\n",
            "        [-0.0351, -0.0156,  0.0193,  ..., -0.0385, -0.0211, -0.0062],\n",
            "        [-0.0226, -0.0139,  0.0005,  ..., -0.0028,  0.0081,  0.0142],\n",
            "        [ 0.0101, -0.0057,  0.0229,  ..., -0.0242, -0.0032, -0.0894]],\n",
            "       requires_grad=True)\n",
            "\n",
            "flows$$$fc1_mean.bias:\n",
            "Parameter containing:\n",
            "tensor([-5.5401e-03, -3.0044e-02,  8.6469e-03, -4.6594e-03, -1.0605e-02,\n",
            "        -2.6715e-02, -1.1119e-02,  7.5400e-03,  3.3224e-03,  3.7583e-03,\n",
            "        -1.7687e-02, -4.2904e-01,  1.3544e-02, -5.3631e-02, -8.0565e-03,\n",
            "         2.1097e-05, -1.8203e-02, -1.1868e-02, -1.9048e-02, -3.8203e-02,\n",
            "        -7.8216e-02,  1.7794e-02,  4.5972e-02, -2.5954e-03,  6.7145e-03,\n",
            "         1.3995e-02, -1.8567e-03,  4.5762e-03, -8.3179e-03,  1.4880e-02,\n",
            "         1.1218e-03, -9.4534e-03, -2.1989e-02,  1.9422e-02,  1.8292e-04,\n",
            "         1.4264e-02, -1.6131e-02, -2.1089e-02, -2.4762e-02, -6.7953e-02,\n",
            "        -2.4815e-02,  1.3076e-02,  1.1113e-01, -4.4405e-03,  1.5800e-02,\n",
            "        -1.4215e-02, -1.2814e-02, -2.4969e-02, -1.1863e-02,  4.0995e-03,\n",
            "        -1.3283e-02,  9.4003e-04,  8.0852e-03, -2.6657e-03,  2.3842e-02,\n",
            "         3.4158e-03,  1.9750e-02,  2.9199e-03, -6.9381e-02, -1.6110e-02,\n",
            "        -3.6600e-04, -3.2307e-04, -2.0372e-03, -2.3595e-03, -1.0287e-01,\n",
            "        -6.0547e-03, -5.0250e-03, -4.8962e-03, -4.1524e-03,  2.7669e-02,\n",
            "         9.8003e-03, -1.2467e-02, -2.5274e-02, -9.4793e-03, -3.2927e-03,\n",
            "        -1.4045e-02, -6.0839e-03, -2.3329e-03, -1.0618e-02, -1.7854e-02,\n",
            "        -1.4195e-02,  2.0184e-03, -1.2346e-02, -4.1138e-02, -3.3400e-02,\n",
            "         2.3084e-02,  2.3511e-03,  5.4233e-03, -1.5376e-02,  1.4678e-02,\n",
            "        -1.1727e-03, -2.6766e-02,  9.3378e-03, -2.4809e-02,  7.2492e-03,\n",
            "        -5.6012e-03,  3.4730e-03,  1.0746e-03,  2.4742e-02, -3.7858e-03],\n",
            "       requires_grad=True)\n",
            "\n",
            "flows$$$fc2_mean.weight:\n",
            "Parameter containing:\n",
            "tensor([[ 0.1055,  0.1231, -0.0278,  ...,  0.0387, -0.0842,  0.1653],\n",
            "        [ 0.1193, -0.0478,  0.0343,  ..., -0.0039, -0.1457, -0.0110],\n",
            "        [ 0.0453,  0.0541, -0.0933,  ..., -0.0728, -0.1362,  0.0180],\n",
            "        ...,\n",
            "        [-0.0478,  0.0406,  0.0083,  ...,  0.1619,  0.0286, -0.0601],\n",
            "        [-0.0696,  0.1022, -0.0037,  ..., -0.0012,  0.0501, -0.1427],\n",
            "        [ 0.0836,  0.0221, -0.0104,  ...,  0.0548,  0.0504,  0.0334]],\n",
            "       requires_grad=True)\n",
            "\n",
            "flows$$$fc2_mean.bias:\n",
            "Parameter containing:\n",
            "tensor([ 1.0968,  0.3641,  0.6406,  ..., -0.1112, -0.9236, -0.9072],\n",
            "       requires_grad=True)\n",
            "\n",
            "flows$$$fc1_var.weight:\n",
            "Parameter containing:\n",
            "tensor([[ 0.0687,  0.0629,  0.0761,  ...,  0.0956,  0.0921,  0.0977],\n",
            "        [-0.0455, -0.0277, -0.0455,  ..., -0.0640, -0.0410, -0.0357],\n",
            "        [ 0.0695,  0.0790,  0.0892,  ...,  0.0747,  0.0983,  0.0936],\n",
            "        ...,\n",
            "        [ 0.0556,  0.0648,  0.0338,  ...,  0.0307,  0.0484,  0.0562],\n",
            "        [ 0.0181,  0.0237,  0.0315,  ...,  0.0037,  0.0121,  0.0225],\n",
            "        [-0.0586, -0.0379, -0.0610,  ..., -0.0492, -0.0571, -0.0636]],\n",
            "       requires_grad=True)\n",
            "\n",
            "flows$$$fc1_var.bias:\n",
            "Parameter containing:\n",
            "tensor([ 0.0997, -0.0360,  0.0797,  0.0896,  0.0299, -0.0745, -0.0456,  0.0284,\n",
            "         0.0239, -0.0856, -0.0636,  0.0583, -0.1082,  0.0069,  0.0756,  0.0725,\n",
            "        -0.1055, -0.0923, -0.0647,  0.0917, -0.0250,  0.0791,  0.0618,  0.0207,\n",
            "         0.0061, -0.0394, -0.0162, -0.0297, -0.0293, -0.0459,  0.0290,  0.0503,\n",
            "         0.0721,  0.0305, -0.0052, -0.0286, -0.0556,  0.0083,  0.0110,  0.1135,\n",
            "         0.0371,  0.0617, -0.0178, -0.0017,  0.0686,  0.0904, -0.0164, -0.1008,\n",
            "        -0.0857, -0.0785, -0.0056,  0.0228,  0.0603, -0.0171, -0.0609,  0.0059,\n",
            "        -0.0857,  0.0127, -0.0638,  0.0752, -0.0983, -0.0921, -0.0024,  0.0627,\n",
            "         0.0224,  0.0955,  0.0224,  0.0217,  0.0956, -0.0817,  0.0290,  0.0128,\n",
            "         0.0186, -0.0742,  0.0259, -0.0260, -0.0692, -0.0042, -0.0705, -0.0705,\n",
            "        -0.0313,  0.0748,  0.0122, -0.0813,  0.0795, -0.0629,  0.0128, -0.0535,\n",
            "         0.0095, -0.0974, -0.0265,  0.0871, -0.0920, -0.0205,  0.0075,  0.0427,\n",
            "        -0.1030,  0.0569,  0.0299, -0.0253], requires_grad=True)\n",
            "\n",
            "flows$$$fc2_var.weight:\n",
            "Parameter containing:\n",
            "tensor([[-0.1145,  0.1403, -0.0914,  ...,  0.1240, -0.0339, -0.1258],\n",
            "        [-0.1438, -0.0466, -0.1694,  ..., -0.0944,  0.0448,  0.0547],\n",
            "        [-0.1333,  0.0666, -0.1278,  ...,  0.0826,  0.0705,  0.0549],\n",
            "        ...,\n",
            "        [-0.0755,  0.1709,  0.0162,  ...,  0.1634,  0.0159,  0.0059],\n",
            "        [ 0.0674, -0.0240, -0.0044,  ..., -0.0679,  0.0309,  0.1395],\n",
            "        [-0.1211,  0.0698, -0.1790,  ..., -0.0513,  0.0080, -0.0990]],\n",
            "       requires_grad=True)\n",
            "\n",
            "flows$$$fc2_var.bias:\n",
            "Parameter containing:\n",
            "tensor([-0.0050, -0.1138, -0.0086,  ..., -0.0328,  0.0392, -0.1571],\n",
            "       requires_grad=True)\n",
            "\n",
            "tau_alpha:\n",
            "tensor([[2.0153, 2.2580],\n",
            "        [2.6456, 2.2243],\n",
            "        [1.9334, 2.2228],\n",
            "        [2.2618, 2.4458],\n",
            "        [2.0444, 2.3827],\n",
            "        [2.3198, 2.1585],\n",
            "        [1.9913, 2.3053],\n",
            "        [2.0866, 2.7010],\n",
            "        [2.1808, 2.2928],\n",
            "        [2.4020, 2.2138]], requires_grad=True)\n",
            "\n",
            "tau_beta:\n",
            "tensor([[0.2035, 0.1766],\n",
            "        [0.3078, 0.1675],\n",
            "        [0.4690, 0.5715],\n",
            "        [0.3559, 0.3022],\n",
            "        [0.1353, 0.2475],\n",
            "        [0.2203, 0.1741],\n",
            "        [0.4135, 0.4203],\n",
            "        [0.5049, 0.3499],\n",
            "        [0.2877, 0.2371],\n",
            "        [0.4023, 0.4631]], grad_fn=<AddBackward0>)\n",
            "\n",
            "sig_location:\n",
            "tensor([1.5297, 1.4067], requires_grad=True)\n",
            "\n",
            "sig_scale:\n",
            "tensor([0.2954, 0.2039], grad_fn=<AddBackward0>)\n",
            "\n",
            "Z_flow_input_mean:\n",
            "tensor([[ 1.3667e-03, -1.0834e-03,  3.4368e-04,  ..., -1.4416e-03,\n",
            "         -5.4111e-04, -5.6627e-03],\n",
            "        [ 2.9295e-03,  2.5597e-03,  4.2485e-05,  ...,  4.3843e-03,\n",
            "          2.0598e-04,  2.2161e-03],\n",
            "        [-7.0665e-04, -8.8285e-03, -1.1355e-03,  ...,  5.2289e-03,\n",
            "         -1.4474e-03, -1.2776e-02],\n",
            "        ...,\n",
            "        [-2.0638e-04,  4.6892e-03,  6.0280e-04,  ..., -3.6703e-03,\n",
            "          3.3344e-03, -1.8296e-02],\n",
            "        [-1.3058e-03,  3.2073e-03, -1.2536e-03,  ..., -1.5541e-03,\n",
            "         -4.2191e-03,  5.7093e-03],\n",
            "        [ 4.1730e-03, -2.5999e-03, -1.1296e-03,  ..., -2.4611e-03,\n",
            "         -3.7370e-03, -4.9679e-03]], requires_grad=True)\n",
            "\n",
            "Z_flow_input_var:\n",
            "tensor([[0.9597, 1.0805, 1.0513,  ..., 0.9552, 1.0860, 1.0395],\n",
            "        [0.9874, 0.9234, 1.0806,  ..., 0.8921, 1.0523, 1.0980],\n",
            "        [0.9752, 0.9273, 1.0302,  ..., 0.9621, 1.0656, 1.0627],\n",
            "        ...,\n",
            "        [1.0561, 0.9330, 0.9566,  ..., 1.0253, 1.0843, 1.0412],\n",
            "        [1.0344, 1.0663, 1.0829,  ..., 1.0113, 1.0906, 0.9105],\n",
            "        [1.0511, 0.9439, 0.9796,  ..., 0.9825, 1.0558, 1.0615]],\n",
            "       requires_grad=True)\n",
            "\n",
            "W1_mean:\n",
            "tensor([[ 0.6680, -0.8803, -0.0301, -0.3369,  2.1751, -0.1869, -0.1785,  0.6372,\n",
            "         -1.5414, -0.8209],\n",
            "        [ 0.9384, -0.1247,  0.1383,  0.1424, -0.1842, -0.3521, -0.1660, -0.0850,\n",
            "         -0.2452,  0.0606],\n",
            "        [-0.7755,  0.7414, -0.5026, -0.6072,  1.5207,  1.7806,  1.1106,  0.7594,\n",
            "         -0.8287, -0.6866],\n",
            "        [ 2.4382,  1.1907, -0.0962,  0.7461,  0.5977,  1.9343,  0.8491,  0.0760,\n",
            "          0.8420,  0.3049],\n",
            "        [ 4.7814, -0.3426,  0.5950,  1.2427, -2.2913, -2.0198, -1.1639, -0.9318,\n",
            "          0.2717,  1.0632],\n",
            "        [-1.1208,  0.1348, -0.1075, -1.2509, -3.6065, -2.0300, -0.1603, -0.3194,\n",
            "         -2.6740, -0.1587]], requires_grad=True)\n",
            "\n",
            "W2_mean:\n",
            "tensor([[-1.7755, -2.5669,  0.1468, -1.2036,  1.2193, -2.6830, -1.1687,  0.4176,\n",
            "         -2.7457, -1.2402],\n",
            "        [-0.1292,  0.7155, -0.1032,  0.4881,  1.5988,  2.0412,  0.6530,  0.2527,\n",
            "          1.5124,  0.1192],\n",
            "        [ 1.8984, -0.8805,  0.4563,  0.4985, -1.2113, -1.9713, -1.0447, -0.5401,\n",
            "         -0.1356,  0.5387],\n",
            "        [-0.1383,  0.9573, -0.1550,  0.2550,  0.2495,  1.4784,  0.6114,  0.0620,\n",
            "          1.0188,  0.2214],\n",
            "        [ 1.1571, -1.7863,  0.4623, -0.1413, -1.5556, -3.3876, -1.4895, -0.4728,\n",
            "         -1.6366,  0.0463],\n",
            "        [ 2.6769, -1.2510,  0.6467,  0.7895, -0.9107, -2.2863, -1.2874, -0.6166,\n",
            "          0.0682,  0.6306],\n",
            "        [ 0.4354,  1.3349, -0.0214,  0.0388, -3.1404, -0.2121,  0.3015, -0.5677,\n",
            "          0.0767,  0.7243],\n",
            "        [ 3.9442, -0.4719,  0.6379,  1.6257, -0.4182, -0.8830, -0.8987, -0.6912,\n",
            "          1.6746,  1.1329]], requires_grad=True)\n",
            "\n"
          ],
          "name": "stdout"
        }
      ]
    },
    {
      "cell_type": "code",
      "metadata": {
        "id": "RZ1akwkfakmd",
        "colab_type": "code",
        "colab": {}
      },
      "source": [
        "samples_dic = Predictive(bcca_flows.model, guide=bcca_flows.guide_flexible, num_samples=1000)(data)\n",
        "Z_hat = samples_dic['Z'].mean(0) \n",
        "tau_hat = samples_dic['tau'].mean(0)\n",
        "sig_hat = samples_dic['sig'].mean(0) \n",
        "W1_hat = samples_dic['W1'].mean(0)\n",
        "W2_hat = samples_dic['W2'].mean(0)"
      ],
      "execution_count": 0,
      "outputs": []
    },
    {
      "cell_type": "code",
      "metadata": {
        "id": "TZbCAnaAKc_p",
        "colab_type": "code",
        "outputId": "2873e3b5-f726-4d6f-bb45-b257f7c9e0a8",
        "colab": {
          "base_uri": "https://localhost:8080/",
          "height": 306
        }
      },
      "source": [
        "# error\n",
        "# reconstruct datasets\n",
        "X_1_hat = torch.mm(W1_hat, Z_hat) # D[0]*N\n",
        "X_2_hat = torch.mm(W2_hat, Z_hat) # D[1]*N\n",
        "print(\"Reconstruction loss on shared components - MSE\")\n",
        "X_1_shared_loss = np.mean((np.transpose(np.matmul(A_1, Z_shared)) - np.transpose(X_1_hat.detach().numpy()))**2)\n",
        "print(\"X_1_shared_loss: \", X_1_shared_loss)\n",
        "X_2_shared_loss = np.mean((np.transpose(np.matmul(A_2, Z_shared)) - np.transpose(X_2_hat.detach().numpy()))**2)\n",
        "print(\"X_2_shared_loss: \", X_2_shared_loss)\n",
        "print(\"Automatic relevance detection (ARD) \")\n",
        "print(\"Large tau == irrelevant latent component for dataset\")\n",
        "print(\"Sections 4.1, 4.2\")\n",
        "print(tau_hat)\n",
        "print(sig_hat)"
      ],
      "execution_count": 135,
      "outputs": [
        {
          "output_type": "stream",
          "text": [
            "Reconstruction loss on shared components - MSE\n",
            "X_1_shared_loss:  3.847743505741707\n",
            "X_2_shared_loss:  3.1813673615422347\n",
            "Automatic relevance detection (ARD) \n",
            "Large tau == irrelevant latent component for dataset\n",
            "Sections 4.1, 4.2\n",
            "tensor([[ 7.6535,  9.6853],\n",
            "        [14.7279,  9.3066],\n",
            "        [ 7.7964, 10.7711],\n",
            "        [10.1691, 11.9627],\n",
            "        [ 7.8110, 11.1883],\n",
            "        [10.4938,  8.7672],\n",
            "        [ 7.9805, 10.9739],\n",
            "        [ 9.5203, 16.0635],\n",
            "        [ 9.1619, 10.2057],\n",
            "        [11.7940,  9.9497]], grad_fn=<MeanBackward1>)\n",
            "tensor([4.8139, 4.1565], grad_fn=<MeanBackward1>)\n"
          ],
          "name": "stdout"
        }
      ]
    }
  ]
}